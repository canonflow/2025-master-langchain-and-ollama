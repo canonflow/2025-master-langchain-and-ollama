{
 "cells": [
  {
   "metadata": {},
   "cell_type": "markdown",
   "source": [
    "## LLM Prompt Templates\n",
    "\n",
    "| Role | Description |\n",
    "| ---- | ----------- |\n",
    "| system | Used to tell the chat model how to behave and provide additional context. Not supported by all chat model providers. |\n",
    "| user | Represents input from a user interacting with the model, usually in the form of text or other interactive input. |\n",
    "| assistant | Represents a response from the model, which can include text or a request to invoke tools. |\n",
    "| tool | A message used to pass the results of a tool invocation back to the model after external data or processing has been retrieved. Used with chat models that support tool calling. |\n",
    "| function (legacy) | This is a legacy role, corresponding to OpenAI's legacy function-calling API. tool role should be used instead. |\n",
    "\n",
    "<br />\n",
    "\n",
    "## Langchain Message Types\n",
    "| Message Type | Corresponding Role | Description |\n",
    "| ------------ | ------------------ | ----------- |\n",
    "| SystemMessage | system | \tCorresponds to the system role. |\n",
    "| HumanMessage | user | Corresponds to the user role. |\n",
    "| AIMessage | assistant | Corresponds to the assistant role. |\n",
    "| AIMessageChunk | assistant | \tCorresponds to the assistant role, used for streaming responses. |\n",
    "| ToolMessage | tool | Corresponds to the tool role. |"
   ],
   "id": "ebb679f5b7ad3a2e"
  },
  {
   "metadata": {
    "ExecuteTime": {
     "end_time": "2025-07-21T15:26:20.917872Z",
     "start_time": "2025-07-21T15:26:20.897973Z"
    }
   },
   "cell_type": "code",
   "source": [
    "from dotenv import load_dotenv\n",
    "import os\n",
    "\n",
    "load_dotenv('./../.env')"
   ],
   "id": "57a8c7a68306e121",
   "outputs": [
    {
     "data": {
      "text/plain": [
       "True"
      ]
     },
     "execution_count": 1,
     "metadata": {},
     "output_type": "execute_result"
    }
   ],
   "execution_count": 1
  },
  {
   "metadata": {
    "ExecuteTime": {
     "end_time": "2025-07-21T15:37:30.845620Z",
     "start_time": "2025-07-21T15:37:28.976728Z"
    }
   },
   "cell_type": "code",
   "source": [
    "from langchain_ollama import ChatOllama\n",
    "\n",
    "base_url = os.getenv('OLLAMA_BASE_URL')\n",
    "model_name = \"llama3.2:latest\"\n",
    "\n",
    "llm = ChatOllama(\n",
    "    base_url=base_url,\n",
    "    model=model_name,\n",
    ")"
   ],
   "id": "fd07d1a8bcbcecf",
   "outputs": [],
   "execution_count": 2
  },
  {
   "metadata": {
    "ExecuteTime": {
     "end_time": "2025-07-21T15:38:31.818569Z",
     "start_time": "2025-07-21T15:38:11.523220Z"
    }
   },
   "cell_type": "code",
   "source": [
    "question = \"tell me about the earth in 3 points\"\n",
    "response = llm.invoke(question)\n",
    "print(response.content)"
   ],
   "id": "cac6a095baa616f8",
   "outputs": [
    {
     "name": "stdout",
     "output_type": "stream",
     "text": [
      "Here are three key points about our planet, Earth:\n",
      "\n",
      "1. **Unique Composition**: The Earth is a terrestrial planet with a unique composition that allows it to support life. It has approximately 71% of its surface covered by water, and its atmosphere is composed of 78% nitrogen, 21% oxygen, and 1% other gases.\n",
      "\n",
      "2. **Host to Diverse Life Forms**: The Earth's diverse geology, climate, and oceans have given rise to a wide range of life forms on the planet, from simple microorganisms to complex ecosystems, including forests, grasslands, deserts, and more. This diversity is due in part to the Earth's history of volcanic activity, plate tectonics, and changes in its atmosphere.\n",
      "\n",
      "3. **Vulnerable to Climate Change**: The Earth is facing numerous environmental challenges, including climate change, deforestation, pollution, and species extinction. Human activities such as burning fossil fuels, deforestation, and industrial agriculture are releasing large amounts of greenhouse gases into the atmosphere, leading to global warming and associated impacts on ecosystems, sea levels, and weather patterns.\n"
     ]
    }
   ],
   "execution_count": 3
  },
  {
   "metadata": {},
   "cell_type": "markdown",
   "source": "## Langchain Messages",
   "id": "4c05dc6073079983"
  },
  {
   "metadata": {
    "ExecuteTime": {
     "end_time": "2025-07-21T15:43:02.151480Z",
     "start_time": "2025-07-21T15:43:02.148576Z"
    }
   },
   "cell_type": "code",
   "source": "from langchain_core.messages import SystemMessage, HumanMessage",
   "id": "a7744ad17b6180a6",
   "outputs": [],
   "execution_count": 4
  },
  {
   "metadata": {
    "ExecuteTime": {
     "end_time": "2025-07-21T15:45:24.808303Z",
     "start_time": "2025-07-21T15:45:24.343778Z"
    }
   },
   "cell_type": "code",
   "source": [
    "base_url = os.getenv('OLLAMA_BASE_URL')\n",
    "model_name = \"llama3.2:latest\"\n",
    "\n",
    "llm = ChatOllama(\n",
    "    base_url=base_url,\n",
    "    model=model_name,\n",
    ")"
   ],
   "id": "f6042365175a6769",
   "outputs": [],
   "execution_count": 6
  },
  {
   "metadata": {},
   "cell_type": "markdown",
   "source": "### Elementary Teacher",
   "id": "cd2ea71f6845ef05"
  },
  {
   "metadata": {
    "ExecuteTime": {
     "end_time": "2025-07-21T15:46:37.365491Z",
     "start_time": "2025-07-21T15:46:34.142139Z"
    }
   },
   "cell_type": "code",
   "source": [
    "question = HumanMessage(\"tell me about the earth in 3 points\")\n",
    "system = SystemMessage(\"You are elementary teacher. You answer in short sentences.\")\n",
    "messages = [system, question]\n",
    "\n",
    "response = llm.invoke(messages)\n",
    "print(response.content)"
   ],
   "id": "ff4b3b512080fc33",
   "outputs": [
    {
     "name": "stdout",
     "output_type": "stream",
     "text": [
      "Here are three key points about our Earth:\n",
      "\n",
      "1. The Earth is a beautiful blue planet, home to many different countries and living things.\n",
      "2. It rotates on its side, which creates day and night as it moves around the sun.\n",
      "3. Our Earth is special because it has air, water, and land that support all kinds of life and plants.\n"
     ]
    }
   ],
   "execution_count": 8
  },
  {
   "metadata": {},
   "cell_type": "markdown",
   "source": "### Phd Professor",
   "id": "a33c3c4b6a3c27ec"
  },
  {
   "metadata": {
    "ExecuteTime": {
     "end_time": "2025-07-21T15:46:34.141137Z",
     "start_time": "2025-07-21T15:46:22.336433Z"
    }
   },
   "cell_type": "code",
   "source": [
    "question = HumanMessage(\"tell me about the earth in 3 points\")\n",
    "system = SystemMessage(\"You are Phd Professor. You answer in scientific logic and sentences.\")\n",
    "messages = [system, question]\n",
    "\n",
    "response = llm.invoke(messages)\n",
    "print(response.content)"
   ],
   "id": "5183b6b92140193a",
   "outputs": [
    {
     "name": "stdout",
     "output_type": "stream",
     "text": [
      "Based on empirical evidence and theoretical frameworks, I can provide the following three key points regarding the Earth:\n",
      "\n",
      "1. **Terrestrial Composition**: The Earth is primarily composed of iron (~30%), oxygen (~25%), silicon (~15%), magnesium (~13%), nickel (~2%), calcium (~4%), and aluminum (~3%) by weight (Source: NASA). This geochemical composition gives rise to its solid core, mantle, crust, and various geological processes.\n",
      "\n",
      "2. **Planetary Dynamics**: The Earth's mass distribution is governed by the laws of gravitation and Newtonian mechanics. With a diameter of approximately 12,742 kilometers and a mass of 5.972 x 10^24 kilograms, the Earth's rotational velocity (1,674 km/h) and orbital velocity around the Sun (~29.78 km/s) contribute to its unique environmental and astronomical characteristics.\n",
      "\n",
      "3. **Ecological Resilience**: The Earth's biosphere, encompassing diverse ecosystems and species, exhibits a remarkable capacity for resilience in the face of various disturbances, including climate change, geological events, and anthropogenic impacts (Source: IPCC). Understanding and predicting these dynamics is crucial for mitigating human-induced disruptions and conserving global biodiversity.\n"
     ]
    }
   ],
   "execution_count": 7
  },
  {
   "metadata": {},
   "cell_type": "markdown",
   "source": [
    "## Langchain Prompt Templates\n",
    "\n",
    "| Prompt Template Class | Description |\n",
    "| --------------------- | ----------- |\n",
    "| SystemMessagePromptTemplate | Template for generating system messages that provide model context or instructions. |\n",
    "| HumanMessagePromptTemplate | Template for generating user (human) messages, representing user input or questions. |\n",
    "| AIMessagePromptTemplate | Template for generating AI messages, representing responses from the assistant. |\n",
    "| PromptTemplate | Basic template class for creating prompts with static text and variable placeholders. |\n",
    "| ChatPromptTemplate | Template for creating prompts with a sequence of message types (e.g., system, user, assistant) in a chat format. |"
   ],
   "id": "bad15b17038db4be"
  },
  {
   "metadata": {
    "ExecuteTime": {
     "end_time": "2025-07-21T15:59:03.612142Z",
     "start_time": "2025-07-21T15:59:03.564150Z"
    }
   },
   "cell_type": "code",
   "source": [
    "from langchain_core.prompts import (\n",
    "    SystemMessagePromptTemplate,\n",
    "    HumanMessagePromptTemplate,\n",
    "    PromptTemplate,\n",
    "    ChatPromptTemplate\n",
    ")"
   ],
   "id": "3e08a9eee749e032",
   "outputs": [],
   "execution_count": 9
  },
  {
   "metadata": {
    "ExecuteTime": {
     "end_time": "2025-07-21T16:08:44.921054Z",
     "start_time": "2025-07-21T16:08:44.917022Z"
    }
   },
   "cell_type": "code",
   "source": [
    "question = HumanMessagePromptTemplate.from_template(\"Tell me about {topics} in {points} points\")\n",
    "system = SystemMessagePromptTemplate.from_template(\"You are {school} teacher. You answer in scientific logic and sentences.\")"
   ],
   "id": "c4a48817fc733ada",
   "outputs": [],
   "execution_count": 32
  },
  {
   "metadata": {
    "ExecuteTime": {
     "end_time": "2025-07-21T16:19:25.017362Z",
     "start_time": "2025-07-21T16:19:25.012967Z"
    }
   },
   "cell_type": "code",
   "source": [
    "question_inputs = {\n",
    "    \"topics\": \"sun\",\n",
    "    \"points\": 5\n",
    "}\n",
    "\n",
    "# question.format(topics=\"sun\", points=5)\n",
    "formatted_question = question.format(**question_inputs)\n",
    "formatted_question\n",
    "formatted_question"
   ],
   "id": "d241ed89bf467cd9",
   "outputs": [
    {
     "data": {
      "text/plain": [
       "HumanMessage(content='Tell me about sun in 5 points', additional_kwargs={}, response_metadata={})"
      ]
     },
     "execution_count": 50,
     "metadata": {},
     "output_type": "execute_result"
    }
   ],
   "execution_count": 50
  },
  {
   "metadata": {
    "ExecuteTime": {
     "end_time": "2025-07-21T16:19:36.300238Z",
     "start_time": "2025-07-21T16:19:36.295481Z"
    }
   },
   "cell_type": "code",
   "source": [
    "system_inputs = {\n",
    "    \"school\": \"phd\"\n",
    "}\n",
    "\n",
    "formatted_system = system.format(**system_inputs)\n",
    "formatted_system"
   ],
   "id": "e78ce425c31eafdc",
   "outputs": [
    {
     "data": {
      "text/plain": [
       "SystemMessage(content='You are phd teacher. You answer in scientific logic and sentences.', additional_kwargs={}, response_metadata={})"
      ]
     },
     "execution_count": 52,
     "metadata": {},
     "output_type": "execute_result"
    }
   ],
   "execution_count": 52
  },
  {
   "metadata": {},
   "cell_type": "markdown",
   "source": [
    "### Option 1: Using unformatted HumanMessage and SystemMessage\n",
    "1. Just using default HumanMessage and SystemMessage **without** formatting\n",
    "2. Pass both of messages into ChatPromptTemplate\n",
    "3. invoke the ChatPromptTemplate with the values of each parameter\n",
    "4. Run the LLM using invoked templates"
   ],
   "id": "f97d8fe8cda4e504"
  },
  {
   "metadata": {
    "ExecuteTime": {
     "end_time": "2025-07-21T16:19:56.969540Z",
     "start_time": "2025-07-21T16:19:43.500377Z"
    }
   },
   "cell_type": "code",
   "source": [
    "# Make a list of System And Human Message\n",
    "messages = [system, question]\n",
    "\n",
    "# Make ChatPromptTemplate from array of messages\n",
    "template = ChatPromptTemplate(messages)\n",
    "\n",
    "# Invoke the values into template\n",
    "final_question = template.invoke({**system_inputs, **question_inputs})\n",
    "\n",
    "# Run LLM with final question\n",
    "response = llm.invoke(final_question)\n",
    "print(response.content)"
   ],
   "id": "9abe385e3378ef57",
   "outputs": [
    {
     "name": "stdout",
     "output_type": "stream",
     "text": [
      "Here are five key points regarding the Sun, presented with a scientific perspective:\n",
      "\n",
      "1. **Composition**: The Sun is a G-type main-sequence star (G2V) composed primarily of hydrogen (~75%) and helium (~24%), with trace amounts of heavier elements. Its core is incredibly hot, with temperatures reaching approximately 15 million degrees Celsius.\n",
      "\n",
      "2. **Energy Emission**: The Sun emits an enormous amount of energy in the form of electromagnetic radiation, including visible light (approximately 40% of its total emission), ultraviolet radiation, and X-rays. This energy is generated through nuclear reactions in its core, where hydrogen atoms are fused to form helium, releasing vast amounts of energy.\n",
      "\n",
      "3. **Size and Mass**: The Sun has a diameter of approximately 1,392,684 kilometers (865,374 miles) and a mass of approximately 2 x 10^30 kilograms, making it the largest object in our solar system. Its massive size and gravitational pull hold the planets in their orbits around it.\n",
      "\n",
      "4. **Surface Temperature**: The Sun's surface temperature is about 5,500 degrees Celsius (9,932 degrees Fahrenheit), which is what we perceive as daylight on Earth. However, its core temperature is estimated to be approximately 15 million degrees Celsius.\n",
      "\n",
      "5. **Life-Sustaining Properties**: The Sun's energy is crucial for life on Earth, providing the necessary radiation for photosynthesis and driving climate patterns. Its stable energy output allows us to maintain a habitable environment, making it an essential component of our planet's ecosystem.\n"
     ]
    }
   ],
   "execution_count": 53
  },
  {
   "metadata": {},
   "cell_type": "markdown",
   "source": [
    "### Option 2: Using formatted HumanMessage and SystemMessage\n",
    "1. Using formatted System and Human Messages\n",
    "2. Run the LLM with messages"
   ],
   "id": "3deaa326172a4fdb"
  },
  {
   "metadata": {
    "ExecuteTime": {
     "end_time": "2025-07-21T16:30:08.040445Z",
     "start_time": "2025-07-21T16:29:55.236322Z"
    }
   },
   "cell_type": "code",
   "source": [
    "# Make a list of Formatted System And Human Message\n",
    "formatted_messages = [formatted_system, formatted_question]\n",
    "\n",
    "# Make ChatPromptTemplate from array of formatted messages\n",
    "# formatted_template = ChatPromptTemplate(formatted_messages)\n",
    "\n",
    "# Get the messages from formatted template\n",
    "# formatted_final_question = formatted_template.messages\n",
    "\n",
    "# Run LLM with final question\n",
    "formatted_response = llm.invoke(formatted_messages)\n",
    "print(formatted_response.content)"
   ],
   "id": "1dc08265e35e570a",
   "outputs": [
    {
     "name": "stdout",
     "output_type": "stream",
     "text": [
      "Here are five key points regarding the Sun, framed within a scientific context:\n",
      "\n",
      "1. **Heliocentric Distance**: The Sun is located at the center of our solar system, with an average distance of approximately 149.6 million kilometers (92.96 million miles) from Earth, forming the foundation of our heliocentric model.\n",
      "\n",
      "2. **Nuclear Fusion Process**: At its core, the Sun undergoes nuclear fusion, where hydrogen atoms are fused together to form helium, releasing vast amounts of energy in the process, resulting in an estimated 3.8 x 10^26 watts of power output.\n",
      "\n",
      "3. **Solar Radiation**: The Sun emits a broad spectrum of electromagnetic radiation, including visible light (approximately 44% of the total output), ultraviolet (UV) radiation, and X-rays, with varying intensities affecting Earth's climate, atmospheric chemistry, and life forms.\n",
      "\n",
      "4. **Stellar Classification**: Based on its surface temperature (approximately 5,500 degrees Celsius), the Sun is classified as a G-type main-sequence star, or G2V, falling within the G-dwarf branch of the Hertzsprung-Russell diagram, which categorizes stars by their luminosity and surface temperature.\n",
      "\n",
      "5. **Stellar Evolution**: The Sun's mass and composition indicate it has about 4.6 billion years remaining before exhausting its fuel reserves, at which point it will expand into a red giant, eventually shedding its outer layers to form a planetary nebula, marking the end of its main-sequence life cycle.\n"
     ]
    }
   ],
   "execution_count": 62
  }
 ],
 "metadata": {
  "kernelspec": {
   "display_name": "Python 3",
   "language": "python",
   "name": "python3"
  },
  "language_info": {
   "codemirror_mode": {
    "name": "ipython",
    "version": 2
   },
   "file_extension": ".py",
   "mimetype": "text/x-python",
   "name": "python",
   "nbconvert_exporter": "python",
   "pygments_lexer": "ipython2",
   "version": "2.7.6"
  }
 },
 "nbformat": 4,
 "nbformat_minor": 5
}
