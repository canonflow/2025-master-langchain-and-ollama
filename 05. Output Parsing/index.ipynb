{
 "cells": [
  {
   "metadata": {},
   "cell_type": "markdown",
   "source": [
    "## Output Parsing\n",
    "Language models output text. But there are times when you want to get more structured information than just text back.\n",
    "Output parsers are classes that **help structure language model responses**. There are **two main methods** an output parser **must implement**:\n",
    "\n",
    "- **Get format instructions**: A method which returns a **string containing instruction** for how the output of a language model **should be formatted**.\n",
    "- **Parse**: A method which **takes in a string** (assumed to be the response from a language model) and **parses it** into **some structure**.\n",
    "\n",
    "- Output Parsing:\n",
    "    - StrOutputParser\n",
    "    - JsonOutputParser\n",
    "    - CSVOutputParser\n",
    "    - DatetimeOutputParser\n",
    "    - StructuredOutputParser (Pydantic or Json)  "
   ],
   "id": "8b5a6f95cfeb4f64"
  },
  {
   "metadata": {
    "ExecuteTime": {
     "end_time": "2025-07-23T06:04:14.489653Z",
     "start_time": "2025-07-23T06:04:12.852066Z"
    }
   },
   "cell_type": "code",
   "source": [
    "from dotenv import load_dotenv\n",
    "import os\n",
    "from langchain_core.prompts import (\n",
    "    SystemMessagePromptTemplate,\n",
    "    HumanMessagePromptTemplate,\n",
    "    PromptTemplate,\n",
    "    ChatPromptTemplate\n",
    ")\n",
    "from langchain_ollama import ChatOllama\n",
    "\n",
    "load_dotenv(\"./../.env\")\n",
    "\n",
    "base_url = os.getenv(\"OLLAMA_BASE_URL\")\n",
    "model = \"llama3.2:latest\"\n",
    "\n",
    "llm = ChatOllama(\n",
    "    base_url=base_url,\n",
    "    model=model,\n",
    ")\n",
    "llm"
   ],
   "id": "dca903247e65e2a3",
   "outputs": [
    {
     "data": {
      "text/plain": [
       "ChatOllama(model='llama3.2:latest', base_url='http://localhost:11434')"
      ]
     },
     "execution_count": 1,
     "metadata": {},
     "output_type": "execute_result"
    }
   ],
   "execution_count": 1
  },
  {
   "metadata": {},
   "cell_type": "markdown",
   "source": "### `Pydantic` Output Parser",
   "id": "ae143b2b10f701ab"
  },
  {
   "metadata": {},
   "cell_type": "markdown",
   "source": "#### LLM -> AI Message -> Pydantic Class -> [BaseModel, Joke(BaseModel)]",
   "id": "bcc00b2f985e2e00"
  },
  {
   "cell_type": "code",
   "id": "initial_id",
   "metadata": {
    "collapsed": true,
    "ExecuteTime": {
     "end_time": "2025-07-23T06:08:22.637665Z",
     "start_time": "2025-07-23T06:08:22.633945Z"
    }
   },
   "source": [
    "from typing import Optional\n",
    "from pydantic import BaseModel, Field\n",
    "from langchain_core.output_parsers import PydanticOutputParser"
   ],
   "outputs": [],
   "execution_count": 3
  },
  {
   "metadata": {
    "ExecuteTime": {
     "end_time": "2025-07-23T06:20:21.696546Z",
     "start_time": "2025-07-23T06:20:21.687585Z"
    }
   },
   "cell_type": "code",
   "source": [
    "class Joke(BaseModel):\n",
    "    \"\"\"Joke to tell user\"\"\"\n",
    "    \n",
    "    setup: str = Field(description=\"The setup of the joke\")\n",
    "    punchline: str = Field(description=\"The punchline of the joke\")\n",
    "    rating: Optional[int] = Field(description=\"The rating of the joke is from 1 to 10\")"
   ],
   "id": "152cc14daa71adfb",
   "outputs": [],
   "execution_count": 5
  },
  {
   "metadata": {
    "ExecuteTime": {
     "end_time": "2025-07-23T06:20:23.130344Z",
     "start_time": "2025-07-23T06:20:23.121313Z"
    }
   },
   "cell_type": "code",
   "source": [
    "# Init the PydanticOutputParser\n",
    "parser = PydanticOutputParser(\n",
    "    pydantic_object=Joke,\n",
    ")\n",
    "parser"
   ],
   "id": "aada97724956294f",
   "outputs": [
    {
     "data": {
      "text/plain": [
       "PydanticOutputParser(pydantic_object=<class '__main__.Joke'>)"
      ]
     },
     "execution_count": 6,
     "metadata": {},
     "output_type": "execute_result"
    }
   ],
   "execution_count": 6
  },
  {
   "metadata": {
    "ExecuteTime": {
     "end_time": "2025-07-23T06:21:24.822284Z",
     "start_time": "2025-07-23T06:21:24.814765Z"
    }
   },
   "cell_type": "code",
   "source": [
    "# Get the instruction of the parser\n",
    "instruction = parser.get_format_instructions()\n",
    "print(instruction)"
   ],
   "id": "2b494f2676219b09",
   "outputs": [
    {
     "name": "stdout",
     "output_type": "stream",
     "text": [
      "The output should be formatted as a JSON instance that conforms to the JSON schema below.\n",
      "\n",
      "As an example, for the schema {\"properties\": {\"foo\": {\"title\": \"Foo\", \"description\": \"a list of strings\", \"type\": \"array\", \"items\": {\"type\": \"string\"}}}, \"required\": [\"foo\"]}\n",
      "the object {\"foo\": [\"bar\", \"baz\"]} is a well-formatted instance of the schema. The object {\"properties\": {\"foo\": [\"bar\", \"baz\"]}} is not well-formatted.\n",
      "\n",
      "Here is the output schema:\n",
      "```\n",
      "{\"description\": \"Joke to tell user\", \"properties\": {\"setup\": {\"description\": \"The setup of the joke\", \"title\": \"Setup\", \"type\": \"string\"}, \"punchline\": {\"description\": \"The punchline of the joke\", \"title\": \"Punchline\", \"type\": \"string\"}, \"rating\": {\"anyOf\": [{\"type\": \"integer\"}, {\"type\": \"null\"}], \"description\": \"The rating of the joke is from 1 to 10\", \"title\": \"Rating\"}}, \"required\": [\"setup\", \"punchline\", \"rating\"]}\n",
      "```\n"
     ]
    }
   ],
   "execution_count": 8
  },
  {
   "metadata": {
    "ExecuteTime": {
     "end_time": "2025-07-23T06:33:08.695292Z",
     "start_time": "2025-07-23T06:33:08.691204Z"
    }
   },
   "cell_type": "code",
   "source": [
    "prompt = PromptTemplate(\n",
    "    template=\"\"\"\n",
    "    Answer the user query with a joke. Here is your formatting instruction.\n",
    "    {format_instruction}\n",
    "    \n",
    "    Query: {query}\n",
    "    Answer:\n",
    "    \"\"\",\n",
    "    input_variables=['query'],  # The variables that must have value from input\n",
    "    partial_variables={'format_instruction': instruction},  # Some values required by the prompt templates are available beforehand\n",
    ")"
   ],
   "id": "46edc3cdb0b3a884",
   "outputs": [],
   "execution_count": 11
  },
  {
   "metadata": {
    "ExecuteTime": {
     "end_time": "2025-07-23T06:38:05.611883Z",
     "start_time": "2025-07-23T06:38:02.167240Z"
    }
   },
   "cell_type": "code",
   "source": [
    "chain = prompt | llm\n",
    "output = chain.invoke({\n",
    "    \"query\": \"Tell me a joke about the cat.\",\n",
    "})\n",
    "print(output.content)"
   ],
   "id": "e87d0d7d33a80248",
   "outputs": [
    {
     "name": "stdout",
     "output_type": "stream",
     "text": [
      "{\"setup\": \"Why did the cat join a band?\", \"punchline\": \"Because it wanted to be the purr-cussionist!\", \"rating\": 8}\n"
     ]
    }
   ],
   "execution_count": 18
  },
  {
   "metadata": {
    "ExecuteTime": {
     "end_time": "2025-07-23T06:38:06.565543Z",
     "start_time": "2025-07-23T06:38:05.612882Z"
    }
   },
   "cell_type": "code",
   "source": [
    "# Using PydanticParser to produce the output properly\n",
    "chain = prompt | llm | parser\n",
    "\n",
    "output = chain.invoke({\n",
    "    \"query\": \"Tell me a joke about the dog.\",\n",
    "})\n",
    "print(output)"
   ],
   "id": "ab3fe03f7e299297",
   "outputs": [
    {
     "name": "stdout",
     "output_type": "stream",
     "text": [
      "setup='Why did the dog go to the vet?' punchline='Because he was feeling ruff!' rating=8\n"
     ]
    }
   ],
   "execution_count": 19
  },
  {
   "metadata": {},
   "cell_type": "markdown",
   "source": [
    "### Parsing with `.with_structured_output()` Method\n",
    "- This method takes **a schema as input** which specifies the names, types, and description of the desired output attributes\n",
    "- The schema can be specified as a TypeDict class, JSON Schema, or a Pydantic class.\n",
    "\n",
    "\n",
    "<br/>\n",
    "\n",
    "\n",
    "##### Modify the original LLM\n",
    "##### Later on it can create a problem if you chain this with the other runnables"
   ],
   "id": "4c430bf1e62e0e90"
  },
  {
   "metadata": {
    "ExecuteTime": {
     "end_time": "2025-07-23T06:42:17.903359Z",
     "start_time": "2025-07-23T06:42:15.194210Z"
    }
   },
   "cell_type": "code",
   "source": [
    "output = llm.invoke(\"Tell me a joke about the bird\")\n",
    "print(output.content)"
   ],
   "id": "dd1e96e9f1e19ff2",
   "outputs": [
    {
     "name": "stdout",
     "output_type": "stream",
     "text": [
      "Why did the bird go to the doctor?\n",
      "\n",
      "Because it had a fowl cough! (get it?)\n"
     ]
    }
   ],
   "execution_count": 22
  },
  {
   "metadata": {
    "ExecuteTime": {
     "end_time": "2025-07-23T06:43:18.080826Z",
     "start_time": "2025-07-23T06:43:18.033739Z"
    }
   },
   "cell_type": "code",
   "source": "structured_llm =  llm.with_structured_output(Joke)",
   "id": "bfa3713fe6fb61fa",
   "outputs": [],
   "execution_count": 23
  },
  {
   "metadata": {
    "ExecuteTime": {
     "end_time": "2025-07-23T06:43:47.756262Z",
     "start_time": "2025-07-23T06:43:44.162799Z"
    }
   },
   "cell_type": "code",
   "source": [
    "output = structured_llm.invoke(\"Tell me a joke about the bird\")\n",
    "print(output)"
   ],
   "id": "35b35d27d56c75a0",
   "outputs": [
    {
     "name": "stdout",
     "output_type": "stream",
     "text": [
      "setup=\"A bird walked into a doctor's office and said...\" punchline='Why did the bird go to the doctor? Because it had a fowl cough.' rating=8\n"
     ]
    }
   ],
   "execution_count": 24
  },
  {
   "metadata": {},
   "cell_type": "markdown",
   "source": [
    "### JSON Output Parser\n",
    "- Output parsers accept a **string** or **BaseMessage** as input and can be return an arbitrary type."
   ],
   "id": "29408599abb47141"
  },
  {
   "metadata": {
    "ExecuteTime": {
     "end_time": "2025-07-23T06:50:12.501117Z",
     "start_time": "2025-07-23T06:50:12.497471Z"
    }
   },
   "cell_type": "code",
   "source": [
    "from langchain_core.output_parsers import JsonOutputParser\n",
    "\n",
    "json_parser = JsonOutputParser(pydantic_object=Joke)\n",
    "instruction = json_parser.get_format_instructions()"
   ],
   "id": "6c7f0f427f83bc32",
   "outputs": [],
   "execution_count": 26
  },
  {
   "metadata": {
    "ExecuteTime": {
     "end_time": "2025-07-23T06:50:58.685899Z",
     "start_time": "2025-07-23T06:50:51.372416Z"
    }
   },
   "cell_type": "code",
   "source": [
    "prompt = PromptTemplate(\n",
    "    template=\"\"\"\n",
    "    Answer the user query with a joke. Here is your formatting instruction.\n",
    "    {format_instruction}\n",
    "    \n",
    "    Query: {query}\n",
    "    Answer:\n",
    "    \"\"\",\n",
    "    input_variables=['query'],  # The variables that must have value from input\n",
    "    partial_variables={'format_instruction': instruction},  # Some values required by the prompt templates are available beforehand\n",
    ")\n",
    "\n",
    "chain = prompt | llm \n",
    "output = chain.invoke({\n",
    "    \"query\": \"Tell me a joke about the crocodile\"\n",
    "})\n",
    "\n",
    "print(output.content)"
   ],
   "id": "717e67eca4c662a4",
   "outputs": [
    {
     "name": "stdout",
     "output_type": "stream",
     "text": [
      "{\"setup\": \"Why did the crocodile go to the party?\", \"punchline\": \"Because he was a snappy dresser!\", \"rating\": 8}\n"
     ]
    }
   ],
   "execution_count": 28
  },
  {
   "metadata": {
    "ExecuteTime": {
     "end_time": "2025-07-23T06:51:39.525151Z",
     "start_time": "2025-07-23T06:51:36.102195Z"
    }
   },
   "cell_type": "code",
   "source": [
    "chain = prompt | llm | json_parser\n",
    "output = chain.invoke({\n",
    "    \"query\": \"Tell me a joke about the crocodile\"\n",
    "})\n",
    "\n",
    "print(output)"
   ],
   "id": "9cb2d0944d84d150",
   "outputs": [
    {
     "name": "stdout",
     "output_type": "stream",
     "text": [
      "{'setup': 'Why did the crocodile go to the party?', 'punchline': 'Because he was a snappy dresser!', 'rating': 8}\n"
     ]
    }
   ],
   "execution_count": 30
  },
  {
   "metadata": {},
   "cell_type": "markdown",
   "source": [
    "### CSV Output Parser\n",
    "- This output parser can be used when you want to return a list of comma-separated items."
   ],
   "id": "9ccebdc9d1fe7243"
  },
  {
   "metadata": {
    "ExecuteTime": {
     "end_time": "2025-07-23T06:54:43.856432Z",
     "start_time": "2025-07-23T06:54:43.853033Z"
    }
   },
   "cell_type": "code",
   "source": [
    "from langchain_core.output_parsers import CommaSeparatedListOutputParser\n",
    "\n",
    "csv_parser = CommaSeparatedListOutputParser()\n",
    "\n",
    "instruction = csv_parser.get_format_instructions()\n",
    "print(instruction)"
   ],
   "id": "fd7e5b772ad0436a",
   "outputs": [
    {
     "name": "stdout",
     "output_type": "stream",
     "text": [
      "Your response should be a list of comma separated values, eg: `foo, bar, baz` or `foo,bar,baz`\n"
     ]
    }
   ],
   "execution_count": 33
  },
  {
   "metadata": {
    "ExecuteTime": {
     "end_time": "2025-07-23T06:56:25.224857Z",
     "start_time": "2025-07-23T06:56:25.220914Z"
    }
   },
   "cell_type": "code",
   "source": [
    "prompt = PromptTemplate(\n",
    "    template=\"\"\"\n",
    "    Answer the user query with a list of values. Here is your formatting instruction.\n",
    "    {format_instruction}\n",
    "    \n",
    "    Query: {query}\n",
    "    Answer:\n",
    "    \"\"\",\n",
    "    input_variables=['query'], \n",
    "    partial_variables={'format_instruction': instruction}, \n",
    ")"
   ],
   "id": "b609ef8d4780cd4e",
   "outputs": [],
   "execution_count": 34
  },
  {
   "metadata": {
    "ExecuteTime": {
     "end_time": "2025-07-23T06:57:14.928112Z",
     "start_time": "2025-07-23T06:57:07.561916Z"
    }
   },
   "cell_type": "code",
   "source": [
    "chain = prompt | llm | csv_parser\n",
    "\n",
    "output = chain.invoke({\n",
    "    'query': \"Generate my website seo keywords. I have content about the NLP and LLM.\"\n",
    "})\n",
    "print(output)"
   ],
   "id": "9578ef31a1718fd9",
   "outputs": [
    {
     "name": "stdout",
     "output_type": "stream",
     "text": [
      "['nlp', 'llm', 'artificial intelligence', 'natural language processing', 'machine learning', 'language model', 'chatbots', 'sentiment analysis', 'text analysis', 'language understanding', 'cognitive computing', 'human-computer interaction', 'language generation']\n"
     ]
    }
   ],
   "execution_count": 35
  },
  {
   "metadata": {},
   "cell_type": "markdown",
   "source": [
    "### Datetime Output Parser\n",
    "- Gives output in datetime format. **Sometimes throws error** if the LLM output is **not in datetime format**."
   ],
   "id": "27e19e294eabb94f"
  },
  {
   "metadata": {
    "ExecuteTime": {
     "end_time": "2025-07-23T07:01:34.900907Z",
     "start_time": "2025-07-23T07:01:34.819829Z"
    }
   },
   "cell_type": "code",
   "source": "from langchain.output_parsers import DatetimeOutputParser",
   "id": "b865855ffd9644d6",
   "outputs": [],
   "execution_count": 36
  },
  {
   "metadata": {
    "ExecuteTime": {
     "end_time": "2025-07-23T07:02:08.409602Z",
     "start_time": "2025-07-23T07:02:08.405841Z"
    }
   },
   "cell_type": "code",
   "source": [
    "datetime_parser = DatetimeOutputParser()\n",
    "instruction = datetime_parser.get_format_instructions()\n",
    "\n",
    "print(instruction)"
   ],
   "id": "b1ceb41eac7071f2",
   "outputs": [
    {
     "name": "stdout",
     "output_type": "stream",
     "text": [
      "Write a datetime string that matches the following pattern: '%Y-%m-%dT%H:%M:%S.%fZ'.\n",
      "\n",
      "Examples: 0377-05-19T15:09:45.845568Z, 0888-05-23T13:22:02.989670Z, 0744-03-28T19:41:09.659302Z\n",
      "\n",
      "Return ONLY this string, no other words!\n"
     ]
    }
   ],
   "execution_count": 37
  },
  {
   "metadata": {
    "ExecuteTime": {
     "end_time": "2025-07-23T07:02:54.858044Z",
     "start_time": "2025-07-23T07:02:54.854811Z"
    }
   },
   "cell_type": "code",
   "source": [
    "prompt = PromptTemplate(\n",
    "    template=\"\"\"\n",
    "    Answer the user query with a datetime. Here is your formatting instruction.\n",
    "    {format_instruction}\n",
    "    \n",
    "    Query: {query}\n",
    "    Answer:\n",
    "    \"\"\",\n",
    "    input_variables=['query'], \n",
    "    partial_variables={'format_instruction': instruction}, \n",
    ")"
   ],
   "id": "90058f3408248cfd",
   "outputs": [],
   "execution_count": 38
  },
  {
   "metadata": {
    "ExecuteTime": {
     "end_time": "2025-07-23T07:02:59.803765Z",
     "start_time": "2025-07-23T07:02:59.800225Z"
    }
   },
   "cell_type": "code",
   "source": "chain = prompt | llm | datetime_parser",
   "id": "b7241cff12c767fc",
   "outputs": [],
   "execution_count": 39
  },
  {
   "metadata": {
    "ExecuteTime": {
     "end_time": "2025-07-23T07:04:41.207009Z",
     "start_time": "2025-07-23T07:04:38.413855Z"
    }
   },
   "cell_type": "code",
   "source": [
    "output = chain.invoke({\n",
    "    'query': \"When the america got discovered?\"\n",
    "})\n",
    "\n",
    "print(output)  # Not the actual value"
   ],
   "id": "5c452f25fe479b09",
   "outputs": [
    {
     "name": "stdout",
     "output_type": "stream",
     "text": [
      "1492-08-10 04:00:00\n"
     ]
    }
   ],
   "execution_count": 42
  }
 ],
 "metadata": {
  "kernelspec": {
   "display_name": "Python 3",
   "language": "python",
   "name": "python3"
  },
  "language_info": {
   "codemirror_mode": {
    "name": "ipython",
    "version": 2
   },
   "file_extension": ".py",
   "mimetype": "text/x-python",
   "name": "python",
   "nbconvert_exporter": "python",
   "pygments_lexer": "ipython2",
   "version": "2.7.6"
  }
 },
 "nbformat": 4,
 "nbformat_minor": 5
}
