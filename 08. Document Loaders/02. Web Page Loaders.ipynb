{
 "cells": [
  {
   "metadata": {},
   "cell_type": "markdown",
   "source": [
    "# Web Page Loaders\n",
    "- Load the web page and **extract** the data using the `WebBaseLoader` and `BeautifulSoup` libraries.\n",
    "- Use LLM to **extract meaningful data** from the web page"
   ],
   "id": "e2a8a32e3fad8aa2"
  },
  {
   "metadata": {
    "ExecuteTime": {
     "end_time": "2025-07-25T18:48:25.969981Z",
     "start_time": "2025-07-25T18:48:25.953635Z"
    }
   },
   "cell_type": "code",
   "source": [
    "import os\n",
    "\n",
    "from dotenv import load_dotenv\n",
    "load_dotenv(\"./../.env\")"
   ],
   "id": "bc843b9df969c448",
   "outputs": [
    {
     "data": {
      "text/plain": [
       "True"
      ]
     },
     "execution_count": 1,
     "metadata": {},
     "output_type": "execute_result"
    }
   ],
   "execution_count": 1
  },
  {
   "metadata": {},
   "cell_type": "markdown",
   "source": [
    "## Section 1. Share Market Data Analysis Based on Global Cues\n",
    "- We will **extract the data** from the stock market website and **analyze the data** to understand **the impact of global cues** on the Indian share market. "
   ],
   "id": "3870dda50985367a"
  },
  {
   "metadata": {},
   "cell_type": "markdown",
   "source": "### Stock Market Data Extraction",
   "id": "6ab853767ccad19d"
  },
  {
   "metadata": {
    "ExecuteTime": {
     "end_time": "2025-07-25T18:51:53.223978Z",
     "start_time": "2025-07-25T18:51:53.220607Z"
    }
   },
   "cell_type": "code",
   "source": [
    "from langchain_community.document_loaders import WebBaseLoader\n",
    "\n",
    "urls = [\n",
    "    'https://economictimes.indiatimes.com/markets/stocks/news',\n",
    "    'https://www.livemint.com/latest-news',\n",
    "    'https://www.livemint.com/latest-news/page-2'\n",
    "    'https://www.livemint.com/latest-news/page-3',\n",
    "    'https://www.moneycontrol.com/'\n",
    "]"
   ],
   "id": "278b852f642718cc",
   "outputs": [],
   "execution_count": 3
  },
  {
   "metadata": {
    "ExecuteTime": {
     "end_time": "2025-07-25T18:52:32.296920Z",
     "start_time": "2025-07-25T18:52:32.292721Z"
    }
   },
   "cell_type": "code",
   "source": [
    "loader = WebBaseLoader(web_paths=urls)\n",
    "loader"
   ],
   "id": "81299bf4b158e5b7",
   "outputs": [
    {
     "data": {
      "text/plain": [
       "<langchain_community.document_loaders.web_base.WebBaseLoader at 0x1a195451e10>"
      ]
     },
     "execution_count": 6,
     "metadata": {},
     "output_type": "execute_result"
    }
   ],
   "execution_count": 6
  },
  {
   "metadata": {
    "ExecuteTime": {
     "end_time": "2025-07-25T18:54:11.020431Z",
     "start_time": "2025-07-25T18:54:08.057496Z"
    }
   },
   "cell_type": "code",
   "source": [
    "docs = []\n",
    "\n",
    "async for doc in loader.alazy_load():\n",
    "    docs.append(doc)"
   ],
   "id": "da63501cf3cd492e",
   "outputs": [
    {
     "name": "stderr",
     "output_type": "stream",
     "text": [
      "Fetching pages: 100%|##########| 4/4 [00:02<00:00,  1.57it/s]\n"
     ]
    }
   ],
   "execution_count": 7
  },
  {
   "metadata": {
    "ExecuteTime": {
     "end_time": "2025-07-25T18:55:05.818588Z",
     "start_time": "2025-07-25T18:55:05.815686Z"
    }
   },
   "cell_type": "code",
   "source": [
    "def format_docs(docs):\n",
    "    return \"\\n\\n\".join([t.page_content for t in docs])"
   ],
   "id": "c3e6b7abea158c46",
   "outputs": [],
   "execution_count": 10
  },
  {
   "metadata": {
    "ExecuteTime": {
     "end_time": "2025-07-25T18:56:07.509876Z",
     "start_time": "2025-07-25T18:56:07.506359Z"
    }
   },
   "cell_type": "code",
   "source": "context = format_docs(docs)",
   "id": "f1ebe9bb9c38d71c",
   "outputs": [],
   "execution_count": 14
  },
  {
   "metadata": {},
   "cell_type": "markdown",
   "source": "### Remove Multiple New Lines (\\n) and Tabs (\\t)",
   "id": "e1ff63ae44777fc1"
  },
  {
   "metadata": {
    "ExecuteTime": {
     "end_time": "2025-07-25T18:59:15.927447Z",
     "start_time": "2025-07-25T18:59:15.923862Z"
    }
   },
   "cell_type": "code",
   "source": [
    "import re\n",
    "\n",
    "def text_clean(text):\n",
    "    text = re.sub(r'\\n\\n+', '\\n\\n', text) # Remove 2 or more into double \\n\n",
    "    text = re.sub(r'\\t+', '\\t', text)  # Remove more than 1 into single tab\n",
    "    text = re.sub(r'\\s+', ' ', text) # Remove more than 1 into single space\n",
    "    return text"
   ],
   "id": "3ee8bffac764f55f",
   "outputs": [],
   "execution_count": 18
  },
  {
   "metadata": {
    "ExecuteTime": {
     "end_time": "2025-07-25T18:59:16.820828Z",
     "start_time": "2025-07-25T18:59:16.815671Z"
    }
   },
   "cell_type": "code",
   "source": [
    "context = text_clean(context)\n",
    "print(context)"
   ],
   "id": "a959b88fd78dc892",
   "outputs": [
    {
     "name": "stdout",
     "output_type": "stream",
     "text": [
      "Stocks in News Today - Latest News on Stocks, Stock in News | The Economic TimesBenchmarks Nifty24,837.00-225.1FEATURED FUNDS★★★★★UTI Aggressive Hybrid Fund Regular Plan-Growth5Y Return20.6 % Invest NowFEATURED FUNDS★★★★★HSBC Large Cap Fund Direct-Growth5Y Return19 % Invest NowEnter search text:English EditionEnglish Editionहिन्दीગુજરાતીमराठीবাংলাಕನ್ನಡമലയാളംதமிழ்తెలుగు | 26 July, 2025, 12:21 AM IST | Today's ePaper My Watchlist SubscribeSign InHomeETPrimeMarketsMarket DataAI Masterclass NewsIndustrySMEPoliticsWealthMFTechAICareersOpinionNRIPanacheMore MenuStocksNewsLive BlogStock Live BlogEarningsPodcastMarket ClassroomDons of Dalal StreetRecosStock Reports PlusNewMy ScreenerCandlestick ScreenerStock ScreenerStock WatchMarket CalendarStock Price QuotesOptionsIPOs/FPOsExpert ViewsInvestment IdeasCommoditiesViewsNewsOthersMentha OilPrecious MetalsGold MGoldSilverGold PetalSilver MicroSilver MGold GuineaOil & EnergyNatural GasCrude OilCrude Oil MiniBase MetalsAluminiumZinc MiniLead MiniCopperZincNickelAluminium MiniLeadPlantationKapasCotton CandyCottonForexForex NewsCurrency ConverterLive Stream!AIF PMSCryptoCrypto NewsCrypto TVCrypto PricesBondsMoreDigital Real EstateRealty NewsTechnicalsTechnical ChartVisualizeScreenerMind Over MoneyWeb StoriesMarkets DataUnlisted CompaniesMarket MogulsWebinarsSitemapDefinitionsBusiness News›Markets›Stocks›News NewsTop Searches:Bajaj Finserv Q1 Results FY26Stock Market Crash TodayWhy Bajaj Finance share is FallingStock Market Today LiveReliance Power share priceWhy Stock Market is Falling TodayNestle Q1 Results FY26Why IEX Share Price is FallingPersistent Systems share priceBajaj Housing Finance Q1 Results FY26Infosys Q1 Results Live UpdatesLodha Developers Share PriceStock picks of the week: 5 stocks with consistent score improvement and return potential of 13 to 45% in 1 yearJul 25, 2025, 11:32 PM ISTMore than the Nifty and Sensex taking a beating, what has changed in the last two sessions (and is more worrying) is negative market breadth. The risk of the situation getting worse if the indices remain under pressure is high. Especially as valuations are still on the higher side. In such a situation, what should bother you more? What happens in the market over the next few days or months? Or how a business is going to pan out? The business, of course.TVS Motor board to consider raising funds next weekJul 25, 2025, 07:34 PM ISTTVS Motor Company on Friday said its board will next week consider and approve raising of funds via the issue of securities on a private placement basis.TVS Motor Company Share Price 2774.40-23.30 (-0.84%)These 9 stocks witness decreasing promoter holdingsJul 25, 2025, 06:34 PM ISTUS stocks rise on US-EU trade deal prospects; Intel fallsJul 25, 2025, 10:05 PM ISTWall Street's main indexes opened steady on Friday following record closes for the S&P 500 and the Nasdaq in the previous session, while investors looked for signs of progress in trade talks as they braced for the August 1 tariff deadline.Airtel Africa Q1 profit jumps 20% on Nigeria-led tariff boostJul 25, 2025, 06:20 PM ISTAirtel Africa posted a 25% YoY revenue surge to $1.41 billion and a 20% profit rise to $156 million in Q1 FY26, driven by tariff hikes, strong data growth, and subscriber expansion, especially in Nigeria and Francophone Africa.Bharti Airtel Share Price 1937.901.81 (0.10%)Laurus Labs among 7 stocks that hit 52-week highs and rallied up to 25% in a monthJul 25, 2025, 06:16 PM ISTIDFC First Bank Q1 Preview: PAT may fall up to 68% YoY amid NIM pressure. 6 things to watchJul 25, 2025, 06:57 PM ISTIDFC First Bank is expected to report weak Q1 FY26 results with 31–68% YoY PAT decline due to NIM compression, high credit costs, and interest reversals. Loan and deposit growth may remain strong, but profitability faces pressure. The estimates of Emkay Research, ICICI Securities, Axis Securities and Nuvama Institutional Equities have been taken into consideration.IDFC First Bank Share Price 70.70-2.19 (-3.01%)BULL'S EYEIncome Tax Department busts fake tax deduction racketSovereign Gold Bond 2017-18 Series I final redemption announcedPrices of LPG cylinder in Delhi, Mumbai, KolkataHDFC Mutual Fund \"Tap2Invest\" on WhatsAppShould you opt for the old tax regime, or the new tax regime ?Money deadlines in March 2025Top 5 ELSS funds with up to 23% returns in 3 yearsNew NPS fees from January 2025: Full breakdown of charges Top 5 aggressive hybrid equity funds with up to 38% returns in 1 yearMarket Movers2 top stock picks for near termGlobal mkts riding high on fragile optimismUS-EU trade deal could be next big catalystWhat led to record profit for Motilal OswalWhy UK FTA, US trade deal don't matter3 sectors to offer better earnings upsideTime correction likely; rebound in Q2?Why Multi-asset funds are a smart choiceMarkets Videos‘We will kill you’: Florida Sheriff issues brutal warning to ICE protestors | US migrant crisisPete Hegseth stuns NATO allies with big announcement during meet with Baltic defence ministers'We have to put…': Trump warns of secondary sanctions in renewed threat to Russia amid Ukraine war'I never went to that island': Trump redirects Epstein scrutiny to Former President Bill ClintonPM Modi's & Maldivian President Muizzu's remarks at State Banquet, Maldives'Not going to change anything...': Trump torches Macron over plan to recognise Palestinian state'Fu**ing pedophile’: Florida Gov DeSantis heckled by ‘Alligator Alcatraz’ protester during tribute to Hulk HoganLIVE | UN Security Council holds briefing on Ukraine after recent Russian attacksPowered by Youngsters want to become Nikhil or Nithin Kamath but don't want to use Zerodha: Ankur WarikooJul 25, 2025, 07:03 PM ISTInfluencer Ankur Warikoo critiqued Zerodha's shrinking appeal among young investors, citing its lack of fun, relatability, and aspirational branding. He advised content revamp, cultural relevance, and positioning Zerodha as a cool, quiet rebel in investing. It was in response to Founder and CEO Nithin Kamath, posing a question for founders and marketing professionals on his X handle if traditional strategies used in the past to acquire customers will be useful now.Stock Radar: This smallcap stock breaks out from Flag pattern to hit fresh record high in July 2025; time to buy or book profits?Jul 25, 2025, 05:00 PM ISTSwaraj Engines Ltd. recently broke out from a flag pattern on weekly charts, reaching new record highs. Experts suggest a potential buying opportunity for short-term traders, targeting Rs 5,500 within 1-2 months. The stock exhibits bullish indicators, supported by strong volumes and consistent trading above key exponential moving averages, indicating a continued uptrend.Swaraj Engines Share Price 4208.30-157.60 (-3.61%)Sensex set to hit 115,836 by FY28 on earnings momentum: VenturaJul 25, 2025, 04:31 PM ISTVentura Securities projects Sensex at 115,836 and Nifty at 43,876 by FY28, backed by 12–14% EPS growth and resilient macro trends. Sectors like engineering and BFSI drive earnings momentum. India’s demographics, reforms, and stable debt levels position it as a top global investment destination despite persistent risks.Short-term valuation headwinds? Yes. Long-term growth potential intact? Yes. Which ‘Yes’ is more relevant?Jul 25, 2025, 04:18 PM ISTWhat is “financialization of savings”? Well, it is the trend of shifting savings from traditional, physical assets like real estate or gold to financial assets like stocks, mutual funds, or bonds. It is a trend that is only catching on in India, compared to developed economies where it is the norm. How do we say it is a growing trend? Because there is clear historical evidence of this. And there is no doubt that, on an absolute basis, the total number of investors trading in the Indian markets will be higher two years from now. Also, given the corrections and volatility we have seen of late, this participation may well take the safer MF route.An ETF is like having a picture of a gun for self-defense, says Rich Dad Poor Dad author Robert KiyosakiJul 25, 2025, 03:03 PM ISTRobert Kiyosaki cautioned investors that while ETFs offer convenience, they’re not substitutes for real assets like gold, silver, or Bitcoin. Comparing ETFs to a picture of a gun, he emphasized the need for financial literacy and tangible asset ownership.9 multibagger stocks with consistent FII buying over 3 quartersJul 25, 2025, 05:59 PM ISTForeign Institutional Investors (FIIs) have steadily raised their stakes in around 160 BSE-listed companies over the last three quarters, with September 2024 as the base quarter. The analysis includes only those stocks with a market capitalisation exceeding Rs 2,000 crore.Retail investors often track FII moves, given their research-driven strategies. Of these 160 stocks, more than half delivered positive one-year returns. Notably, 73 saw double-digit gains, while 9 turned multibaggers—more than doubling in value within 12 months. (Source: ACE Equity)Sona Comstar shares fall 3% after Sunjay Kapur's mother seeks deferment of AGM today amid coercion, misrepresentation allegationsJul 25, 2025, 02:24 PM ISTShares of Sona Comstar fell 3% after a public dispute erupted within the promoter family. Rani Kapur, mother of the late Sunjay Kapur and majority shareholder, urged the company to postpone its July 25 AGM, citing coercion and document misuse following her son's “sudden and suspicious” death. The controversy has sparked legal concerns and investor unease.F&O Radar| Deploy Bull Call Spread in Nifty to gain from a ‘buy-on-dips’ stanceJul 25, 2025, 01:42 PM ISTNifty’s July setup suggests a “buy-on-dips” opportunity with strong support at 24,830 and resistance at 25,670. Traders can consider a Bull Call Spread strategy to capitalize on potential upside, with a breakout likely above 25,250. India VIX remains low, favoring bullish bets.Nikkei falls as traders lock in gains after US trade deal rallyJul 25, 2025, 01:26 PM ISTJapan's Nikkei share average dropped on Friday, halting a two-day advance that brought the index to the brink of a record, as traders locked in gains spurred by a newly inked trade deal with the United States.Load More...Videos'I never went to Epstein island'Trump warns of secondary sanctions on RussiaTrump dismisses Macron's plan to recognise Palestinian stateTrending in MarketsStock Market LIVEInfosys Q1 Results FY26Infosys Q1 Results Live UpdatesPaytm Q1 ResultsSwiggy share priceZomato share priceWipro Q1 Results Live UpdatesVedanta Share NewsTrent Share PriceHDB Financial Share Price Live UpdatesGlobe Civil Projects IPO Grey Market PremiumBelrise Industries SharesMarkets BSENSEBSENSEGainersLosersCommodity Gainers/Commodity Losers/ForexIndian rupee falls 19 paise to 86.59 against US dollar in early trade52W - High52W - LowTop Mutual FundsETFsIPOs: OpenQuarterly ResultsRevenuePATRecommendationsMarkets Calendar25JULITC Ltd.AGM 25/07/2025 25JULAxis Bank Ltd.AGM 25/07/2025 25JULNTPC Ltd.POM 25/07/2025 25JULBajaj Finserv Ltd.AGM 25/07/2025 25JULBajaj Finserv Ltd.Board Meeting : Quarterly Results More Events Forex CalculatorFrom this CurrencyAfghanistan AfghaniAlbanian LekAlgerian DinarAndorran FrancAndorran PesetaAngolan KwanzaAngolan New KwanzaArgentine PesoArmenian DramAruban FlorinAustralian DollarAustrian SchillingAzerbaijani ManatAzerbaijani New ManatBahamian DollarBahraini DinarBangladeshi TakaBarbados DollarBelgian FrancBelize DollarBermudian DollarBhutan NgultrumBolivian BolivianoBosnian MarkBotswana PulaBrazilian RealBritish PoundBrunei DollarBulgarian LevBurundi FrancBelarusian RubleCFA Franc BCEAOCFA Franc BEACCFP FrancCambodian RielCanadian DollarCape Verde EscudoCayman Islands DollarChilean PesoChinese Yuan RenminbiColombian PesoComoros FrancCongolese FrancCosta Rican ColonCroatian KunaCuban Convertible PesoCuban PesoCyprus PoundCzech KorunaDanish KroneDjibouti FrancDominican PesoDutch GuilderEast Caribbean DollarECUEcuador SucreEgyptian PoundEl Salvador ColonEstonian KroonEthiopian BirrEuroFalkland Islands PoundFiji DollarFinnish MarkkaFrench FrancGambian DalasiGeorgian LariGerman MarkGhanaian CediGhanaian New CediGibraltar PoundGold (oz.)Greek DrachmaGuatemalan QuetzalGuinea FrancGuyanan DollarHaitian GourdeHonduran LempiraHong Kong DollarHungarian ForintIceland KronaIndian RupeeIndonesian RupiahIranian RialIraqi DinarIrish PuntIsraeli New ShekelItalian LiraJamaican DollarJapanese YenJordanian DinarKampuchean RielKazakhstan TengeKenyan ShillingKorean WonKuwaiti DinarKyrgistanian SomLao KipLatvian LatsLebanese PoundLesotho LotiLiberian DollarLibyan DinarLithuanian LitasLuxembourg FrancMacau PatacaMacedonian DenarMalagasy FrancMalawi KwachaMalagasy AriaryMalaysian RinggitMaldive RufiyaaMaltese LiraMauritanian OuguiyaMauritius RupeeMexican PesoMoldovan LeuMongolian TugrikMoroccan DirhamMozambique MeticalNew Mozambican MeticalMyanmar KyatNL Antillian GuilderNamibia DollarNepalese RupeeNetherlands GuilderNew Zealand DollarNicaraguan Cordoba OroNigerian NairaNorth Korean WonNorwegian KronerOmani RialPakistan RupeePalladium (oz.)Panamanian BalboaPapua New Guinea KinaParaguay GuaraniPeruvian Nuevo SolPhilippine PesoPlatinum (oz.)Polish ZlotyPortuguese EscudoPound SterlingQatari RialRomanian LeuRomanian New LeuRussian RoubleRwandan FrancSamoan TalaSao Tome/Principe DobraSaudi RiyalSerbian DinarSeychelles RupeeSierra Leone LeoneSilver (oz.)Singapore DollarSlovak KorunaSlovenian TolarSolomon Islands DollarSomali ShillingSouth African RandSpanish PesetaSri Lanka RupeeSt. Helena PoundSudanese DinarSudanese PoundSudanese Old PoundSuriname DollarSuriname GuilderSwaziland LilangeniSwedish KronaSwiss FrancSyrian PoundTaiwan DollarTanzanian ShillingThai BahtTurkmenistan ManatTongan PaangaTrinidad/Tobago DollarTunisian DinarTurkish LiraTurkish New LiraUganda ShillingUkraine GryvnaUkraine HryvniaUnited Kingdom PoundUS DollarUruguayan PesoUt. Arab Emir. DirhamVanuatu VatuVenezuelan BolivarVietnamese DongYemeni RialYugoslav DinarZambian KwachaZimbabwe DollarAmount ConvertTo this CurrencyAfghanistan AfghaniAlbanian LekAlgerian DinarAndorran FrancAndorran PesetaAngolan KwanzaAngolan New KwanzaArgentine PesoArmenian DramAruban FlorinAustralian DollarAustrian SchillingAzerbaijani ManatAzerbaijani New ManatBahamian DollarBahraini DinarBangladeshi TakaBarbados DollarBelgian FrancBelize DollarBermudian DollarBhutan NgultrumBolivian BolivianoBosnian MarkBotswana PulaBrazilian RealBritish PoundBrunei DollarBulgarian LevBurundi FrancBelarusian RubleCFA Franc BCEAOCFA Franc BEACCFP FrancCambodian RielCanadian DollarCape Verde EscudoCayman Islands DollarChilean PesoChinese Yuan RenminbiColombian PesoComoros FrancCongolese FrancCosta Rican ColonCroatian KunaCuban Convertible PesoCuban PesoCyprus PoundCzech KorunaDanish KroneDjibouti FrancDominican PesoDutch GuilderEast Caribbean DollarECUEcuador SucreEgyptian PoundEl Salvador ColonEstonian KroonEthiopian BirrEuroFalkland Islands PoundFiji DollarFinnish MarkkaFrench FrancGambian DalasiGeorgian LariGerman MarkGhanaian CediGhanaian New CediGibraltar PoundGold (oz.)Greek DrachmaGuatemalan QuetzalGuinea FrancGuyanan DollarHaitian GourdeHonduran LempiraHong Kong DollarHungarian ForintIceland KronaIndian RupeeIndonesian RupiahIranian RialIraqi DinarIrish PuntIsraeli New ShekelItalian LiraJamaican DollarJapanese YenJordanian DinarKampuchean RielKazakhstan TengeKenyan ShillingKorean WonKuwaiti DinarKyrgistanian SomLao KipLatvian LatsLebanese PoundLesotho LotiLiberian DollarLibyan DinarLithuanian LitasLuxembourg FrancMacau PatacaMacedonian DenarMalagasy FrancMalawi KwachaMalagasy AriaryMalaysian RinggitMaldive RufiyaaMaltese LiraMauritanian OuguiyaMauritius RupeeMexican PesoMoldovan LeuMongolian TugrikMoroccan DirhamMozambique MeticalNew Mozambican MeticalMyanmar KyatNL Antillian GuilderNamibia DollarNepalese RupeeNetherlands GuilderNew Zealand DollarNicaraguan Cordoba OroNigerian NairaNorth Korean WonNorwegian KronerOmani RialPakistan RupeePalladium (oz.)Panamanian BalboaPapua New Guinea KinaParaguay GuaraniPeruvian Nuevo SolPhilippine PesoPlatinum (oz.)Polish ZlotyPortuguese EscudoPound SterlingQatari RialRomanian LeuRomanian New LeuRussian RoubleRwandan FrancSamoan TalaSao Tome/Principe DobraSaudi RiyalSerbian DinarSeychelles RupeeSierra Leone LeoneSilver (oz.)Singapore DollarSlovak KorunaSlovenian TolarSolomon Islands DollarSomali ShillingSouth African RandSpanish PesetaSri Lanka RupeeSt. Helena PoundSudanese DinarSudanese PoundSudanese Old PoundSuriname DollarSuriname GuilderSwaziland LilangeniSwedish KronaSwiss FrancSyrian PoundTaiwan DollarTanzanian ShillingThai BahtTurkmenistan ManatTongan PaangaTrinidad/Tobago DollarTunisian DinarTurkish LiraTurkish New LiraUganda ShillingUkraine GryvnaUkraine HryvniaUnited Kingdom PoundUS DollarUruguayan PesoUt. Arab Emir. DirhamVanuatu VatuVenezuelan BolivarVietnamese DongYemeni RialYugoslav DinarZambian KwachaZimbabwe Dollar ConvertSector PerformanceSectors Mkt. Cap (%chg)Decline/Advance< -2%-2% to < 0%0%> 0% to +2%> +2%ET SpeedMost Searched StocksIRFC Share Price132.03-55.8%03:59 PM | 25 Jul 2025-3.63(-2.67%) Upside Suzlon Energy Share Price63.6217.3%03:59 PM | 25 Jul 2025-1.7(-2.61%) Upside IREDA Share Price153.2512.0%03:59 PM | 25 Jul 2025-2.97(-1.9%) Upside Tata Motors Share Price687.49.1%03:59 PM | 25 Jul 2025-13.11(-1.88%) Upside YES Bank Share Price19.6-11.5%03:59 PM | 25 Jul 2025-0.42(-2.05%) Upside HDFC Bank Share Price2004.612.2%03:59 PM | 25 Jul 2025-9.61(-0.48%) Upside NHPC Share Price83.488.5%03:59 PM | 25 Jul 2025-2.36(-2.75%) Upside RVNL Share Price365.6-28.1%03:59 PM | 25 Jul 2025-11.3(-3.0%) Upside SBI Share Price806.5514.3%03:59 PM | 25 Jul 2025-9.16(-1.13%) Upside Tata Power Share Price395.355.3%03:59 PM | 25 Jul 2025-5.35(-1.34%) Upside Tata Steel Share Price161.43-0.3%03:59 PM | 25 Jul 2025-2.05(-1.26%) Upside Adani Power Share Price570.08.2%03:59 PM | 25 Jul 2025-15.75(-2.69%) Upside PayTM Share Price1067.75-0.6%03:59 PM | 25 Jul 2025-38.5(-3.49%) Upside PNB Share Price108.41-1.5%03:59 PM | 25 Jul 2025-2.27(-2.05%) Upside Eternal Share Price310.55-1.6%03:59 PM | 25 Jul 2025-2.6(-0.84%) Upside BEL Share Price395.22.7%03:59 PM | 25 Jul 2025-3.06(-0.77%) Upside BHEL Share Price240.15-12.0%03:59 PM | 25 Jul 2025-10.91(-4.35%) Upside Infosys Share Price1515.710.1%03:59 PM | 25 Jul 2025-36.8(-2.38%) Upside IRCTC Share Price746.259.1%03:58 PM | 25 Jul 2025-10.9(-1.44%) Upside ITC Share Price409.421.7%03:59 PM | 25 Jul 2025-0.56(-0.14%) Upside Jio Financial Services Share Price311.25-15.3%03:59 PM | 25 Jul 2025-5.2(-1.65%) Upside LIC Share Price886.8517.8%03:59 PM | 25 Jul 2025-30.15(-3.29%) Upside RIL Share Price1391.715.5%03:59 PM | 25 Jul 2025-11.21(-0.8%) Upside HAL Share Price4552.720.7%03:59 PM | 25 Jul 2025-127.91(-2.74%) Upside JP Power Share Price20.12null%03:59 PM | 25 Jul 2025-0.99(-4.69%) Upside NBCC Share Price109.2522.3%03:59 PM | 25 Jul 2025-4.44(-3.9%) Upside TCS Share Price3135.819.4%03:59 PM | 25 Jul 2025-12.2(-0.39%) Upside Vedanta Share Price443.5514.8%03:59 PM | 25 Jul 2025-7.81(-1.73%) Upside Wipro Share Price259.2-0.3%03:59 PM | 25 Jul 2025-2.66(-1.02%) Upside Indian Oil Corp. Share Price146.965.1%03:59 PM | 25 Jul 2025-4.26(-2.82%) Upside Ircon Intl. Share Price181.25-15.3%03:59 PM | 25 Jul 2025-5.39(-2.89%) Upside SAIL Share Price130.67-12.6%03:59 PM | 25 Jul 2025-5.5(-4.04%) Upside SJVN Share Price95.191.2%03:59 PM | 25 Jul 2025-3.61(-3.65%) Upside GAIL Share Price183.5114.9%03:59 PM | 25 Jul 2025-4.47(-2.38%) Upside HUDCO Share Price218.6428.0%03:59 PM | 25 Jul 2025-6.43(-2.86%) Upside REC Share Price400.7531.4%03:59 PM | 25 Jul 2025-4.15(-1.03%) Upside Reliance Power Share Price56.78null%03:59 PM | 25 Jul 2025-3.0(-5.01%) Upside Tata Technologies Share Price708.35-14.6%03:57 PM | 25 Jul 2025-9.8(-1.37%) Upside Vodafone Idea Share Price7.21.4%03:59 PM | 25 Jul 2025-0.17(-2.31%) Upside Adani Ent. Share Price2550.121.9%03:58 PM | 25 Jul 2025-58.31(-2.24%) Upside Adani Green Share Price975.922.5%03:59 PM | 25 Jul 2025-44.81(-4.39%) Upside Adani Ports SEZ Share Price1396.314.1%03:59 PM | 25 Jul 2025-15.3(-1.09%) Upside Ashok Leyland Share Price121.957.4%03:59 PM | 25 Jul 2025-2.85(-2.29%) Upside Bank of Baroda Share Price243.457.8%03:58 PM | 25 Jul 2025-3.42(-1.39%) Upside BSE Share Price2454.0-8.2%03:59 PM | 25 Jul 2025-93.81(-3.69%) Upside Canara Bank Share Price110.76-1.3%03:58 PM | 25 Jul 2025-2.75(-2.43%) Upside CDSL Share Price1614.7-20.2%03:59 PM | 25 Jul 2025-64.6(-3.85%) Upside Coal India Ltd Share Price380.816.5%03:59 PM | 25 Jul 2025-4.75(-1.24%) Upside HFCL Share Price75.9466.6%03:59 PM | 25 Jul 2025-3.32(-4.18%) Upside IDFC First Bank Share Price70.73.9%03:59 PM | 25 Jul 2025-2.19(-3.01%) Upside Load more..Popular in MarketsMark Matthews on why FTA with UK, US trade deal shouldn’t matter much for IndiaIDFC First Bank Q1 Preview: PAT may fall up to 68% YoY amid NIM pressure. 6 things to watchJim Rogers doubles down on silver: “If it stays cheap, I’ll keep buying\"Bajaj Finserv Q1 Results: Cons profit jumps 30% YoY to Rs 2,789 crore; revenue up 13%TVS Motor board to consider raising funds next weekEnter search text:BrowseCompanies:ABCDEFGHIJKLMNOPQRSTUVWXYZ123456789Quick LinksMOREMobiKwik Shares NewsReliance Power Preferential IssueHDB Financial Services IPOWestern Carriers IPO Allotment StatusITD Cementation Share PriceUS Fed Meeting TimeReliance Power Share PriceGST Council Meeting LiveBaazar Style Retail IPOHAL Share PriceNiftyShare Market LiveBajaj Housing Finance Share PriceTCS Q4 ResultsAdani Green Q2 ResultsMaruti Suzuki Q2 ResultsCipla Q2 ResultsMamaearth IPONestle India Q3 ResultsHot on WebMOREKCET mock allotment results 2025Shriram Finance Q1 Results FY26Bajaj Finserv Q1 ResultsWhy stock market is Falling TodaySensex TodayIs Yahoo mail downHulk Hogan sex-tape controversyHulk Hogan Net Worth 2025Why stock market is down today?Hulk hogan deadThailand Cambodia News LiveNestle Q1 ResultsIEX share priceAP EAMCET 2025Bajaj Housing Finance Q1 ResultsInfosys Q1 Results 2025GNG Electronics IPO GMPIn Case you missed itMORETCS Q1 Results FY25Afcons InfrastructureIREDA Q2 ResultsReliance Power Preferential IssueManba Finance IPOHDB Financial Services IPOCochin Shipyard Share PriceNorthern Arc Capital IPO AllotmentArkade Developers IPO Allotment TodayStocks in news todayUS Fed Meeting TimeUS Fed Rate Cut TodayNSE Bonus Issue Record DateBSE Share PriceBajaj Housing Finance IPO Listing LiveBajaj Housing Finance Share PriceTata Power Share PriceMORETop Searched CompaniesIRFC share priceSuzlon share priceIREDA share priceTATA Motors share priceYes bank share priceHDFC Bank share priceNHPC share priceRVNL share priceSBI share priceTata power share priceTata steel share priceAdani power share pricePaytm share pricePNB share priceZomato share priceBEL share priceBHEL share priceInfosys share priceIRCTC share priceITC share priceJIO finance share priceLIC share priceReliance share priceHAL share priceJP Power share priceNBCC share priceTCS share priceVedanta share priceWipro share priceIOC share priceIrcon share priceSAIL share priceSJVN share priceGAIL share priceHUDCO share priceREC share priceReliance Power share priceTata Technologies share priceVodafone idea share priceAdani Enterprises share priceAdani Green share priceAdani Port share priceAshok Leyland share priceBank of Baroda share priceBSE share priceCanara Bank share priceCDSL share priceCoal India share priceHFCL share priceIDFC First Bank share priceTop CalculatorsMOREStandard Deviation CalculatorIncome Tax CalculatorAge CalculatorSIP CalculatorTime CalculatorBMI CalculatorGPA CalculatorStatistics CalculatorFraction CalculatorDiabetes Risk CalculatorDate CalculatorLog CalculatorMORETop CommoditiesGold RateMenthaoil RateNickel RateKapas RateCopper RateZinc RateSilver RateCotton RateAluminium RateCrudeoil RateMORETop Prime ArticlesNo 5g Service Lack Of Fresh Funds Could Further Hurt Vodafone Idea Even As Airtel Jio Leap AheadFalling Off The Momentum Why Retail Investors Are Losing Money After Witnessing A Long RallyIs Nifty Next 50 A Good Bet Only If You Are A Super Long Term InvestorAdani Group Stocks Will Averaging Out Work For Retail InvestorsWe Want To Solve The Wazirx Binance Issue Once And For All Nischal ShettyReliance Jiocinema Is Streaming Ipl 2023 For Free Will This Now Disrupt The Ott BusinessNippon India Fund DirectAfter Adani Stocks Hindenburg May Have Crashed Into Indias Green Hydrogen Mission TooIndian It Companies Rode The Cloud Wave As Hyperscalers Growth Tapers How Will It Impact ThemMens Underwear Sales Are Falling Should Indian Economy Prepare For A Below The Belt JoltMORETop Story ListingSgx NiftyLicEarthquake TodayEpfo PensionEarthquake In DelhiTcs LayoffsNifty CrashStock Market CrashEpfoMORETop DefinitionsAccountingCurrency SymbolMarketsMarketing MixProductMapsko Builders Private LimitedFpoBusinessFiscal DeficitRepo RateMORETop SlideshowHow Rajendra Badwe Is Making Cancer Treatment Affordable By Repurposing Easily Available DrugsIcici BankAxis BankStock IdeasRaw VegetablesMORETop Market PagesFully Drawn AdvanceLatest NewsHoroscope Today 26 July 2025: Libra Moon urges balance, clarity, and deeper connection for all zodiac signsParliament set to run smoothly as govt, opposition reach deal on Operation SindoorShake off that boardomExtension of President's rule in Manipur will undermine democratic spirit, people don’t want it: CongressCredit growth slow despite rate cutsSupreme Court extends stay on summons against Rahul GandhiIndia eases Maldives' debt, pledges approximately Rs 4,850 crore credit lineBengal Governor sends 'excessively harsh' Aparajita Bill back to state govtFatty liver symptoms to watch before it turns cancerous: Who’s most at risk and what lifestyle changes can helpOperation Sindoor ongoing, no runners-up in war: CDS Anil ChauhanSincere concernUS core orders drop, reflecting cautionBaccarat CEO Laurence Nicolas on India’s evolving taste for meaningful luxuryMicheal Ward charged with rape and sexual assault: Top Boy actor denies allegationsOBCs real productive force, not aware of own strength, says Rahul GandhiFollow us on:Download ET App:subscribe to our newsletterCopyright © 2025 Bennett, Coleman & Co. Ltd. All rights reserved. For reprint rights: Times Syndication ServiceBACK TO TOP Latest News Today: Latest News Headlines, Breaking News, Current News | Mint Explore Sign in e-paper Subscribe Sign In Saturday, 26 July 2025 Stocks Mutual Funds News Home Latest News Markets News Premium Companies Money Delhi Gold Rate GNG Electronics IPO Technology Mint Hindi In Charts All Companies Technology Markets Money MyMint Mutual Funds Insurance Auto Industry Personal Finance Hello User Sign in Sign Out My Account My Account Subscribe My Watchlist Newsletters My Vouchers Notifications My Reads For You View Less - View More + Data Insights Market Dashboard Bullion Gold Silver Fuel Petrol Diesel Commodities Gold GoldM Aluminum Menthaoil Silver SilverMIC GoldPetal Natural Gas Copper Zinc SilverM CrudeOil GoldGinuea Lead CryptoCurrencies View Less - View More + Top Sections App home Money News Personal Finance Q&A Opinion Today's News India News World News US News Today Premium Markets Stock Markets IPO News IPO Dashboard Mark To Market Bonds Commodity News Cryptocurrency Economy Election Results 2025 Assembly Elections 2025 personal loan personal loan emi calculator Personal Loan Interest Rate Personal Loan Eligibility Business Loan Instant Loan View Less - View More + Premium Offerings e-paper WSJ Economist Barron's MyMint Mint Premium View Less - View More + Tools and Calculators IFSC Code Finder Income Tax Calculator SIP Calculator EMI Calculator Home Loan EMI Calculator Car Loan EMI NPS Calculator View Less - View More + MultiMedia Collections Videos WebStories Photo Gallery Podcasts View Less - View More + More From Mint Mint Genie Mint Lounge Mint Hindi Explore Mint About Us Print Subscription Mint Authors Terms of Use Disclaimer Mint Code Code of ethics Cookie Policy Privacy Policy Privacy and cookie settings Subscriber - Terms of Use SITEMAP Contact Us Mint Apps View Less - View More + Copyright © HT Digital Streams Limited All Rights Reserved. Gainers & Losers Top Gainers Top Losers Sun Pharmaceutical Industries share price 1,700.850.52% Bharti Airtel share price 1,937.600.05% Bajaj Finance share price 913.65-4.73% Indusind Bank share price 823.70-2.78% Power Grid Corporation Of India share price 291.45-2.61% Infosys share price 1,515.60-2.44% Tech Mahindra share price 1,461.80-2.44% Active Stocks Fri Jul 25 2025 15:59:13 Bajaj Finance share price 913.65 -4.73% Tata Motors share price 687.30 -1.90% Tata Steel share price 161.40 -1.25% Bharti Airtel share price 1,937.60 0.05% Wipro share price 259.35 -0.97% Business News/ Latest News Latest News Premium Kevin Hart to perform in India for the first time with ‘Acting My Age’ tour 1 min read . 12:21 AM IST Share Via Premium Pittsburgh Steelers sign Chuck Clark, former Baltimore Ravens' safety 2 min read . 12:19 AM IST Share Via Premium Goldman Trading Desk’s Clients Start Shorting Speculative Tech 1 min read . 12:19 AM IST Share Via Premium Ukraine anti-corruption chief says his agency faces dirty information campaign 3 min read . 12:06 AM IST Share Via Premium Anime Stars’ Pioneer Talent Firm Shuts Down 1 min read . 12:05 AM IST Share Via Premium Ryan McMahon trade: Yankees address third base woes with Rockies All-Star 1 min read . 25 Jul 2025 Share Via Premium OYO's Ritesh Agarwal says India-UK FTA deal game-changer for startups, jobs 1 min read . 25 Jul 2025 Share Via Premium India vs Australia Live Streaming: How to watch Yuvraj Singh vs Brett Lee in WCL 2 min read . 25 Jul 2025 Share Via Premium Muizzu calls India ‘closest' ally, PM Modi stresses ‘friendship first’ 3 min read . 25 Jul 2025 Share Via 3 Premium Thailand-Cambodia clashes: 20 killed, over 1.3 lakh displaced 25 Jul 2025 Share Via Premium Bomb threat received for Mumbai airport, CSMT; turned out to be hoax, say cops 1 min read . 25 Jul 2025 Share Via Premium Tesla’s robotaxi service may launch this Weekend in San Francisco: Report 1 min read . 25 Jul 2025 Share Via Premium Tanushree Dutta says emotional video was sparked by five years of harassment 2 min read . 25 Jul 2025 Share Via Premium New York Mets acquire Gregory Soto from Baltimore Orioles - Report 1 min read . 25 Jul 2025 Share Via Premium The Big ‘Mc’ Feud: Here’s why a Gujarat snack maker is suing McDonald’s 2 min read . 25 Jul 2025 Share Via Premium Techie calls India’s hiring process ‘filthy’, slams HRs' pay slip requirement 3 min read . 25 Jul 2025 Share Via Premium Tripura professor suspended after intimate video with student goes viral 1 min read . 25 Jul 2025 Share Via Premium Sebi proposes to ease disclosure norms for debenture issuers 3 min read . 25 Jul 2025 Share Via Premium Odisha: Brothers try to bury 5-month pregnant teen alive after raping her 1 min read . 25 Jul 2025 Share Via Premium Can Trump pardon Epstein accomplice Ghislaine Maxwell? POTUS says… 2 min read . 25 Jul 2025 Share Via Recommended For You Feedback Select your Category Query Suggestion Your Message Connect with us: trending stories Govindachamy PM Modi in London LIVE 8th Pay Commission GNG Electronics IPO Jackfruit IEX share price Sovereign Gold Bond Scheme N Chandrasekaran Thailand-Cambodia clash Livemint Hindi Bank Holidays in Gujarat Bank Holidays in Delhi Bank Holidays in September Income Tax Calculator 2025 Bank Holidays in Jammu And Kashmir Gold Rate in Bangalore Gold Rate in Chennai Gold Rate in Hyderabad Gold Rate in Mumbai Business Radio - FAB Play Credit Card Credit Score Gold Rate India Best Laptop Under 60000 Data Pages Quarterly Results Calendar Petrol Prices Diesel Prices MCX Gold Price Election Results 2024 Assembly Election Results 2024 MCX Silver Price Gold Price Silver Price NSE TOP Gainers NSE TOP Losers BSE TOP Gainers BSE TOP Losers Bank Holidays 2024 Upcoming IPO 2024 BSE Q3 Results 2023 Income Tax Calculator popular stocks JSW INFRASTRUCTURE share price R R KABEL share price CONCORD BIOTECH share price IDBI Bank share price Yes Bank share price Adani Power share price HUL share price Indian Oil share price Vedanta share price Jio Financial Services share price Paytm share price Punjab National Bank share price Canara Bank share price Adani Green Energy share price Indian Railway Finance Corporation share price Suzlon Energy share price IREDA share price Vodafone Idea share price Orient Technologies share price Premier Energies share price Bajaj Housing Finance Share Price Garuda Construction And Engineer share price Hyundai Motor India share price latest stories Kevin Hart to perform in India for the first time with ‘Acting My Age’ tour Pittsburgh Steelers sign Chuck Clark, former Baltimore Ravens' safety Goldman Trading Desk’s Clients Start Shorting Speculative Tech Ukraine anti-corruption chief says his agency faces dirty information campaign Anime Stars’ Pioneer Talent Firm Shuts Down Ryan McMahon trade: Yankees address third base woes with Rockies All-Star OYO's Ritesh Agarwal says India-UK FTA deal game-changer for startups, jobs India vs Australia Live Streaming: How to watch Yuvraj Singh vs Brett Lee in WCL Muizzu calls India ‘closest' ally, PM Modi stresses ‘friendship first’ Thailand-Cambodia clashes: 20 killed, over 1.3 lakh displaced Nifty 50 Companies ADANI ENTERPRISES share price ADANI PORTS share price APOLLO HOSPITALS share price ASIAN PAINTS share price AXIS BANK share price BAJAJ AUTO share price BAJAJ FINANCE share price BAJAJ FINSERVE share price BPCL share price BHARTI AIRTEL share price BRITANNIA share price CIPLA share price COAL INDIA share price DIVIS LABORATORIES share price DR REDDYS LABORATORIES share price EICHER MOTORS share price GRASIM INDUSTRIES share price HCL TECHNOLOGIES share price HDFC BANK share price HDFC LIFE share price HERO MOTOCORP share price HINDALCO INDUSTRIES share price HINDUSTAN UNILEVER share price ICICI BANK share price ITC share price INDUSIND BANK share price INFOSYS share price JSW STEEL share price KOTAK BANK share price LARSEN & TOURBO share price MAHINDRA & MAHINDRA share price MARUTI SUZUKI share price NTPC share price NESTLE INDIA share price ONGC share price POWER GRID share price RELIANCE INDUSTRIES share price SBI LIFE share price SBI share price SUN PHARMA share price TCS share price TATA MOTORS share price TATA STEEL share price TATA CONSUMER share price TECH MAHINDRA share price TITAN share price UPL share price ULTRATECH CEMENT share price WIPRO share price Powered by Open Demat Account Dhan Charts Stock Market Live SIP Calculator Margin Trading Facility Sections Premium Opinion News Market Politics Companies Money Sports Mutual Fund Industry Technology Bonds DOWNLOAD APP Download the Mint app and read premium stories About Us Contact Us Terms Of Use Privacy Policy Privacy and cookie settings RSS Copyright © 2025 HT Digital Streams Ltd All Right Reserved No NetworkServer IssueInternet Not AvailableWait for it…Log in to our website to save your bookmarks. It'll just take a moment.Yes, Continue You are just one step away from creating your watchlist!Login Now Wait for it…Oops! Looks like you have exceeded the limit to bookmark the image. Remove some to bookmark this image. Your session has expired, please login again.Yes, Continue Congratulations!You are now subscribed to our newsletters. In case you can’t find any email from our side, please check the spam folder. × × Get alerts on WhatsApp Gift an article Gift a Subscription Set Preferences My Reads Watchlist Feedback Redeem a Gift Card Logout Subscribe to continue This is a subscriber only feature Subscribe Now to get daily updates on WhatsApp Explore Sign in e-paper Subscribe Sign In Saturday, 26 July 2025 Stocks Mutual Funds News All Companies Technology Markets Money MyMint Mutual Funds Insurance Auto Industry Personal Finance Hello User Sign in Sign Out My Account My Account Subscribe My Watchlist Newsletters My Vouchers Notifications My Reads For You View Less - View More + Data Insights Market Dashboard Bullion Gold Silver Fuel Petrol Diesel Commodities Gold GoldM Aluminum Menthaoil Silver SilverMIC GoldPetal Natural Gas Copper Zinc SilverM CrudeOil GoldGinuea Lead CryptoCurrencies View Less - View More + Top Sections App home Money News Personal Finance Q&A Opinion Today's News India News World News US News Today Premium Markets Stock Markets IPO News IPO Dashboard Mark To Market Bonds Commodity News Cryptocurrency Economy Election Results 2025 Assembly Elections 2025 personal loan personal loan emi calculator Personal Loan Interest Rate Personal Loan Eligibility Business Loan Instant Loan View Less - View More + Premium Offerings e-paper WSJ Economist Barron's MyMint Mint Premium View Less - View More + Tools and Calculators IFSC Code Finder Income Tax Calculator SIP Calculator EMI Calculator Home Loan EMI Calculator Car Loan EMI NPS Calculator View Less - View More + MultiMedia Collections Videos WebStories Photo Gallery Podcasts View Less - View More + More From Mint Mint Genie Mint Lounge Mint Hindi Explore Mint About Us Print Subscription Mint Authors Terms of Use Disclaimer Mint Code Code of ethics Cookie Policy Privacy Policy Privacy and cookie settings Subscriber - Terms of Use SITEMAP Contact Us Mint Apps View Less - View More + Copyright © HT Digital Streams Limited All Rights Reserved. We couldn’t find what you’re looking for… Try searching another keyword or go to Home Page Latest Recommended For You Feedback Select your Category Query Suggestion Your Message Connect with us: trending stories Data Pages popular stocks latest stories Nifty 50 Companies ADANI ENTERPRISES share price ADANI PORTS share price APOLLO HOSPITALS share price ASIAN PAINTS share price AXIS BANK share price BAJAJ AUTO share price BAJAJ FINANCE share price BAJAJ FINSERVE share price BPCL share price BHARTI AIRTEL share price BRITANNIA share price CIPLA share price COAL INDIA share price DIVIS LABORATORIES share price DR REDDYS LABORATORIES share price EICHER MOTORS share price GRASIM INDUSTRIES share price HCL TECHNOLOGIES share price HDFC BANK share price HDFC LIFE share price HERO MOTOCORP share price HINDALCO INDUSTRIES share price HINDUSTAN UNILEVER share price ICICI BANK share price ITC share price INDUSIND BANK share price INFOSYS share price JSW STEEL share price KOTAK BANK share price LARSEN & TOURBO share price MAHINDRA & MAHINDRA share price MARUTI SUZUKI share price NTPC share price NESTLE INDIA share price ONGC share price POWER GRID share price RELIANCE INDUSTRIES share price SBI LIFE share price SBI share price SUN PHARMA share price TCS share price TATA MOTORS share price TATA STEEL share price TATA CONSUMER share price TECH MAHINDRA share price TITAN share price UPL share price ULTRATECH CEMENT share price WIPRO share price Powered by Open Demat Account Dhan Charts Stock Market Live SIP Calculator Margin Trading Facility Sections Premium Opinion News Market Politics Companies Money Sports Mutual Fund Industry Technology Bonds DOWNLOAD APP Download the Mint app and read premium stories About Us Contact Us Terms Of Use Privacy Policy Privacy and cookie settings RSS Copyright © 2025 HT Digital Streams Ltd All Right Reserved No NetworkServer IssueInternet Not AvailableWait for it…Log in to our website to save your bookmarks. It'll just take a moment.Yes, Continue You are just one step away from creating your watchlist!Login Now Wait for it…Oops! Looks like you have exceeded the limit to bookmark the image. Remove some to bookmark this image. Your session has expired, please login again.Yes, Continue Congratulations!You are now subscribed to our newsletters. In case you can’t find any email from our side, please check the spam folder. × × Get alerts on WhatsApp Gift an article Gift a Subscription Set Preferences My Reads Watchlist Feedback Redeem a Gift Card Logout Subscribe to continue This is a subscriber only feature Subscribe Now to get daily updates on WhatsApp Start Trading With JM Financial Services Start Investing in stocks, Mutual Funds, IPOs, and more Full Name Mobile Number Enter OTP Resend OTP Resend OTP Email ID (Optional) Submit Thank You Our team will get back to you shortly Access Denied Access Denied You don't have permission to access \"http://www.moneycontrol.com/\" on this server. Reference #18.8cf22217.1753469650.8f869f41 https://errors.edgesuite.net/18.8cf22217.1753469650.8f869f41 \n"
     ]
    }
   ],
   "execution_count": 19
  },
  {
   "metadata": {},
   "cell_type": "markdown",
   "source": "### Stock Market Data Processing with LLM",
   "id": "a9501b342dca9211"
  },
  {
   "cell_type": "code",
   "id": "initial_id",
   "metadata": {
    "collapsed": true,
    "ExecuteTime": {
     "end_time": "2025-07-25T19:07:25.307361Z",
     "start_time": "2025-07-25T19:07:24.109086Z"
    }
   },
   "source": "from scripts import llm",
   "outputs": [],
   "execution_count": 20
  },
  {
   "metadata": {
    "ExecuteTime": {
     "end_time": "2025-07-25T19:08:42.055795Z",
     "start_time": "2025-07-25T19:08:28.310802Z"
    }
   },
   "cell_type": "code",
   "source": "response = llm.ask_llm(context, \"What is today news?\")",
   "id": "6cbcc5bdcb4dcd79",
   "outputs": [],
   "execution_count": 24
  },
  {
   "metadata": {
    "ExecuteTime": {
     "end_time": "2025-07-25T19:08:42.059893Z",
     "start_time": "2025-07-25T19:08:42.056793Z"
    }
   },
   "cell_type": "code",
   "source": "print(response)",
   "id": "3aa81993ffa00c06",
   "outputs": [
    {
     "name": "stdout",
     "output_type": "stream",
     "text": [
      "Today's news includes various topics such as:\n",
      "\n",
      "1. Kevin Hart to perform in India for the first time with ‘Acting My Age’ tour\n",
      "2. Pittsburgh Steelers sign Chuck Clark, former Baltimore Ravens' safety\n",
      "3. Goldman Trading Desk’s Clients Start Shorting Speculative Tech\n",
      "4. Ukraine anti-corruption chief says his agency faces dirty information campaign\n",
      "5. Anime Stars’ Pioneer Talent Firm Shuts Down\n",
      "6. Ryan McMahon trade: Yankees address third base woes with Rockies All-Star\n",
      "7. OYO's Ritesh Agarwal says India-UK FTA deal game-changer for startups, jobs\n",
      "8. India vs Australia Live Streaming: How to watch Yuvraj Singh vs Brett Lee in WCL\n",
      "9. Muizzu calls India ‘closest' ally, PM Modi stresses ‘friendship first’\n",
      "10. Thailand-Cambodia clashes: 20 killed, over 1.3 lakh displaced\n",
      "\n",
      "These are just a few of the latest news updates available as of the current time. For more information, please visit the MoneyControl website or check their social media channels for the latest updates and breaking news stories.\n"
     ]
    }
   ],
   "execution_count": 25
  },
  {
   "metadata": {},
   "cell_type": "markdown",
   "source": [
    "### Catastrophic Forgetting\n",
    "- LLM puts **more attention** on the **start** part and the **last** part of the data.\n",
    "- In the **middle of data**, the attention gets **reduced**\n",
    "\n",
    "\n",
    "<br />\n",
    "\n",
    "<p align=\"center\">\n",
    "<img src=\"./../ASSETS/document-loaders-1.png\" />\n",
    "</p>\n"
   ],
   "id": "12162c9aff4fc770"
  },
  {
   "metadata": {
    "ExecuteTime": {
     "end_time": "2025-07-25T19:11:48.505053Z",
     "start_time": "2025-07-25T19:11:36.574911Z"
    }
   },
   "cell_type": "code",
   "source": "response = llm.ask_llm(context, \"Extract stock market news from the given text.\")",
   "id": "768287336f6e576e",
   "outputs": [],
   "execution_count": 30
  },
  {
   "metadata": {
    "ExecuteTime": {
     "end_time": "2025-07-25T19:11:48.509269Z",
     "start_time": "2025-07-25T19:11:48.506061Z"
    }
   },
   "cell_type": "code",
   "source": "print(response)",
   "id": "6af6462dcc8e196d",
   "outputs": [
    {
     "name": "stdout",
     "output_type": "stream",
     "text": [
      "Here are some extracted stock market news:\n",
      "\n",
      "1. Kevin Hart to perform in India for the first time with ‘Acting My Age’ tour\n",
      "2. Pittsburgh Steelers sign Chuck Clark, former Baltimore Ravens' safety\n",
      "3. Goldman Trading Desk’s Clients Start Shorting Speculative Tech\n",
      "4. Ukraine anti-corruption chief says his agency faces dirty information campaign\n",
      "5. Anime Stars’ Pioneer Talent Firm Shuts Down\n",
      "6. Ryan McMahon trade: Yankees address third base woes with Rockies All-Star\n",
      "7. OYO's Ritesh Agarwal says India-UK FTA deal game-changer for startups, jobs\n",
      "8. Thailand-Cambodia clashes: 20 killed, over 1.3 lakh displaced\n",
      "\n",
      "These news articles are related to various sectors such as entertainment, sports, and technology. They may not be directly related to the stock market but can provide insight into the overall economic and business landscape.\n"
     ]
    }
   ],
   "execution_count": 31
  },
  {
   "metadata": {},
   "cell_type": "markdown",
   "source": [
    "### Solution:\n",
    "- Break our text data into smaller chunks\n",
    "- And then, we can ask question on these individual chunks, so we'll be getting answer from these individual chunks.\n",
    "- Finally, we can combine all these together and make here a single document."
   ],
   "id": "deff87ef40e51b56"
  },
  {
   "metadata": {
    "ExecuteTime": {
     "end_time": "2025-07-25T19:19:32.230726Z",
     "start_time": "2025-07-25T19:19:09.876073Z"
    }
   },
   "cell_type": "code",
   "source": [
    "response = llm.ask_llm(context[:10_000], \"Extract stock market news from the given text.\")\n",
    "print(response)"
   ],
   "id": "2593d3a10ad3cdc1",
   "outputs": [
    {
     "name": "stdout",
     "output_type": "stream",
     "text": [
      "Here are the extracted stock market news:\n",
      "\n",
      "1. Bajaj Finserv Q1 Results FY26\n",
      "2. Bajaj Finance Share is Falling\n",
      "3. Stock Market Crash Today\n",
      "4. Why Bajaj Finance share is Falling\n",
      "5. Reliance Power Share Price\n",
      "6. Why Stock Market is Falling Today\n",
      "7. Nestle Q1 Results FY26\n",
      "8. Why IEX Share Price is Falling\n",
      "9. Persistent Systems Share Price\n",
      "10. TVS Motor Company Share Price 2774.40-23.30 (-0.84%)\n",
      "11. These 9 stocks witness decreasing promoter holdings\n",
      "12. US stocks rise on US-EU trade deal prospects; Intel falls\n",
      "13. Airtel Africa Q1 profit jumps 20% on Nigeria-led tariff boost\n",
      "14. Bharti Airtel Share Price 1937.90-1.81 (0.10%)\n",
      "15. Laurus Labs among 7 stocks that hit 52-week highs and rallied up to 25%\n",
      "16. IDFC First Bank Q1 Preview: PAT may fall up to 68% YoY amid NIM pressure\n",
      "17. HDFC Mutual Fund \"Tap2Invest\" on WhatsApp\n",
      "18. Should you opt for the old tax regime, or the new tax regime ?\n",
      "19. Money deadlines in March 2025\n",
      "20. Top 5 ELSS funds with up to 23% returns in 3 years\n",
      "21. New NPS fees from January 2025: Full breakdown of charges\n",
      "22. Top 5 aggressive hybrid equity funds with up to 38% returns in 1 year\n",
      "23. Sensex set to hit 115,836 by FY28 on earnings momentum: Ventura\n",
      "24. Swaraj Engines Ltd. recent broke out from a flag pattern on weekly charts, reaching new record highs.\n",
      "25. Short-term valuation headwinds? Yes. Long-term growth potential intact? Yes.\n",
      "26. Nikkei falls as traders lock in gains after US trade deal rally\n"
     ]
    }
   ],
   "execution_count": 32
  },
  {
   "metadata": {
    "ExecuteTime": {
     "end_time": "2025-07-25T19:26:57.480271Z",
     "start_time": "2025-07-25T19:26:57.475746Z"
    }
   },
   "cell_type": "code",
   "source": [
    "from typing import List\n",
    "\n",
    "\n",
    "def chunk_text(text, chunk_size, overlap=100) -> List[str]:\n",
    "    \"\"\"\n",
    "    :param overlap: \n",
    "        Particular context can be covered here in a next chunk properly\n",
    "    \"\"\"\n",
    "    \n",
    "    chunks = []\n",
    "    for i in range(0, len(text), chunk_size - overlap):\n",
    "        chunks.append(text[i:i + chunk_size])\n",
    "        \n",
    "    return chunks"
   ],
   "id": "3f1cc9e47479a8a5",
   "outputs": [],
   "execution_count": 33
  },
  {
   "metadata": {
    "ExecuteTime": {
     "end_time": "2025-07-25T19:27:10.619235Z",
     "start_time": "2025-07-25T19:27:10.615882Z"
    }
   },
   "cell_type": "code",
   "source": "chunks = chunk_text(context, 10_000)",
   "id": "73a2699fd812a22c",
   "outputs": [],
   "execution_count": 34
  },
  {
   "metadata": {
    "ExecuteTime": {
     "end_time": "2025-07-25T19:28:00.610704Z",
     "start_time": "2025-07-25T19:28:00.605776Z"
    }
   },
   "cell_type": "code",
   "source": "chunks",
   "id": "380f853679084a86",
   "outputs": [
    {
     "data": {
      "text/plain": [
       "['Stocks in News Today - Latest News on Stocks, Stock in News | The Economic TimesBenchmarks Nifty24,837.00-225.1FEATURED FUNDS★★★★★UTI Aggressive Hybrid Fund Regular Plan-Growth5Y Return20.6 % Invest NowFEATURED FUNDS★★★★★HSBC Large Cap Fund Direct-Growth5Y Return19 % Invest NowEnter search text:English EditionEnglish Editionहिन्दीગુજરાતીमराठीবাংলাಕನ್ನಡമലയാളംதமிழ்తెలుగు | 26 July, 2025, 12:21 AM IST | Today\\'s ePaper My Watchlist SubscribeSign InHomeETPrimeMarketsMarket DataAI Masterclass NewsIndustrySMEPoliticsWealthMFTechAICareersOpinionNRIPanacheMore MenuStocksNewsLive BlogStock Live BlogEarningsPodcastMarket ClassroomDons of Dalal StreetRecosStock Reports PlusNewMy ScreenerCandlestick ScreenerStock ScreenerStock WatchMarket CalendarStock Price QuotesOptionsIPOs/FPOsExpert ViewsInvestment IdeasCommoditiesViewsNewsOthersMentha OilPrecious MetalsGold MGoldSilverGold PetalSilver MicroSilver MGold GuineaOil & EnergyNatural GasCrude OilCrude Oil MiniBase MetalsAluminiumZinc MiniLead MiniCopperZincNickelAluminium MiniLeadPlantationKapasCotton CandyCottonForexForex NewsCurrency ConverterLive Stream!AIF PMSCryptoCrypto NewsCrypto TVCrypto PricesBondsMoreDigital Real EstateRealty NewsTechnicalsTechnical ChartVisualizeScreenerMind Over MoneyWeb StoriesMarkets DataUnlisted CompaniesMarket MogulsWebinarsSitemapDefinitionsBusiness News›Markets›Stocks›News NewsTop Searches:Bajaj Finserv Q1 Results FY26Stock Market Crash TodayWhy Bajaj Finance share is FallingStock Market Today LiveReliance Power share priceWhy Stock Market is Falling TodayNestle Q1 Results FY26Why IEX Share Price is FallingPersistent Systems share priceBajaj Housing Finance Q1 Results FY26Infosys Q1 Results Live UpdatesLodha Developers Share PriceStock picks of the week: 5 stocks with consistent score improvement and return potential of 13 to 45% in 1 yearJul 25, 2025, 11:32 PM ISTMore than the Nifty and Sensex taking a beating, what has changed in the last two sessions (and is more worrying) is negative market breadth. The risk of the situation getting worse if the indices remain under pressure is high. Especially as valuations are still on the higher side. In such a situation, what should bother you more? What happens in the market over the next few days or months? Or how a business is going to pan out? The business, of course.TVS Motor board to consider raising funds next weekJul 25, 2025, 07:34 PM ISTTVS Motor Company on Friday said its board will next week consider and approve raising of funds via the issue of securities on a private placement basis.TVS Motor Company Share Price 2774.40-23.30 (-0.84%)These 9 stocks witness decreasing promoter holdingsJul 25, 2025, 06:34 PM ISTUS stocks rise on US-EU trade deal prospects; Intel fallsJul 25, 2025, 10:05 PM ISTWall Street\\'s main indexes opened steady on Friday following record closes for the S&P 500 and the Nasdaq in the previous session, while investors looked for signs of progress in trade talks as they braced for the August 1 tariff deadline.Airtel Africa Q1 profit jumps 20% on Nigeria-led tariff boostJul 25, 2025, 06:20 PM ISTAirtel Africa posted a 25% YoY revenue surge to $1.41 billion and a 20% profit rise to $156 million in Q1 FY26, driven by tariff hikes, strong data growth, and subscriber expansion, especially in Nigeria and Francophone Africa.Bharti Airtel Share Price 1937.901.81 (0.10%)Laurus Labs among 7 stocks that hit 52-week highs and rallied up to 25% in a monthJul 25, 2025, 06:16 PM ISTIDFC First Bank Q1 Preview: PAT may fall up to 68% YoY amid NIM pressure. 6 things to watchJul 25, 2025, 06:57 PM ISTIDFC First Bank is expected to report weak Q1 FY26 results with 31–68% YoY PAT decline due to NIM compression, high credit costs, and interest reversals. Loan and deposit growth may remain strong, but profitability faces pressure. The estimates of Emkay Research, ICICI Securities, Axis Securities and Nuvama Institutional Equities have been taken into consideration.IDFC First Bank Share Price 70.70-2.19 (-3.01%)BULL\\'S EYEIncome Tax Department busts fake tax deduction racketSovereign Gold Bond 2017-18 Series I final redemption announcedPrices of LPG cylinder in Delhi, Mumbai, KolkataHDFC Mutual Fund \"Tap2Invest\" on WhatsAppShould you opt for the old tax regime, or the new tax regime ?Money deadlines in March 2025Top 5 ELSS funds with up to 23% returns in 3 yearsNew NPS fees from January 2025: Full breakdown of charges Top 5 aggressive hybrid equity funds with up to 38% returns in 1 yearMarket Movers2 top stock picks for near termGlobal mkts riding high on fragile optimismUS-EU trade deal could be next big catalystWhat led to record profit for Motilal OswalWhy UK FTA, US trade deal don\\'t matter3 sectors to offer better earnings upsideTime correction likely; rebound in Q2?Why Multi-asset funds are a smart choiceMarkets Videos‘We will kill you’: Florida Sheriff issues brutal warning to ICE protestors | US migrant crisisPete Hegseth stuns NATO allies with big announcement during meet with Baltic defence ministers\\'We have to put…\\': Trump warns of secondary sanctions in renewed threat to Russia amid Ukraine war\\'I never went to that island\\': Trump redirects Epstein scrutiny to Former President Bill ClintonPM Modi\\'s & Maldivian President Muizzu\\'s remarks at State Banquet, Maldives\\'Not going to change anything...\\': Trump torches Macron over plan to recognise Palestinian state\\'Fu**ing pedophile’: Florida Gov DeSantis heckled by ‘Alligator Alcatraz’ protester during tribute to Hulk HoganLIVE | UN Security Council holds briefing on Ukraine after recent Russian attacksPowered by Youngsters want to become Nikhil or Nithin Kamath but don\\'t want to use Zerodha: Ankur WarikooJul 25, 2025, 07:03 PM ISTInfluencer Ankur Warikoo critiqued Zerodha\\'s shrinking appeal among young investors, citing its lack of fun, relatability, and aspirational branding. He advised content revamp, cultural relevance, and positioning Zerodha as a cool, quiet rebel in investing. It was in response to Founder and CEO Nithin Kamath, posing a question for founders and marketing professionals on his X handle if traditional strategies used in the past to acquire customers will be useful now.Stock Radar: This smallcap stock breaks out from Flag pattern to hit fresh record high in July 2025; time to buy or book profits?Jul 25, 2025, 05:00 PM ISTSwaraj Engines Ltd. recently broke out from a flag pattern on weekly charts, reaching new record highs. Experts suggest a potential buying opportunity for short-term traders, targeting Rs 5,500 within 1-2 months. The stock exhibits bullish indicators, supported by strong volumes and consistent trading above key exponential moving averages, indicating a continued uptrend.Swaraj Engines Share Price 4208.30-157.60 (-3.61%)Sensex set to hit 115,836 by FY28 on earnings momentum: VenturaJul 25, 2025, 04:31 PM ISTVentura Securities projects Sensex at 115,836 and Nifty at 43,876 by FY28, backed by 12–14% EPS growth and resilient macro trends. Sectors like engineering and BFSI drive earnings momentum. India’s demographics, reforms, and stable debt levels position it as a top global investment destination despite persistent risks.Short-term valuation headwinds? Yes. Long-term growth potential intact? Yes. Which ‘Yes’ is more relevant?Jul 25, 2025, 04:18 PM ISTWhat is “financialization of savings”? Well, it is the trend of shifting savings from traditional, physical assets like real estate or gold to financial assets like stocks, mutual funds, or bonds. It is a trend that is only catching on in India, compared to developed economies where it is the norm. How do we say it is a growing trend? Because there is clear historical evidence of this. And there is no doubt that, on an absolute basis, the total number of investors trading in the Indian markets will be higher two years from now. Also, given the corrections and volatility we have seen of late, this participation may well take the safer MF route.An ETF is like having a picture of a gun for self-defense, says Rich Dad Poor Dad author Robert KiyosakiJul 25, 2025, 03:03 PM ISTRobert Kiyosaki cautioned investors that while ETFs offer convenience, they’re not substitutes for real assets like gold, silver, or Bitcoin. Comparing ETFs to a picture of a gun, he emphasized the need for financial literacy and tangible asset ownership.9 multibagger stocks with consistent FII buying over 3 quartersJul 25, 2025, 05:59 PM ISTForeign Institutional Investors (FIIs) have steadily raised their stakes in around 160 BSE-listed companies over the last three quarters, with September 2024 as the base quarter. The analysis includes only those stocks with a market capitalisation exceeding Rs 2,000 crore.Retail investors often track FII moves, given their research-driven strategies. Of these 160 stocks, more than half delivered positive one-year returns. Notably, 73 saw double-digit gains, while 9 turned multibaggers—more than doubling in value within 12 months. (Source: ACE Equity)Sona Comstar shares fall 3% after Sunjay Kapur\\'s mother seeks deferment of AGM today amid coercion, misrepresentation allegationsJul 25, 2025, 02:24 PM ISTShares of Sona Comstar fell 3% after a public dispute erupted within the promoter family. Rani Kapur, mother of the late Sunjay Kapur and majority shareholder, urged the company to postpone its July 25 AGM, citing coercion and document misuse following her son\\'s “sudden and suspicious” death. The controversy has sparked legal concerns and investor unease.F&O Radar| Deploy Bull Call Spread in Nifty to gain from a ‘buy-on-dips’ stanceJul 25, 2025, 01:42 PM ISTNifty’s July setup suggests a “buy-on-dips” opportunity with strong support at 24,830 and resistance at 25,670. Traders can consider a Bull Call Spread strategy to capitalize on potential upside, with a breakout likely above 25,250. India VIX remains low, favoring bullish bets.Nikkei falls as traders lock in gains after US trade deal rallyJul 25, 2025, 01:26 PM ISTJapan\\'s Nikkei share average dropped on',\n",
       " \" in gains after US trade deal rallyJul 25, 2025, 01:26 PM ISTJapan's Nikkei share average dropped on Friday, halting a two-day advance that brought the index to the brink of a record, as traders locked in gains spurred by a newly inked trade deal with the United States.Load More...Videos'I never went to Epstein island'Trump warns of secondary sanctions on RussiaTrump dismisses Macron's plan to recognise Palestinian stateTrending in MarketsStock Market LIVEInfosys Q1 Results FY26Infosys Q1 Results Live UpdatesPaytm Q1 ResultsSwiggy share priceZomato share priceWipro Q1 Results Live UpdatesVedanta Share NewsTrent Share PriceHDB Financial Share Price Live UpdatesGlobe Civil Projects IPO Grey Market PremiumBelrise Industries SharesMarkets BSENSEBSENSEGainersLosersCommodity Gainers/Commodity Losers/ForexIndian rupee falls 19 paise to 86.59 against US dollar in early trade52W - High52W - LowTop Mutual FundsETFsIPOs: OpenQuarterly ResultsRevenuePATRecommendationsMarkets Calendar25JULITC Ltd.AGM 25/07/2025 25JULAxis Bank Ltd.AGM 25/07/2025 25JULNTPC Ltd.POM 25/07/2025 25JULBajaj Finserv Ltd.AGM 25/07/2025 25JULBajaj Finserv Ltd.Board Meeting : Quarterly Results More Events Forex CalculatorFrom this CurrencyAfghanistan AfghaniAlbanian LekAlgerian DinarAndorran FrancAndorran PesetaAngolan KwanzaAngolan New KwanzaArgentine PesoArmenian DramAruban FlorinAustralian DollarAustrian SchillingAzerbaijani ManatAzerbaijani New ManatBahamian DollarBahraini DinarBangladeshi TakaBarbados DollarBelgian FrancBelize DollarBermudian DollarBhutan NgultrumBolivian BolivianoBosnian MarkBotswana PulaBrazilian RealBritish PoundBrunei DollarBulgarian LevBurundi FrancBelarusian RubleCFA Franc BCEAOCFA Franc BEACCFP FrancCambodian RielCanadian DollarCape Verde EscudoCayman Islands DollarChilean PesoChinese Yuan RenminbiColombian PesoComoros FrancCongolese FrancCosta Rican ColonCroatian KunaCuban Convertible PesoCuban PesoCyprus PoundCzech KorunaDanish KroneDjibouti FrancDominican PesoDutch GuilderEast Caribbean DollarECUEcuador SucreEgyptian PoundEl Salvador ColonEstonian KroonEthiopian BirrEuroFalkland Islands PoundFiji DollarFinnish MarkkaFrench FrancGambian DalasiGeorgian LariGerman MarkGhanaian CediGhanaian New CediGibraltar PoundGold (oz.)Greek DrachmaGuatemalan QuetzalGuinea FrancGuyanan DollarHaitian GourdeHonduran LempiraHong Kong DollarHungarian ForintIceland KronaIndian RupeeIndonesian RupiahIranian RialIraqi DinarIrish PuntIsraeli New ShekelItalian LiraJamaican DollarJapanese YenJordanian DinarKampuchean RielKazakhstan TengeKenyan ShillingKorean WonKuwaiti DinarKyrgistanian SomLao KipLatvian LatsLebanese PoundLesotho LotiLiberian DollarLibyan DinarLithuanian LitasLuxembourg FrancMacau PatacaMacedonian DenarMalagasy FrancMalawi KwachaMalagasy AriaryMalaysian RinggitMaldive RufiyaaMaltese LiraMauritanian OuguiyaMauritius RupeeMexican PesoMoldovan LeuMongolian TugrikMoroccan DirhamMozambique MeticalNew Mozambican MeticalMyanmar KyatNL Antillian GuilderNamibia DollarNepalese RupeeNetherlands GuilderNew Zealand DollarNicaraguan Cordoba OroNigerian NairaNorth Korean WonNorwegian KronerOmani RialPakistan RupeePalladium (oz.)Panamanian BalboaPapua New Guinea KinaParaguay GuaraniPeruvian Nuevo SolPhilippine PesoPlatinum (oz.)Polish ZlotyPortuguese EscudoPound SterlingQatari RialRomanian LeuRomanian New LeuRussian RoubleRwandan FrancSamoan TalaSao Tome/Principe DobraSaudi RiyalSerbian DinarSeychelles RupeeSierra Leone LeoneSilver (oz.)Singapore DollarSlovak KorunaSlovenian TolarSolomon Islands DollarSomali ShillingSouth African RandSpanish PesetaSri Lanka RupeeSt. Helena PoundSudanese DinarSudanese PoundSudanese Old PoundSuriname DollarSuriname GuilderSwaziland LilangeniSwedish KronaSwiss FrancSyrian PoundTaiwan DollarTanzanian ShillingThai BahtTurkmenistan ManatTongan PaangaTrinidad/Tobago DollarTunisian DinarTurkish LiraTurkish New LiraUganda ShillingUkraine GryvnaUkraine HryvniaUnited Kingdom PoundUS DollarUruguayan PesoUt. Arab Emir. DirhamVanuatu VatuVenezuelan BolivarVietnamese DongYemeni RialYugoslav DinarZambian KwachaZimbabwe DollarAmount ConvertTo this CurrencyAfghanistan AfghaniAlbanian LekAlgerian DinarAndorran FrancAndorran PesetaAngolan KwanzaAngolan New KwanzaArgentine PesoArmenian DramAruban FlorinAustralian DollarAustrian SchillingAzerbaijani ManatAzerbaijani New ManatBahamian DollarBahraini DinarBangladeshi TakaBarbados DollarBelgian FrancBelize DollarBermudian DollarBhutan NgultrumBolivian BolivianoBosnian MarkBotswana PulaBrazilian RealBritish PoundBrunei DollarBulgarian LevBurundi FrancBelarusian RubleCFA Franc BCEAOCFA Franc BEACCFP FrancCambodian RielCanadian DollarCape Verde EscudoCayman Islands DollarChilean PesoChinese Yuan RenminbiColombian PesoComoros FrancCongolese FrancCosta Rican ColonCroatian KunaCuban Convertible PesoCuban PesoCyprus PoundCzech KorunaDanish KroneDjibouti FrancDominican PesoDutch GuilderEast Caribbean DollarECUEcuador SucreEgyptian PoundEl Salvador ColonEstonian KroonEthiopian BirrEuroFalkland Islands PoundFiji DollarFinnish MarkkaFrench FrancGambian DalasiGeorgian LariGerman MarkGhanaian CediGhanaian New CediGibraltar PoundGold (oz.)Greek DrachmaGuatemalan QuetzalGuinea FrancGuyanan DollarHaitian GourdeHonduran LempiraHong Kong DollarHungarian ForintIceland KronaIndian RupeeIndonesian RupiahIranian RialIraqi DinarIrish PuntIsraeli New ShekelItalian LiraJamaican DollarJapanese YenJordanian DinarKampuchean RielKazakhstan TengeKenyan ShillingKorean WonKuwaiti DinarKyrgistanian SomLao KipLatvian LatsLebanese PoundLesotho LotiLiberian DollarLibyan DinarLithuanian LitasLuxembourg FrancMacau PatacaMacedonian DenarMalagasy FrancMalawi KwachaMalagasy AriaryMalaysian RinggitMaldive RufiyaaMaltese LiraMauritanian OuguiyaMauritius RupeeMexican PesoMoldovan LeuMongolian TugrikMoroccan DirhamMozambique MeticalNew Mozambican MeticalMyanmar KyatNL Antillian GuilderNamibia DollarNepalese RupeeNetherlands GuilderNew Zealand DollarNicaraguan Cordoba OroNigerian NairaNorth Korean WonNorwegian KronerOmani RialPakistan RupeePalladium (oz.)Panamanian BalboaPapua New Guinea KinaParaguay GuaraniPeruvian Nuevo SolPhilippine PesoPlatinum (oz.)Polish ZlotyPortuguese EscudoPound SterlingQatari RialRomanian LeuRomanian New LeuRussian RoubleRwandan FrancSamoan TalaSao Tome/Principe DobraSaudi RiyalSerbian DinarSeychelles RupeeSierra Leone LeoneSilver (oz.)Singapore DollarSlovak KorunaSlovenian TolarSolomon Islands DollarSomali ShillingSouth African RandSpanish PesetaSri Lanka RupeeSt. Helena PoundSudanese DinarSudanese PoundSudanese Old PoundSuriname DollarSuriname GuilderSwaziland LilangeniSwedish KronaSwiss FrancSyrian PoundTaiwan DollarTanzanian ShillingThai BahtTurkmenistan ManatTongan PaangaTrinidad/Tobago DollarTunisian DinarTurkish LiraTurkish New LiraUganda ShillingUkraine GryvnaUkraine HryvniaUnited Kingdom PoundUS DollarUruguayan PesoUt. Arab Emir. DirhamVanuatu VatuVenezuelan BolivarVietnamese DongYemeni RialYugoslav DinarZambian KwachaZimbabwe Dollar ConvertSector PerformanceSectors Mkt. Cap (%chg)Decline/Advance< -2%-2% to < 0%0%> 0% to +2%> +2%ET SpeedMost Searched StocksIRFC Share Price132.03-55.8%03:59 PM | 25 Jul 2025-3.63(-2.67%) Upside Suzlon Energy Share Price63.6217.3%03:59 PM | 25 Jul 2025-1.7(-2.61%) Upside IREDA Share Price153.2512.0%03:59 PM | 25 Jul 2025-2.97(-1.9%) Upside Tata Motors Share Price687.49.1%03:59 PM | 25 Jul 2025-13.11(-1.88%) Upside YES Bank Share Price19.6-11.5%03:59 PM | 25 Jul 2025-0.42(-2.05%) Upside HDFC Bank Share Price2004.612.2%03:59 PM | 25 Jul 2025-9.61(-0.48%) Upside NHPC Share Price83.488.5%03:59 PM | 25 Jul 2025-2.36(-2.75%) Upside RVNL Share Price365.6-28.1%03:59 PM | 25 Jul 2025-11.3(-3.0%) Upside SBI Share Price806.5514.3%03:59 PM | 25 Jul 2025-9.16(-1.13%) Upside Tata Power Share Price395.355.3%03:59 PM | 25 Jul 2025-5.35(-1.34%) Upside Tata Steel Share Price161.43-0.3%03:59 PM | 25 Jul 2025-2.05(-1.26%) Upside Adani Power Share Price570.08.2%03:59 PM | 25 Jul 2025-15.75(-2.69%) Upside PayTM Share Price1067.75-0.6%03:59 PM | 25 Jul 2025-38.5(-3.49%) Upside PNB Share Price108.41-1.5%03:59 PM | 25 Jul 2025-2.27(-2.05%) Upside Eternal Share Price310.55-1.6%03:59 PM | 25 Jul 2025-2.6(-0.84%) Upside BEL Share Price395.22.7%03:59 PM | 25 Jul 2025-3.06(-0.77%) Upside BHEL Share Price240.15-12.0%03:59 PM | 25 Jul 2025-10.91(-4.35%) Upside Infosys Share Price1515.710.1%03:59 PM | 25 Jul 2025-36.8(-2.38%) Upside IRCTC Share Price746.259.1%03:58 PM | 25 Jul 2025-10.9(-1.44%) Upside ITC Share Price409.421.7%03:59 PM | 25 Jul 2025-0.56(-0.14%) Upside Jio Financial Services Share Price311.25-15.3%03:59 PM | 25 Jul 2025-5.2(-1.65%) Upside LIC Share Price886.8517.8%03:59 PM | 25 Jul 2025-30.15(-3.29%) Upside RIL Share Price1391.715.5%03:59 PM | 25 Jul 2025-11.21(-0.8%) Upside HAL Share Price4552.720.7%03:59 PM | 25 Jul 2025-127.91(-2.74%) Upside JP Power Share Price20.12null%03:59 PM | 25 Jul 2025-0.99(-4.69%) Upside NBCC Share Price109.2522.3%03:59 PM | 25 Jul 2025-4.44(-3.9%) Upside TCS Share Price3135.819.4%03:59 PM | 25 Jul 2025-12.2(-0.39%) Upside Vedanta Share Price443.5514.8%03:59 PM | 25 Jul 2025-7.81(-1.73%) Upside Wipro Share Price259.2-0.3%03:59 PM | 25 Jul 2025-2.66(-1.02%) Upside Indian Oil Corp. Share Price146.965.1%03:59 PM | 25 Jul 2025-4.26(-2.82%) Upside Ircon Intl. Share Price181.25-15.3%03:59 PM | 25 Jul 2025-5.39(-2.89%) Upside SAIL Share Price130.67-12.6%03:59 PM | 25 Jul 2025-5.5(-4.04%) Upside SJVN Share Price95.191.2%03:59 PM | 25 Jul 2025-3.61(-3.65%) Upside GAIL Share Price183.5114.9%03:59 PM | 25 Jul 2025-4.47(-2.38%) Upside HUDCO Share Price218.6428.0%03:59 PM | 25 Jul 2025-6.43(-2.86%) Upside REC Share Price400.7531.4%03:59 PM | 25 Jul 2025-4.15(-1.03%) Upside Reliance Power Share Price56.78null%03:59 PM | 25 Jul 2025-3.0(-5.01%) Upside Tata Technologies Share Price708.35-14.6%03:57 PM | 25 Jul 2025-9.8(-1.37%) Upside Vodafone Idea Share Price7.21.4%03:59 PM | 25 Jul 2025-0.17(-2.31%) Upside Adani Ent. Share Price2550.121.9%03:58 PM | 25 Jul 2025-58.31\",\n",
       " '9 PM | 25 Jul 2025-0.17(-2.31%) Upside Adani Ent. Share Price2550.121.9%03:58 PM | 25 Jul 2025-58.31(-2.24%) Upside Adani Green Share Price975.922.5%03:59 PM | 25 Jul 2025-44.81(-4.39%) Upside Adani Ports SEZ Share Price1396.314.1%03:59 PM | 25 Jul 2025-15.3(-1.09%) Upside Ashok Leyland Share Price121.957.4%03:59 PM | 25 Jul 2025-2.85(-2.29%) Upside Bank of Baroda Share Price243.457.8%03:58 PM | 25 Jul 2025-3.42(-1.39%) Upside BSE Share Price2454.0-8.2%03:59 PM | 25 Jul 2025-93.81(-3.69%) Upside Canara Bank Share Price110.76-1.3%03:58 PM | 25 Jul 2025-2.75(-2.43%) Upside CDSL Share Price1614.7-20.2%03:59 PM | 25 Jul 2025-64.6(-3.85%) Upside Coal India Ltd Share Price380.816.5%03:59 PM | 25 Jul 2025-4.75(-1.24%) Upside HFCL Share Price75.9466.6%03:59 PM | 25 Jul 2025-3.32(-4.18%) Upside IDFC First Bank Share Price70.73.9%03:59 PM | 25 Jul 2025-2.19(-3.01%) Upside Load more..Popular in MarketsMark Matthews on why FTA with UK, US trade deal shouldn’t matter much for IndiaIDFC First Bank Q1 Preview: PAT may fall up to 68% YoY amid NIM pressure. 6 things to watchJim Rogers doubles down on silver: “If it stays cheap, I’ll keep buying\"Bajaj Finserv Q1 Results: Cons profit jumps 30% YoY to Rs 2,789 crore; revenue up 13%TVS Motor board to consider raising funds next weekEnter search text:BrowseCompanies:ABCDEFGHIJKLMNOPQRSTUVWXYZ123456789Quick LinksMOREMobiKwik Shares NewsReliance Power Preferential IssueHDB Financial Services IPOWestern Carriers IPO Allotment StatusITD Cementation Share PriceUS Fed Meeting TimeReliance Power Share PriceGST Council Meeting LiveBaazar Style Retail IPOHAL Share PriceNiftyShare Market LiveBajaj Housing Finance Share PriceTCS Q4 ResultsAdani Green Q2 ResultsMaruti Suzuki Q2 ResultsCipla Q2 ResultsMamaearth IPONestle India Q3 ResultsHot on WebMOREKCET mock allotment results 2025Shriram Finance Q1 Results FY26Bajaj Finserv Q1 ResultsWhy stock market is Falling TodaySensex TodayIs Yahoo mail downHulk Hogan sex-tape controversyHulk Hogan Net Worth 2025Why stock market is down today?Hulk hogan deadThailand Cambodia News LiveNestle Q1 ResultsIEX share priceAP EAMCET 2025Bajaj Housing Finance Q1 ResultsInfosys Q1 Results 2025GNG Electronics IPO GMPIn Case you missed itMORETCS Q1 Results FY25Afcons InfrastructureIREDA Q2 ResultsReliance Power Preferential IssueManba Finance IPOHDB Financial Services IPOCochin Shipyard Share PriceNorthern Arc Capital IPO AllotmentArkade Developers IPO Allotment TodayStocks in news todayUS Fed Meeting TimeUS Fed Rate Cut TodayNSE Bonus Issue Record DateBSE Share PriceBajaj Housing Finance IPO Listing LiveBajaj Housing Finance Share PriceTata Power Share PriceMORETop Searched CompaniesIRFC share priceSuzlon share priceIREDA share priceTATA Motors share priceYes bank share priceHDFC Bank share priceNHPC share priceRVNL share priceSBI share priceTata power share priceTata steel share priceAdani power share pricePaytm share pricePNB share priceZomato share priceBEL share priceBHEL share priceInfosys share priceIRCTC share priceITC share priceJIO finance share priceLIC share priceReliance share priceHAL share priceJP Power share priceNBCC share priceTCS share priceVedanta share priceWipro share priceIOC share priceIrcon share priceSAIL share priceSJVN share priceGAIL share priceHUDCO share priceREC share priceReliance Power share priceTata Technologies share priceVodafone idea share priceAdani Enterprises share priceAdani Green share priceAdani Port share priceAshok Leyland share priceBank of Baroda share priceBSE share priceCanara Bank share priceCDSL share priceCoal India share priceHFCL share priceIDFC First Bank share priceTop CalculatorsMOREStandard Deviation CalculatorIncome Tax CalculatorAge CalculatorSIP CalculatorTime CalculatorBMI CalculatorGPA CalculatorStatistics CalculatorFraction CalculatorDiabetes Risk CalculatorDate CalculatorLog CalculatorMORETop CommoditiesGold RateMenthaoil RateNickel RateKapas RateCopper RateZinc RateSilver RateCotton RateAluminium RateCrudeoil RateMORETop Prime ArticlesNo 5g Service Lack Of Fresh Funds Could Further Hurt Vodafone Idea Even As Airtel Jio Leap AheadFalling Off The Momentum Why Retail Investors Are Losing Money After Witnessing A Long RallyIs Nifty Next 50 A Good Bet Only If You Are A Super Long Term InvestorAdani Group Stocks Will Averaging Out Work For Retail InvestorsWe Want To Solve The Wazirx Binance Issue Once And For All Nischal ShettyReliance Jiocinema Is Streaming Ipl 2023 For Free Will This Now Disrupt The Ott BusinessNippon India Fund DirectAfter Adani Stocks Hindenburg May Have Crashed Into Indias Green Hydrogen Mission TooIndian It Companies Rode The Cloud Wave As Hyperscalers Growth Tapers How Will It Impact ThemMens Underwear Sales Are Falling Should Indian Economy Prepare For A Below The Belt JoltMORETop Story ListingSgx NiftyLicEarthquake TodayEpfo PensionEarthquake In DelhiTcs LayoffsNifty CrashStock Market CrashEpfoMORETop DefinitionsAccountingCurrency SymbolMarketsMarketing MixProductMapsko Builders Private LimitedFpoBusinessFiscal DeficitRepo RateMORETop SlideshowHow Rajendra Badwe Is Making Cancer Treatment Affordable By Repurposing Easily Available DrugsIcici BankAxis BankStock IdeasRaw VegetablesMORETop Market PagesFully Drawn AdvanceLatest NewsHoroscope Today 26 July 2025: Libra Moon urges balance, clarity, and deeper connection for all zodiac signsParliament set to run smoothly as govt, opposition reach deal on Operation SindoorShake off that boardomExtension of President\\'s rule in Manipur will undermine democratic spirit, people don’t want it: CongressCredit growth slow despite rate cutsSupreme Court extends stay on summons against Rahul GandhiIndia eases Maldives\\' debt, pledges approximately Rs 4,850 crore credit lineBengal Governor sends \\'excessively harsh\\' Aparajita Bill back to state govtFatty liver symptoms to watch before it turns cancerous: Who’s most at risk and what lifestyle changes can helpOperation Sindoor ongoing, no runners-up in war: CDS Anil ChauhanSincere concernUS core orders drop, reflecting cautionBaccarat CEO Laurence Nicolas on India’s evolving taste for meaningful luxuryMicheal Ward charged with rape and sexual assault: Top Boy actor denies allegationsOBCs real productive force, not aware of own strength, says Rahul GandhiFollow us on:Download ET App:subscribe to our newsletterCopyright © 2025 Bennett, Coleman & Co. Ltd. All rights reserved. For reprint rights: Times Syndication ServiceBACK TO TOP Latest News Today: Latest News Headlines, Breaking News, Current News | Mint Explore Sign in e-paper Subscribe Sign In Saturday, 26 July 2025 Stocks Mutual Funds News Home Latest News Markets News Premium Companies Money Delhi Gold Rate GNG Electronics IPO Technology Mint Hindi In Charts All Companies Technology Markets Money MyMint Mutual Funds Insurance Auto Industry Personal Finance Hello User Sign in Sign Out My Account My Account Subscribe My Watchlist Newsletters My Vouchers Notifications My Reads For You View Less - View More + Data Insights Market Dashboard Bullion Gold Silver Fuel Petrol Diesel Commodities Gold GoldM Aluminum Menthaoil Silver SilverMIC GoldPetal Natural Gas Copper Zinc SilverM CrudeOil GoldGinuea Lead CryptoCurrencies View Less - View More + Top Sections App home Money News Personal Finance Q&A Opinion Today\\'s News India News World News US News Today Premium Markets Stock Markets IPO News IPO Dashboard Mark To Market Bonds Commodity News Cryptocurrency Economy Election Results 2025 Assembly Elections 2025 personal loan personal loan emi calculator Personal Loan Interest Rate Personal Loan Eligibility Business Loan Instant Loan View Less - View More + Premium Offerings e-paper WSJ Economist Barron\\'s MyMint Mint Premium View Less - View More + Tools and Calculators IFSC Code Finder Income Tax Calculator SIP Calculator EMI Calculator Home Loan EMI Calculator Car Loan EMI NPS Calculator View Less - View More + MultiMedia Collections Videos WebStories Photo Gallery Podcasts View Less - View More + More From Mint Mint Genie Mint Lounge Mint Hindi Explore Mint About Us Print Subscription Mint Authors Terms of Use Disclaimer Mint Code Code of ethics Cookie Policy Privacy Policy Privacy and cookie settings Subscriber - Terms of Use SITEMAP Contact Us Mint Apps View Less - View More + Copyright © HT Digital Streams Limited All Rights Reserved. Gainers & Losers Top Gainers Top Losers Sun Pharmaceutical Industries share price 1,700.850.52% Bharti Airtel share price 1,937.600.05% Bajaj Finance share price 913.65-4.73% Indusind Bank share price 823.70-2.78% Power Grid Corporation Of India share price 291.45-2.61% Infosys share price 1,515.60-2.44% Tech Mahindra share price 1,461.80-2.44% Active Stocks Fri Jul 25 2025 15:59:13 Bajaj Finance share price 913.65 -4.73% Tata Motors share price 687.30 -1.90% Tata Steel share price 161.40 -1.25% Bharti Airtel share price 1,937.60 0.05% Wipro share price 259.35 -0.97% Business News/ Latest News Latest News Premium Kevin Hart to perform in India for the first time with ‘Acting My Age’ tour 1 min read . 12:21 AM IST Share Via Premium Pittsburgh Steelers sign Chuck Clark, former Baltimore Ravens\\' safety 2 min read . 12:19 AM IST Share Via Premium Goldman Trading Desk’s Clients Start Shorting Speculative Tech 1 min read . 12:19 AM IST Share Via Premium Ukraine anti-corruption chief says his agency faces dirty information campaign 3 min read . 12:06 AM IST Share Via Premium Anime Stars’ Pioneer Talent Firm Shuts Down 1 min read . 12:05 AM IST Share Via Premium Ryan McMahon trade: Yankees address third base woes with Rockies All-Star 1 min read . 25 Jul 2025 Share Via Premium OYO\\'s Ritesh Agarwal says India-UK FTA deal game-changer for startups, jobs 1 min read . 25 Jul 2025 Share Via Premium India vs Australia Live Streaming: How to watch Yuvraj Singh vs Brett Lee in WCL 2 min read . 25 Jul 2025 Share Via Premium Muizzu calls India ‘closest\\' ally, PM Modi stresses ‘friendship first’ 3 min read . 25 Jul 2025 Share Via 3 Premium ',\n",
       " \"ia ‘closest' ally, PM Modi stresses ‘friendship first’ 3 min read . 25 Jul 2025 Share Via 3 Premium Thailand-Cambodia clashes: 20 killed, over 1.3 lakh displaced 25 Jul 2025 Share Via Premium Bomb threat received for Mumbai airport, CSMT; turned out to be hoax, say cops 1 min read . 25 Jul 2025 Share Via Premium Tesla’s robotaxi service may launch this Weekend in San Francisco: Report 1 min read . 25 Jul 2025 Share Via Premium Tanushree Dutta says emotional video was sparked by five years of harassment 2 min read . 25 Jul 2025 Share Via Premium New York Mets acquire Gregory Soto from Baltimore Orioles - Report 1 min read . 25 Jul 2025 Share Via Premium The Big ‘Mc’ Feud: Here’s why a Gujarat snack maker is suing McDonald’s 2 min read . 25 Jul 2025 Share Via Premium Techie calls India’s hiring process ‘filthy’, slams HRs' pay slip requirement 3 min read . 25 Jul 2025 Share Via Premium Tripura professor suspended after intimate video with student goes viral 1 min read . 25 Jul 2025 Share Via Premium Sebi proposes to ease disclosure norms for debenture issuers 3 min read . 25 Jul 2025 Share Via Premium Odisha: Brothers try to bury 5-month pregnant teen alive after raping her 1 min read . 25 Jul 2025 Share Via Premium Can Trump pardon Epstein accomplice Ghislaine Maxwell? POTUS says… 2 min read . 25 Jul 2025 Share Via Recommended For You Feedback Select your Category Query Suggestion Your Message Connect with us: trending stories Govindachamy PM Modi in London LIVE 8th Pay Commission GNG Electronics IPO Jackfruit IEX share price Sovereign Gold Bond Scheme N Chandrasekaran Thailand-Cambodia clash Livemint Hindi Bank Holidays in Gujarat Bank Holidays in Delhi Bank Holidays in September Income Tax Calculator 2025 Bank Holidays in Jammu And Kashmir Gold Rate in Bangalore Gold Rate in Chennai Gold Rate in Hyderabad Gold Rate in Mumbai Business Radio - FAB Play Credit Card Credit Score Gold Rate India Best Laptop Under 60000 Data Pages Quarterly Results Calendar Petrol Prices Diesel Prices MCX Gold Price Election Results 2024 Assembly Election Results 2024 MCX Silver Price Gold Price Silver Price NSE TOP Gainers NSE TOP Losers BSE TOP Gainers BSE TOP Losers Bank Holidays 2024 Upcoming IPO 2024 BSE Q3 Results 2023 Income Tax Calculator popular stocks JSW INFRASTRUCTURE share price R R KABEL share price CONCORD BIOTECH share price IDBI Bank share price Yes Bank share price Adani Power share price HUL share price Indian Oil share price Vedanta share price Jio Financial Services share price Paytm share price Punjab National Bank share price Canara Bank share price Adani Green Energy share price Indian Railway Finance Corporation share price Suzlon Energy share price IREDA share price Vodafone Idea share price Orient Technologies share price Premier Energies share price Bajaj Housing Finance Share Price Garuda Construction And Engineer share price Hyundai Motor India share price latest stories Kevin Hart to perform in India for the first time with ‘Acting My Age’ tour Pittsburgh Steelers sign Chuck Clark, former Baltimore Ravens' safety Goldman Trading Desk’s Clients Start Shorting Speculative Tech Ukraine anti-corruption chief says his agency faces dirty information campaign Anime Stars’ Pioneer Talent Firm Shuts Down Ryan McMahon trade: Yankees address third base woes with Rockies All-Star OYO's Ritesh Agarwal says India-UK FTA deal game-changer for startups, jobs India vs Australia Live Streaming: How to watch Yuvraj Singh vs Brett Lee in WCL Muizzu calls India ‘closest' ally, PM Modi stresses ‘friendship first’ Thailand-Cambodia clashes: 20 killed, over 1.3 lakh displaced Nifty 50 Companies ADANI ENTERPRISES share price ADANI PORTS share price APOLLO HOSPITALS share price ASIAN PAINTS share price AXIS BANK share price BAJAJ AUTO share price BAJAJ FINANCE share price BAJAJ FINSERVE share price BPCL share price BHARTI AIRTEL share price BRITANNIA share price CIPLA share price COAL INDIA share price DIVIS LABORATORIES share price DR REDDYS LABORATORIES share price EICHER MOTORS share price GRASIM INDUSTRIES share price HCL TECHNOLOGIES share price HDFC BANK share price HDFC LIFE share price HERO MOTOCORP share price HINDALCO INDUSTRIES share price HINDUSTAN UNILEVER share price ICICI BANK share price ITC share price INDUSIND BANK share price INFOSYS share price JSW STEEL share price KOTAK BANK share price LARSEN & TOURBO share price MAHINDRA & MAHINDRA share price MARUTI SUZUKI share price NTPC share price NESTLE INDIA share price ONGC share price POWER GRID share price RELIANCE INDUSTRIES share price SBI LIFE share price SBI share price SUN PHARMA share price TCS share price TATA MOTORS share price TATA STEEL share price TATA CONSUMER share price TECH MAHINDRA share price TITAN share price UPL share price ULTRATECH CEMENT share price WIPRO share price Powered by Open Demat Account Dhan Charts Stock Market Live SIP Calculator Margin Trading Facility Sections Premium Opinion News Market Politics Companies Money Sports Mutual Fund Industry Technology Bonds DOWNLOAD APP Download the Mint app and read premium stories About Us Contact Us Terms Of Use Privacy Policy Privacy and cookie settings RSS Copyright © 2025 HT Digital Streams Ltd All Right Reserved No NetworkServer IssueInternet Not AvailableWait for it…Log in to our website to save your bookmarks. It'll just take a moment.Yes, Continue You are just one step away from creating your watchlist!Login Now Wait for it…Oops! Looks like you have exceeded the limit to bookmark the image. Remove some to bookmark this image. Your session has expired, please login again.Yes, Continue Congratulations!You are now subscribed to our newsletters. In case you can’t find any email from our side, please check the spam folder. × × Get alerts on WhatsApp Gift an article Gift a Subscription Set Preferences My Reads Watchlist Feedback Redeem a Gift Card Logout Subscribe to continue This is a subscriber only feature Subscribe Now to get daily updates on WhatsApp Explore Sign in e-paper Subscribe Sign In Saturday, 26 July 2025 Stocks Mutual Funds News All Companies Technology Markets Money MyMint Mutual Funds Insurance Auto Industry Personal Finance Hello User Sign in Sign Out My Account My Account Subscribe My Watchlist Newsletters My Vouchers Notifications My Reads For You View Less - View More + Data Insights Market Dashboard Bullion Gold Silver Fuel Petrol Diesel Commodities Gold GoldM Aluminum Menthaoil Silver SilverMIC GoldPetal Natural Gas Copper Zinc SilverM CrudeOil GoldGinuea Lead CryptoCurrencies View Less - View More + Top Sections App home Money News Personal Finance Q&A Opinion Today's News India News World News US News Today Premium Markets Stock Markets IPO News IPO Dashboard Mark To Market Bonds Commodity News Cryptocurrency Economy Election Results 2025 Assembly Elections 2025 personal loan personal loan emi calculator Personal Loan Interest Rate Personal Loan Eligibility Business Loan Instant Loan View Less - View More + Premium Offerings e-paper WSJ Economist Barron's MyMint Mint Premium View Less - View More + Tools and Calculators IFSC Code Finder Income Tax Calculator SIP Calculator EMI Calculator Home Loan EMI Calculator Car Loan EMI NPS Calculator View Less - View More + MultiMedia Collections Videos WebStories Photo Gallery Podcasts View Less - View More + More From Mint Mint Genie Mint Lounge Mint Hindi Explore Mint About Us Print Subscription Mint Authors Terms of Use Disclaimer Mint Code Code of ethics Cookie Policy Privacy Policy Privacy and cookie settings Subscriber - Terms of Use SITEMAP Contact Us Mint Apps View Less - View More + Copyright © HT Digital Streams Limited All Rights Reserved. We couldn’t find what you’re looking for… Try searching another keyword or go to Home Page Latest Recommended For You Feedback Select your Category Query Suggestion Your Message Connect with us: trending stories Data Pages popular stocks latest stories Nifty 50 Companies ADANI ENTERPRISES share price ADANI PORTS share price APOLLO HOSPITALS share price ASIAN PAINTS share price AXIS BANK share price BAJAJ AUTO share price BAJAJ FINANCE share price BAJAJ FINSERVE share price BPCL share price BHARTI AIRTEL share price BRITANNIA share price CIPLA share price COAL INDIA share price DIVIS LABORATORIES share price DR REDDYS LABORATORIES share price EICHER MOTORS share price GRASIM INDUSTRIES share price HCL TECHNOLOGIES share price HDFC BANK share price HDFC LIFE share price HERO MOTOCORP share price HINDALCO INDUSTRIES share price HINDUSTAN UNILEVER share price ICICI BANK share price ITC share price INDUSIND BANK share price INFOSYS share price JSW STEEL share price KOTAK BANK share price LARSEN & TOURBO share price MAHINDRA & MAHINDRA share price MARUTI SUZUKI share price NTPC share price NESTLE INDIA share price ONGC share price POWER GRID share price RELIANCE INDUSTRIES share price SBI LIFE share price SBI share price SUN PHARMA share price TCS share price TATA MOTORS share price TATA STEEL share price TATA CONSUMER share price TECH MAHINDRA share price TITAN share price UPL share price ULTRATECH CEMENT share price WIPRO share price Powered by Open Demat Account Dhan Charts Stock Market Live SIP Calculator Margin Trading Facility Sections Premium Opinion News Market Politics Companies Money Sports Mutual Fund Industry Technology Bonds DOWNLOAD APP Download the Mint app and read premium stories About Us Contact Us Terms Of Use Privacy Policy Privacy and cookie settings RSS Copyright © 2025 HT Digital Streams Ltd All Right Reserved No NetworkServer IssueInternet Not AvailableWait for it…Log in to our website to save your bookmarks. It'll just take a moment.Yes, Continue You are just one step away from creating your watchlist!Login Now Wait for it…Oops! Looks like you have exceeded the limit to bookmark the image. Remove some to bookmark this image. Your session has expired, please login again.Yes, Continue Congratulations!You are now subscribed to our newsletters. In case you can’t \",\n",
       " 'in again.Yes, Continue Congratulations!You are now subscribed to our newsletters. In case you can’t find any email from our side, please check the spam folder. × × Get alerts on WhatsApp Gift an article Gift a Subscription Set Preferences My Reads Watchlist Feedback Redeem a Gift Card Logout Subscribe to continue This is a subscriber only feature Subscribe Now to get daily updates on WhatsApp Start Trading With JM Financial Services Start Investing in stocks, Mutual Funds, IPOs, and more Full Name Mobile Number Enter OTP Resend OTP Resend OTP Email ID (Optional) Submit Thank You Our team will get back to you shortly Access Denied Access Denied You don\\'t have permission to access \"http://www.moneycontrol.com/\" on this server. Reference #18.8cf22217.1753469650.8f869f41 https://errors.edgesuite.net/18.8cf22217.1753469650.8f869f41 ']"
      ]
     },
     "execution_count": 37,
     "metadata": {},
     "output_type": "execute_result"
    }
   ],
   "execution_count": 37
  },
  {
   "metadata": {},
   "cell_type": "markdown",
   "source": "### Create summary for each chunks",
   "id": "db4653082e222598"
  },
  {
   "metadata": {
    "ExecuteTime": {
     "end_time": "2025-07-25T19:30:14.892723Z",
     "start_time": "2025-07-25T19:29:28.193704Z"
    }
   },
   "cell_type": "code",
   "source": [
    "question = \"Extract stock market news from the given text.\"\n",
    "chunk_summary = []\n",
    "\n",
    "for chunk in chunks:\n",
    "    response = llm.ask_llm(chunk, question)\n",
    "    chunk_summary.append(response)"
   ],
   "id": "a17a0ac72f88c4f1",
   "outputs": [],
   "execution_count": 38
  },
  {
   "metadata": {
    "ExecuteTime": {
     "end_time": "2025-07-25T19:30:14.897871Z",
     "start_time": "2025-07-25T19:30:14.893730Z"
    }
   },
   "cell_type": "code",
   "source": "chunk_summary",
   "id": "10aa2ec4c2b696d1",
   "outputs": [
    {
     "data": {
      "text/plain": [
       "[\"Here are some of the extracted stock market news:\\n\\n1. Bajaj Finserv Q1 Results FY26\\n2. Stock Market Crash Today\\n3. Why Bajaj Finance share is Falling\\n4. Stock Market Today Live\\n5. Nestle Q1 Results FY26\\n6. Why IEX Share Price is Falling\\n7. Persistent Systems share price\\n8. Infosys Q1 Results Live Updates\\n9. Lodha Developers Share Price\\n10. Top 5 ELSS funds with up to 23% returns in 3 years\\n11. New NPS fees from January 2025: Full breakdown of charges\\n12. Top 5 aggressive hybrid equity funds with up to 38% returns in 1 year\\n13. Record profit for Motilal Oswal\\n14. Why UK FTA, US trade deal don't matter\\n15. 3 sectors to offer better earnings upside\\n16. Time correction likely; rebound in Q2?\\n17. Multi-asset funds are a smart choice\\n18. Swaraj Engines Ltd. breaks out from flag pattern to hit fresh record high in July 2025\\n19. Sensex set to hit 115,836 by FY28 on earnings momentum: Ventura\\n20. Short-term valuation headwinds? Yes. Long-term growth potential intact? Yes.\\n21. Financialization of savings trend growing in India\\n22. ETFs are not substitutes for real assets like gold or Bitcoin\\n23. 9 multibagger stocks with consistent FII buying over 3 quarters\\n24. Sona Comstar shares fall 3% after public dispute within promoter family\\n25. Deploy Bull Call Spread in Nifty to gain from a ‘buy-on-dips’ stance\",\n",
       " 'Here is the extracted stock market news:\\n\\n1. Infosys Q1 Results FY26\\n2. Paytm Q1 Results\\n3. Swiggy share price\\n4. Zomato share price\\n5. Wipro Q1 Results Live Updates\\n6. Vedanta Share News\\n7. Trent Share Price\\n8. HDB Financial Share Price Live Updates\\n9. Globe Civil Projects IPO Grey Market Premium\\n10. Belrise Industries Shares\\n11. Markets BSENSE\\n12. BSENSEGainers\\n13. Losers\\n14. Commodity Gainers/Commodity Losers/Forex\\n15. Indian rupee falls 19 paise to 86.59 against US dollar in early trade',\n",
       " 'Here are some stock market news extracted from the given text:\\n\\n1. Bajaj Finserv Q1 Results: Cons profit jumps 30% YoY to Rs 2,789 crore; revenue up 13%.\\n2. Adani Green Q2 Results.\\n3. Maruti Suzuki Q2 Results.\\n4. Cipla Q2 Results.\\n5. Nestle India Q3 Results.\\n6. Sensex Today: Falling off the momentum why retail investors are losing money after witnessing a long rally.\\n7. Adani Group Stocks Averaging Out Work For Retail Investors.\\n8. HDB Financial Services IPO allotment status.\\n9. Infosys Q1 Results 2025.\\n10. TCS Q4 Results.\\n\\nThese news items are related to stock market performance, earnings announcements, and trading volumes of various Indian companies.',\n",
       " \"Adani Enterprises share price\\nAdani Ports share price\\nApollo Hospitals share price\\nAsian Paints share price\\nAxis Bank share price\\nBajaj Auto share price\\nBajaj Finance share price\\nBajaj Finserve share price\\nBPCL share price\\nBharti Airtel share price\\nBritannia share price\\nCipla share price\\nCoal India share price\\nDivis Laboratories share price\\nDr Reddy's Laboratories share price\\nEicher Motors share price\\nGrasim Industries share price\\nHCL Technologies share price\\nHDFC Bank share price\\nHDFC Life share price\\nHero MotoCorp share price\\nHindalco Industries share price\\nHindustan Unilever share price\\nICICI Bank share price\\nITC share price\\nIndusInd Bank share price\\nInfosys share price\\nJSW Steel share price\\nKotak Bank share price\\nLarsen & Toubro share price\\nMahindra & Mahindra share price\\nMaruti Suzuki share price\\nNTPC share price\\nNeestle India share price\\nONGC share price\\nPower Grid share price\\nReliance Industries share price\\nSBI Life share price\\nSBI share price\\nSun Pharma share price\\nTCS share price\\nTata Motors share price\\nTata Steel share price\\nTata Consumer share price\\nTech Mahindra share price\\nTitan share price\\nUPL share price\\nUltraTech Cement share price\\nWipro share price\",\n",
       " \"I don't know. The provided context does not contain any stock market news. It appears to be a subscription confirmation email with links to various features, including a gift option, WhatsApp updates, and access to JM Financial Services.\"]"
      ]
     },
     "execution_count": 39,
     "metadata": {},
     "output_type": "execute_result"
    }
   ],
   "execution_count": 39
  },
  {
   "metadata": {
    "ExecuteTime": {
     "end_time": "2025-07-25T19:32:09.682812Z",
     "start_time": "2025-07-25T19:32:09.680062Z"
    }
   },
   "cell_type": "code",
   "source": "summary = \"\\n\\n\".join(chunk_summary)",
   "id": "d40aa3d0451ef29f",
   "outputs": [],
   "execution_count": 41
  },
  {
   "metadata": {},
   "cell_type": "markdown",
   "source": "### Generate Final Stock Market Report",
   "id": "f709171d358fddc4"
  },
  {
   "metadata": {
    "ExecuteTime": {
     "end_time": "2025-07-25T19:40:38.561448Z",
     "start_time": "2025-07-25T19:40:16.839206Z"
    }
   },
   "cell_type": "code",
   "source": [
    "question = \"Write a detailed report in Markdown from the given context. If there are sentences that include 'I don't know', just ignore or skip the sentences.\"\n",
    "response = llm.ask_llm(summary, question)"
   ],
   "id": "7e07b66991f32c01",
   "outputs": [],
   "execution_count": 56
  },
  {
   "metadata": {
    "ExecuteTime": {
     "end_time": "2025-07-25T19:40:38.565948Z",
     "start_time": "2025-07-25T19:40:38.562457Z"
    }
   },
   "cell_type": "code",
   "source": "print(response)",
   "id": "11d72e620462e615",
   "outputs": [
    {
     "name": "stdout",
     "output_type": "stream",
     "text": [
      "## Stock Market News Report\n",
      "### Table of Contents\n",
      "1. [Introduction](#introduction)\n",
      "2. [Company-wise Stock Performance](#company-wise-stock-performance)\n",
      "3. [Market Trend Analysis](#market-trend-analysis)\n",
      "\n",
      "## Introduction\n",
      "The given context is a subscription confirmation email with links to various features, including a gift option, WhatsApp updates, and access to JM Financial Services.\n",
      "\n",
      "## Company-wise Stock Performance\n",
      "\n",
      "### Listed Companies:\n",
      "Below are some of the listed companies along with their stock prices mentioned in the provided context:\n",
      "\n",
      "*   **Bajaj Finserv:** Q1 Results FY26: Cons profit jumps 30% YoY to Rs 2,789 crore; revenue up 13%.\n",
      "*   **Nestle India:** Q3 Results\n",
      "*   **Infosys:** Q1 Results FY26, Infosys Q1 Results 2025.\n",
      "*   **HDB Financial Services:** IPO allotment status.\n",
      "*   **TCS:** Q4 Results.\n",
      "\n",
      "### Other Companies:\n",
      "Below are some of the other companies mentioned along with their stock prices:\n",
      "\n",
      "*   Adani Enterprises share price\n",
      "*   Adani Ports share price\n",
      "*   Apollo Hospitals share price\n",
      "*   Asian Paints share price\n",
      "*   Axis Bank share price\n",
      "*   Bajaj Auto share price\n",
      "*   Bajaj Finance share price\n",
      "*   Bajaj Finserve share price\n",
      "*   BPCL share price\n",
      "*   Bharti Airtel share price\n",
      "*   Britannia share price\n",
      "*   Cipla share price\n",
      "*   Coal India share price\n",
      "*   Divis Laboratories share price\n",
      "*   Dr Reddy's Laboratories share price\n",
      "*   Eicher Motors share price\n",
      "*   Grasim Industries share price\n",
      "*   HCL Technologies share price\n",
      "*   HDFC Bank share price\n",
      "*   HDFC Life share price\n",
      "*   Hero MotoCorp share price\n",
      "*   Hindalco Industries share price\n",
      "*   Hindustan Unilever share price\n",
      "*   ICICI Bank share price\n",
      "*   ITC share price\n",
      "*   IndusInd Bank share price\n",
      "*   JSW Steel share price\n",
      "*   Kotak Bank share price\n",
      "*   Larsen & Toubro share price\n",
      "*   Mahindra & Mahindra share price\n",
      "*   Maruti Suzuki share price\n",
      "*   NTPC share price\n",
      "*   Neestle India share price\n",
      "*   ONGC share price\n",
      "*   Power Grid share price\n",
      "*   Reliance Industries share price\n",
      "*   SBI Life share price\n",
      "*   SBI share price\n",
      "*   Sun Pharma share price\n",
      "*   TCS share price\n",
      "*   Tata Motors share price\n",
      "*   Tata Steel share price\n",
      "*   Tata Consumer share price\n",
      "*   Tech Mahindra share price\n",
      "*   Titan share price\n",
      "*   UPL share price\n",
      "*   UltraTech Cement share price\n",
      "*   Wipro share price\n",
      "\n",
      "## Market Trend Analysis\n",
      "The provided context does not contain any specific market trend analysis.\n",
      "\n",
      "Note: The provided stock prices may not be up-to-date.\n"
     ]
    }
   ],
   "execution_count": 57
  },
  {
   "metadata": {
    "ExecuteTime": {
     "end_time": "2025-07-25T19:40:49.033760Z",
     "start_time": "2025-07-25T19:40:49.029586Z"
    }
   },
   "cell_type": "code",
   "source": [
    "import os\n",
    "os.makedirs(\"data\", exist_ok=True)\n",
    "\n",
    "with open('data/report.md', 'w') as f:\n",
    "    f.write(response)"
   ],
   "id": "321c8e96be018a31",
   "outputs": [],
   "execution_count": 58
  },
  {
   "metadata": {},
   "cell_type": "markdown",
   "source": "### Generate Final Market News",
   "id": "dd1ce680f2ee2a2b"
  },
  {
   "metadata": {
    "ExecuteTime": {
     "end_time": "2025-07-25T19:46:53.275261Z",
     "start_time": "2025-07-25T19:46:37.807976Z"
    }
   },
   "cell_type": "code",
   "source": [
    "question = \"\"\"\n",
    "Write a detailed market news report in Markdown format. Think carefully then write the report.\n",
    "\n",
    "If any sentence includes 'I don't know', it should be ignored or skipped.\n",
    "And don't write \"I don't know\" in the report!\n",
    "\"\"\"\n",
    "response = llm.ask_llm(summary, question)"
   ],
   "id": "275611baa3fa11cf",
   "outputs": [],
   "execution_count": 63
  },
  {
   "metadata": {
    "ExecuteTime": {
     "end_time": "2025-07-25T19:46:53.280261Z",
     "start_time": "2025-07-25T19:46:53.276261Z"
    }
   },
   "cell_type": "code",
   "source": "print(response)",
   "id": "3c396574ad197979",
   "outputs": [
    {
     "name": "stdout",
     "output_type": "stream",
     "text": [
      "# Market News Report\n",
      "## Sectoral Performance and Top Gainers/Losers\n",
      "\n",
      "The Indian stock market witnessed a mixed performance on [current date], with some sectors experiencing significant gains, while others slipped into the red.\n",
      "\n",
      "### Top Gainers:\n",
      "\n",
      "1. **Bajaj Finvest** reported a 30% YoY increase in profits to Rs 2,789 crore, driven by robust revenue growth of 13%.\n",
      "2. **Adani Green** announced its Q2 results, with a significant jump in earnings.\n",
      "3. **Nestle India** posted impressive Q1 results, showcasing the company's resilience in a challenging market environment.\n",
      "\n",
      "### Top Losers:\n",
      "\n",
      "1. **Zomato** shares plummeted 3% after a public dispute within the promoter family affected investor sentiment.\n",
      "2. **Swiggy** share price also took a hit due to similar reasons.\n",
      "3. **HDB Financial Services** shares fell 5% as investors reacted to concerns over the company's financial health.\n",
      "\n",
      "### Market Watch:\n",
      "\n",
      "* The Indian rupee continued its downward trend against the US dollar, falling 19 paise to 86.59 in early trade.\n",
      "* Commodity prices showed no signs of respite, with [specific commodity] experiencing significant volatility.\n",
      "\n",
      "### Fundamental Analysis:\n",
      "\n",
      "Market experts believe that despite current headwinds, long-term growth potential remains intact for many stocks. However, short-term valuation concerns persist.\n",
      "\n",
      "## Multibagger Stocks:\n",
      "\n",
      "Experts recommend considering the following multibagger stocks, which have seen consistent FII buying over 3 quarters:\n",
      "* [List specific stocks]\n",
      "\n",
      "### Trading Strategy:\n",
      "\n",
      "For traders looking to capitalize on market momentum, consider deploying a Bull Call Spread strategy in Nifty to profit from 'buy-on-dips' stances.\n",
      "\n",
      "## Research and Analysis:\n",
      "\n",
      "Stay tuned for further updates on key market players, including Infosys Q1 results 2025, TCS Q4 results, and more.\n"
     ]
    }
   ],
   "execution_count": 64
  },
  {
   "metadata": {
    "ExecuteTime": {
     "end_time": "2025-07-25T19:46:53.286178Z",
     "start_time": "2025-07-25T19:46:53.281262Z"
    }
   },
   "cell_type": "code",
   "source": [
    "import os\n",
    "os.makedirs(\"data\", exist_ok=True)\n",
    "\n",
    "with open('data/news_report.md', 'w') as f:\n",
    "    f.write(response)\n",
    "    print(\"OK\")"
   ],
   "id": "b767486394257636",
   "outputs": [
    {
     "name": "stdout",
     "output_type": "stream",
     "text": [
      "OK\n"
     ]
    }
   ],
   "execution_count": 65
  }
 ],
 "metadata": {
  "kernelspec": {
   "display_name": "Python 3",
   "language": "python",
   "name": "python3"
  },
  "language_info": {
   "codemirror_mode": {
    "name": "ipython",
    "version": 2
   },
   "file_extension": ".py",
   "mimetype": "text/x-python",
   "name": "python",
   "nbconvert_exporter": "python",
   "pygments_lexer": "ipython2",
   "version": "2.7.6"
  }
 },
 "nbformat": 4,
 "nbformat_minor": 5
}
