{
 "cells": [
  {
   "metadata": {},
   "cell_type": "markdown",
   "source": [
    "# Microsoft Office Files PPT Excel and Word Reader\n",
    "**Important Note:** Unstructured Data Reader Setup\n",
    "\n",
    "https://python.langchain.com/docs/integrations/providers/unstructured/"
   ],
   "id": "3a474c1b2c91458f"
  },
  {
   "metadata": {},
   "cell_type": "markdown",
   "source": [
    "## Section 1. keynotes and Script Generation for PPT Presentor (Speaker)\n",
    "`OSError: No such file or directory: 'C:\\Users\\laxmi\\AppData\\Roaming\\nltk_data\\tokenizers\\punkt\\PY3_tab'`\n",
    "\n",
    "Error Handling: C:\\Users\\username\\AppData\\Roaming\\nltk_data\\tokenizers\\punkt --> PY3 to PY3_tab"
   ],
   "id": "24c0d29872eb4852"
  },
  {
   "cell_type": "code",
   "id": "initial_id",
   "metadata": {
    "collapsed": true,
    "ExecuteTime": {
     "end_time": "2025-07-26T15:47:25.732211Z",
     "start_time": "2025-07-26T15:47:12.503322Z"
    }
   },
   "source": [
    "from langchain_community.document_loaders import UnstructuredPowerPointLoader\n",
    "\n",
    "loader = UnstructuredPowerPointLoader(\n",
    "    \"./data/ml_course.pptx\", \n",
    "    mode=\"elements\" # Make sure returns multiple document objects, one for each element (each element has its own metadata, such as slide number, element type, etc.\n",
    ")\n",
    "\n",
    "docs = loader.load()"
   ],
   "outputs": [],
   "execution_count": 1
  },
  {
   "metadata": {
    "ExecuteTime": {
     "end_time": "2025-07-26T15:48:59.223006Z",
     "start_time": "2025-07-26T15:48:59.212552Z"
    }
   },
   "cell_type": "code",
   "source": "len(docs) # It's not total number of page",
   "id": "19b449a4c9ed53a5",
   "outputs": [
    {
     "data": {
      "text/plain": [
       "47"
      ]
     },
     "execution_count": 2,
     "metadata": {},
     "output_type": "execute_result"
    }
   ],
   "execution_count": 2
  },
  {
   "metadata": {
    "ExecuteTime": {
     "end_time": "2025-07-26T15:50:11.903888Z",
     "start_time": "2025-07-26T15:50:11.898363Z"
    }
   },
   "cell_type": "code",
   "source": "docs",
   "id": "f6d2de5860a9798d",
   "outputs": [
    {
     "data": {
      "text/plain": [
       "[Document(metadata={'source': './data/ml_course.pptx', 'category_depth': 0, 'file_directory': './data', 'filename': 'ml_course.pptx', 'last_modified': '2025-07-26T22:26:08', 'page_number': 1, 'languages': ['eng'], 'filetype': 'application/vnd.openxmlformats-officedocument.presentationml.presentation', 'category': 'Title', 'element_id': '1378fc8ea4dd0830a3c5f93e9d31a516'}, page_content='Machine Learning Model Deployment'),\n",
       " Document(metadata={'source': './data/ml_course.pptx', 'category_depth': 1, 'file_directory': './data', 'filename': 'ml_course.pptx', 'last_modified': '2025-07-26T22:26:08', 'page_number': 1, 'languages': ['eng'], 'filetype': 'application/vnd.openxmlformats-officedocument.presentationml.presentation', 'parent_id': '1378fc8ea4dd0830a3c5f93e9d31a516', 'category': 'Title', 'element_id': '5de650940883c293416c7f769aa0c961'}, page_content='Introduction to ML Pipeline'),\n",
       " Document(metadata={'source': './data/ml_course.pptx', 'category_depth': 1, 'file_directory': './data', 'filename': 'ml_course.pptx', 'last_modified': '2025-07-26T22:26:08', 'page_number': 1, 'languages': ['eng'], 'filetype': 'application/vnd.openxmlformats-officedocument.presentationml.presentation', 'parent_id': '1378fc8ea4dd0830a3c5f93e9d31a516', 'category': 'Title', 'element_id': 'd5291160bba9cc08934c253ec7feee5c'}, page_content='https://bit.ly/bert_nlp'),\n",
       " Document(metadata={'source': './data/ml_course.pptx', 'last_modified': '2025-07-26T22:26:08', 'page_number': 1, 'languages': ['eng'], 'file_directory': './data', 'filename': 'ml_course.pptx', 'filetype': 'application/vnd.openxmlformats-officedocument.presentationml.presentation', 'category': 'PageBreak', 'element_id': 'cd652b5b05b1c9495ef7e55c53bcacdb'}, page_content=''),\n",
       " Document(metadata={'source': './data/ml_course.pptx', 'category_depth': 1, 'file_directory': './data', 'filename': 'ml_course.pptx', 'last_modified': '2025-07-26T22:26:08', 'page_number': 2, 'languages': ['eng'], 'filetype': 'application/vnd.openxmlformats-officedocument.presentationml.presentation', 'category': 'Title', 'element_id': '882fe564e3f4ba7e85b6ad1c7542f1e4'}, page_content='What is Machine Learning Pipeline?'),\n",
       " Document(metadata={'source': './data/ml_course.pptx', 'last_modified': '2025-07-26T22:26:08', 'page_number': 2, 'languages': ['eng'], 'file_directory': './data', 'filename': 'ml_course.pptx', 'filetype': 'application/vnd.openxmlformats-officedocument.presentationml.presentation', 'category': 'PageBreak', 'element_id': 'c6d98bb2341dd2b26cf5a7fad7f68775'}, page_content=''),\n",
       " Document(metadata={'source': './data/ml_course.pptx', 'category_depth': 1, 'file_directory': './data', 'filename': 'ml_course.pptx', 'last_modified': '2025-07-26T22:26:08', 'page_number': 3, 'languages': ['eng'], 'filetype': 'application/vnd.openxmlformats-officedocument.presentationml.presentation', 'category': 'Title', 'element_id': 'e16acab18bc7971064f2d06df301b796'}, page_content='Type of ML Deployment'),\n",
       " Document(metadata={'source': './data/ml_course.pptx', 'category_depth': 0, 'file_directory': './data', 'filename': 'ml_course.pptx', 'last_modified': '2025-07-26T22:26:08', 'page_number': 3, 'languages': ['eng'], 'filetype': 'application/vnd.openxmlformats-officedocument.presentationml.presentation', 'parent_id': 'e16acab18bc7971064f2d06df301b796', 'category': 'ListItem', 'element_id': '36a2a2dc69a5a623ccc3eaa559f874eb'}, page_content='Batch: In batch deployment, ML models process large volumes of data at scheduled intervals, ideal for tasks like end-of-day reporting or monthly analytics.'),\n",
       " Document(metadata={'source': './data/ml_course.pptx', 'category_depth': 0, 'file_directory': './data', 'filename': 'ml_course.pptx', 'last_modified': '2025-07-26T22:26:08', 'page_number': 3, 'languages': ['eng'], 'filetype': 'application/vnd.openxmlformats-officedocument.presentationml.presentation', 'parent_id': 'e16acab18bc7971064f2d06df301b796', 'category': 'ListItem', 'element_id': '16d96a9885601cb65a42510212795d30'}, page_content='Stream: Stream deployment enables ML models to process and analyze data in real-time as it flows in, suitable for applications like fraud detection or live social media analysis.'),\n",
       " Document(metadata={'source': './data/ml_course.pptx', 'category_depth': 0, 'file_directory': './data', 'filename': 'ml_course.pptx', 'last_modified': '2025-07-26T22:26:08', 'page_number': 3, 'languages': ['eng'], 'filetype': 'application/vnd.openxmlformats-officedocument.presentationml.presentation', 'parent_id': 'e16acab18bc7971064f2d06df301b796', 'category': 'ListItem', 'element_id': '04d3ecff9b5d4fe12627ae6f870beb6e'}, page_content='Realtime: Realtime deployment allows ML models to provide instant predictions or decisions in response to incoming data, essential for use cases like recommendation systems or autonomous driving.'),\n",
       " Document(metadata={'source': './data/ml_course.pptx', 'category_depth': 0, 'file_directory': './data', 'filename': 'ml_course.pptx', 'last_modified': '2025-07-26T22:26:08', 'page_number': 3, 'languages': ['eng'], 'filetype': 'application/vnd.openxmlformats-officedocument.presentationml.presentation', 'parent_id': 'e16acab18bc7971064f2d06df301b796', 'category': 'ListItem', 'element_id': 'f10bcd0ff4058eca301a1322b167df99'}, page_content='Edge: Edge deployment involves running ML models on local devices close to the data source, reducing latency and bandwidth usage, which is crucial for IoT applications and smart devices.'),\n",
       " Document(metadata={'source': './data/ml_course.pptx', 'last_modified': '2025-07-26T22:26:08', 'page_number': 3, 'languages': ['eng'], 'file_directory': './data', 'filename': 'ml_course.pptx', 'filetype': 'application/vnd.openxmlformats-officedocument.presentationml.presentation', 'category': 'PageBreak', 'element_id': 'e5820ecd67747e0fc59fcb498a89ab9e'}, page_content=''),\n",
       " Document(metadata={'source': './data/ml_course.pptx', 'category_depth': 1, 'file_directory': './data', 'filename': 'ml_course.pptx', 'last_modified': '2025-07-26T22:26:08', 'page_number': 4, 'languages': ['eng'], 'filetype': 'application/vnd.openxmlformats-officedocument.presentationml.presentation', 'category': 'Title', 'element_id': 'e3c672c5109e27bd62e12e920f1d27a2'}, page_content='Infrastructure and Integration'),\n",
       " Document(metadata={'source': './data/ml_course.pptx', 'category_depth': 0, 'file_directory': './data', 'filename': 'ml_course.pptx', 'last_modified': '2025-07-26T22:26:08', 'page_number': 4, 'languages': ['eng'], 'filetype': 'application/vnd.openxmlformats-officedocument.presentationml.presentation', 'parent_id': 'e3c672c5109e27bd62e12e920f1d27a2', 'category': 'ListItem', 'element_id': '4e5298a16396620c219860a7d5e8ab7c'}, page_content='Hardware and Software: Setting up the right environment for model deployment.'),\n",
       " Document(metadata={'source': './data/ml_course.pptx', 'category_depth': 0, 'file_directory': './data', 'filename': 'ml_course.pptx', 'last_modified': '2025-07-26T22:26:08', 'page_number': 4, 'languages': ['eng'], 'filetype': 'application/vnd.openxmlformats-officedocument.presentationml.presentation', 'parent_id': 'e3c672c5109e27bd62e12e920f1d27a2', 'category': 'ListItem', 'element_id': '78888da57152041b4442e615b5246edb'}, page_content='Integration: Seamlessly integrating the model with existing systems and applications.'),\n",
       " Document(metadata={'source': './data/ml_course.pptx', 'last_modified': '2025-07-26T22:26:08', 'page_number': 4, 'languages': ['eng'], 'file_directory': './data', 'filename': 'ml_course.pptx', 'filetype': 'application/vnd.openxmlformats-officedocument.presentationml.presentation', 'category': 'PageBreak', 'element_id': '275463ef1fb01f1e2130e42393fd730c'}, page_content=''),\n",
       " Document(metadata={'source': './data/ml_course.pptx', 'category_depth': 1, 'file_directory': './data', 'filename': 'ml_course.pptx', 'last_modified': '2025-07-26T22:26:08', 'page_number': 5, 'languages': ['eng'], 'filetype': 'application/vnd.openxmlformats-officedocument.presentationml.presentation', 'category': 'Title', 'element_id': '2f1fb082740026e985e63e0ca48f0a57'}, page_content='Benefits of Deploying ML Models'),\n",
       " Document(metadata={'source': './data/ml_course.pptx', 'category_depth': 0, 'file_directory': './data', 'filename': 'ml_course.pptx', 'last_modified': '2025-07-26T22:26:08', 'page_number': 5, 'languages': ['eng'], 'filetype': 'application/vnd.openxmlformats-officedocument.presentationml.presentation', 'parent_id': '2f1fb082740026e985e63e0ca48f0a57', 'category': 'NarrativeText', 'element_id': '9306fdd9f8d2398f13dc87e677b5753d'}, page_content='Focus on new models, not maintaining existing models || Prevention of bugs || Creation of records for debugging and reproducing results || Standardization || Allows models to handle real-time data and large user bases.'),\n",
       " Document(metadata={'source': './data/ml_course.pptx', 'last_modified': '2025-07-26T22:26:08', 'page_number': 5, 'languages': ['eng'], 'file_directory': './data', 'filename': 'ml_course.pptx', 'filetype': 'application/vnd.openxmlformats-officedocument.presentationml.presentation', 'category': 'PageBreak', 'element_id': '0fc4f757ce463cc1a26f27d1320aeeef'}, page_content=''),\n",
       " Document(metadata={'source': './data/ml_course.pptx', 'category_depth': 1, 'file_directory': './data', 'filename': 'ml_course.pptx', 'last_modified': '2025-07-26T22:26:08', 'page_number': 6, 'languages': ['eng'], 'filetype': 'application/vnd.openxmlformats-officedocument.presentationml.presentation', 'category': 'Title', 'element_id': 'a71a94291fbe02b27bb302e9b1a48664'}, page_content='Challenges in ML Deployment'),\n",
       " Document(metadata={'source': './data/ml_course.pptx', 'category_depth': 0, 'file_directory': './data', 'filename': 'ml_course.pptx', 'last_modified': '2025-07-26T22:26:08', 'page_number': 6, 'languages': ['eng'], 'filetype': 'application/vnd.openxmlformats-officedocument.presentationml.presentation', 'parent_id': 'a71a94291fbe02b27bb302e9b1a48664', 'category': 'ListItem', 'element_id': 'ba597fa26824eb054d39d8437a79c1d5'}, page_content='Data Management: Making sure the model gets the right kind of data.'),\n",
       " Document(metadata={'source': './data/ml_course.pptx', 'category_depth': 0, 'file_directory': './data', 'filename': 'ml_course.pptx', 'last_modified': '2025-07-26T22:26:08', 'page_number': 6, 'languages': ['eng'], 'filetype': 'application/vnd.openxmlformats-officedocument.presentationml.presentation', 'parent_id': 'a71a94291fbe02b27bb302e9b1a48664', 'category': 'ListItem', 'element_id': '9f213bc7c86c979e37a23b5eedce3ae9'}, page_content='Model Scalability and Performance: Ensuring that their model can effectively scale as it keeps adding more complex information.'),\n",
       " Document(metadata={'source': './data/ml_course.pptx', 'category_depth': 0, 'file_directory': './data', 'filename': 'ml_course.pptx', 'last_modified': '2025-07-26T22:26:08', 'page_number': 6, 'languages': ['eng'], 'filetype': 'application/vnd.openxmlformats-officedocument.presentationml.presentation', 'parent_id': 'a71a94291fbe02b27bb302e9b1a48664', 'category': 'ListItem', 'element_id': 'bb9713821ae85813bd17a6c463cc3ce6'}, page_content='Integration with Existing Systems: Fitting the model into current computers and software.'),\n",
       " Document(metadata={'source': './data/ml_course.pptx', 'category_depth': 0, 'file_directory': './data', 'filename': 'ml_course.pptx', 'last_modified': '2025-07-26T22:26:08', 'page_number': 6, 'languages': ['eng'], 'filetype': 'application/vnd.openxmlformats-officedocument.presentationml.presentation', 'parent_id': 'a71a94291fbe02b27bb302e9b1a48664', 'category': 'ListItem', 'element_id': '145198c695b5ec2dc6ac53da3cbaa651'}, page_content='Monitoring and Maintenance: Watching and fixing the model over time.'),\n",
       " Document(metadata={'source': './data/ml_course.pptx', 'category_depth': 0, 'file_directory': './data', 'filename': 'ml_course.pptx', 'last_modified': '2025-07-26T22:26:08', 'page_number': 6, 'languages': ['eng'], 'filetype': 'application/vnd.openxmlformats-officedocument.presentationml.presentation', 'parent_id': 'a71a94291fbe02b27bb302e9b1a48664', 'category': 'ListItem', 'element_id': '7823ba8b620067685cc948e52bf31f93'}, page_content='Security and Privacy: Protecting data and keeping it private.'),\n",
       " Document(metadata={'source': './data/ml_course.pptx', 'category_depth': 0, 'file_directory': './data', 'filename': 'ml_course.pptx', 'last_modified': '2025-07-26T22:26:08', 'page_number': 6, 'languages': ['eng'], 'filetype': 'application/vnd.openxmlformats-officedocument.presentationml.presentation', 'parent_id': 'a71a94291fbe02b27bb302e9b1a48664', 'category': 'ListItem', 'element_id': 'c8a5ca482174cb2fcf841794d148bff1'}, page_content='Resource Management: Using computer resources like memory and power wisely.'),\n",
       " Document(metadata={'source': './data/ml_course.pptx', 'category_depth': 0, 'file_directory': './data', 'filename': 'ml_course.pptx', 'last_modified': '2025-07-26T22:26:08', 'page_number': 6, 'languages': ['eng'], 'filetype': 'application/vnd.openxmlformats-officedocument.presentationml.presentation', 'parent_id': 'a71a94291fbe02b27bb302e9b1a48664', 'category': 'ListItem', 'element_id': '5c6f738bca4aecb944092cf7a71b1607'}, page_content='Versioning and Model Management: Keeping track of different versions of the model.'),\n",
       " Document(metadata={'source': './data/ml_course.pptx', 'category_depth': 0, 'file_directory': './data', 'filename': 'ml_course.pptx', 'last_modified': '2025-07-26T22:26:08', 'page_number': 6, 'languages': ['eng'], 'filetype': 'application/vnd.openxmlformats-officedocument.presentationml.presentation', 'parent_id': 'a71a94291fbe02b27bb302e9b1a48664', 'category': 'ListItem', 'element_id': '7216c33df4dca2c7aa022dc3f491407f'}, page_content='Regulatory Compliance: Making sure the model follows the laws, rules, and regulations.'),\n",
       " Document(metadata={'source': './data/ml_course.pptx', 'category_depth': 0, 'file_directory': './data', 'filename': 'ml_course.pptx', 'last_modified': '2025-07-26T22:26:08', 'page_number': 6, 'languages': ['eng'], 'filetype': 'application/vnd.openxmlformats-officedocument.presentationml.presentation', 'parent_id': 'a71a94291fbe02b27bb302e9b1a48664', 'category': 'ListItem', 'element_id': 'd58e1f55915272670b32a5befb11d94d'}, page_content='User Acceptance and Trust: Getting people to trust and accept the model.'),\n",
       " Document(metadata={'source': './data/ml_course.pptx', 'category_depth': 0, 'file_directory': './data', 'filename': 'ml_course.pptx', 'last_modified': '2025-07-26T22:26:08', 'page_number': 6, 'languages': ['eng'], 'filetype': 'application/vnd.openxmlformats-officedocument.presentationml.presentation', 'parent_id': 'a71a94291fbe02b27bb302e9b1a48664', 'category': 'ListItem', 'element_id': '5813b7d3380ca2123c8b6487c5089746'}, page_content='Explainability and Transparency: Being able to explain how the model works.'),\n",
       " Document(metadata={'source': './data/ml_course.pptx', 'category_depth': 0, 'file_directory': './data', 'filename': 'ml_course.pptx', 'last_modified': '2025-07-26T22:26:08', 'page_number': 6, 'languages': ['eng'], 'filetype': 'application/vnd.openxmlformats-officedocument.presentationml.presentation', 'parent_id': 'a71a94291fbe02b27bb302e9b1a48664', 'category': 'ListItem', 'element_id': '1a5f2c4918a4f8131903f49fd7631b40'}, page_content='Cost Management: Managing how much it costs to use the model.'),\n",
       " Document(metadata={'source': './data/ml_course.pptx', 'category_depth': 0, 'file_directory': './data', 'filename': 'ml_course.pptx', 'last_modified': '2025-07-26T22:26:08', 'page_number': 6, 'languages': ['eng'], 'filetype': 'application/vnd.openxmlformats-officedocument.presentationml.presentation', 'parent_id': 'a71a94291fbe02b27bb302e9b1a48664', 'category': 'NarrativeText', 'element_id': 'be5b34f703b2e3c65da27141595f025b'}, page_content='As per research, only 13% of ML models ever make it to production. This is a huge gap, considering the possibilities that AI model deployment can bring to the organization.'),\n",
       " Document(metadata={'source': './data/ml_course.pptx', 'last_modified': '2025-07-26T22:26:08', 'page_number': 6, 'languages': ['eng'], 'file_directory': './data', 'filename': 'ml_course.pptx', 'filetype': 'application/vnd.openxmlformats-officedocument.presentationml.presentation', 'category': 'PageBreak', 'element_id': 'e08a4ead7530a52913ddfe3274295d72'}, page_content=''),\n",
       " Document(metadata={'source': './data/ml_course.pptx', 'category_depth': 1, 'file_directory': './data', 'filename': 'ml_course.pptx', 'last_modified': '2025-07-26T22:26:08', 'page_number': 7, 'languages': ['eng'], 'filetype': 'application/vnd.openxmlformats-officedocument.presentationml.presentation', 'category': 'Title', 'element_id': 'f7996ce53254adcfcd2a10311f41045f'}, page_content='Data and Model Management'),\n",
       " Document(metadata={'source': './data/ml_course.pptx', 'category_depth': 0, 'file_directory': './data', 'filename': 'ml_course.pptx', 'last_modified': '2025-07-26T22:26:08', 'page_number': 7, 'languages': ['eng'], 'filetype': 'application/vnd.openxmlformats-officedocument.presentationml.presentation', 'parent_id': 'f7996ce53254adcfcd2a10311f41045f', 'category': 'NarrativeText', 'element_id': '320f30416dd59fa87347e59a7f4152cc'}, page_content='Data Pipelines: Building and maintaining data pipelines for continuous data flow.'),\n",
       " Document(metadata={'source': './data/ml_course.pptx', 'category_depth': 0, 'file_directory': './data', 'filename': 'ml_course.pptx', 'last_modified': '2025-07-26T22:26:08', 'page_number': 7, 'languages': ['eng'], 'filetype': 'application/vnd.openxmlformats-officedocument.presentationml.presentation', 'parent_id': 'f7996ce53254adcfcd2a10311f41045f', 'category': 'NarrativeText', 'element_id': 'e646e8776c19f43366fe227a4e0a71e2'}, page_content='Model Versioning: Tracking and managing different versions of models.'),\n",
       " Document(metadata={'source': './data/ml_course.pptx', 'last_modified': '2025-07-26T22:26:08', 'page_number': 7, 'languages': ['eng'], 'file_directory': './data', 'filename': 'ml_course.pptx', 'filetype': 'application/vnd.openxmlformats-officedocument.presentationml.presentation', 'category': 'PageBreak', 'element_id': '5940777e78f41e7523da920c632cb129'}, page_content=''),\n",
       " Document(metadata={'source': './data/ml_course.pptx', 'category_depth': 1, 'file_directory': './data', 'filename': 'ml_course.pptx', 'last_modified': '2025-07-26T22:26:08', 'page_number': 8, 'languages': ['eng'], 'filetype': 'application/vnd.openxmlformats-officedocument.presentationml.presentation', 'category': 'Title', 'element_id': '1dcc850071d9db7b3b667986bb263816'}, page_content='A/B Testing'),\n",
       " Document(metadata={'source': './data/ml_course.pptx', 'category_depth': 0, 'file_directory': './data', 'filename': 'ml_course.pptx', 'last_modified': '2025-07-26T22:26:08', 'page_number': 8, 'languages': ['eng'], 'filetype': 'application/vnd.openxmlformats-officedocument.presentationml.presentation', 'parent_id': '1dcc850071d9db7b3b667986bb263816', 'category': 'ListItem', 'element_id': '3ddd573a708017650792e76df7e4d990'}, page_content='Objective Comparison: A/B testing allows for an objective comparison of two model versions to determine which performs better based on specific metrics.'),\n",
       " Document(metadata={'source': './data/ml_course.pptx', 'category_depth': 0, 'file_directory': './data', 'filename': 'ml_course.pptx', 'last_modified': '2025-07-26T22:26:08', 'page_number': 8, 'languages': ['eng'], 'filetype': 'application/vnd.openxmlformats-officedocument.presentationml.presentation', 'parent_id': '1dcc850071d9db7b3b667986bb263816', 'category': 'ListItem', 'element_id': '4478afa0de21dcbd03c88592f93c38db'}, page_content='Real-World Application: It is widely used to optimize user experiences, such as testing different recommendation systems or ad strategies to enhance engagement or conversion rates.'),\n",
       " Document(metadata={'source': './data/ml_course.pptx', 'category_depth': 0, 'file_directory': './data', 'filename': 'ml_course.pptx', 'last_modified': '2025-07-26T22:26:08', 'page_number': 8, 'languages': ['eng'], 'filetype': 'application/vnd.openxmlformats-officedocument.presentationml.presentation', 'parent_id': '1dcc850071d9db7b3b667986bb263816', 'category': 'ListItem', 'element_id': '3ec2a5175d0fee7d38cd787d151f08d9'}, page_content='Statistical Significance: The technique ensures that performance differences are statistically significant and not due to random chance by using control and treatment groups along with statistical tests.'),\n",
       " Document(metadata={'source': './data/ml_course.pptx', 'last_modified': '2025-07-26T22:26:08', 'page_number': 8, 'languages': ['eng'], 'file_directory': './data', 'filename': 'ml_course.pptx', 'filetype': 'application/vnd.openxmlformats-officedocument.presentationml.presentation', 'category': 'PageBreak', 'element_id': 'bb505d118a354d09086f0113c2a45088'}, page_content=''),\n",
       " Document(metadata={'source': './data/ml_course.pptx', 'category_depth': 1, 'file_directory': './data', 'filename': 'ml_course.pptx', 'last_modified': '2025-07-26T22:26:08', 'page_number': 9, 'languages': ['eng'], 'filetype': 'application/vnd.openxmlformats-officedocument.presentationml.presentation', 'category': 'Title', 'element_id': '5b03acaebcc20ce4ee193be559bb2948'}, page_content='Security, Compliance and Bias'),\n",
       " Document(metadata={'source': './data/ml_course.pptx', 'category_depth': 0, 'file_directory': './data', 'filename': 'ml_course.pptx', 'last_modified': '2025-07-26T22:26:08', 'page_number': 9, 'languages': ['eng'], 'filetype': 'application/vnd.openxmlformats-officedocument.presentationml.presentation', 'parent_id': '5b03acaebcc20ce4ee193be559bb2948', 'category': 'NarrativeText', 'element_id': '1faedc7251be5ff2faecd02f54a8924e'}, page_content='Security: Ensuring the security of machine learning models involves protecting sensitive data from unauthorized access and breaches through robust encryption, secure APIs, and access controls'),\n",
       " Document(metadata={'source': './data/ml_course.pptx', 'category_depth': 0, 'file_directory': './data', 'filename': 'ml_course.pptx', 'last_modified': '2025-07-26T22:26:08', 'page_number': 9, 'languages': ['eng'], 'filetype': 'application/vnd.openxmlformats-officedocument.presentationml.presentation', 'parent_id': '5b03acaebcc20ce4ee193be559bb2948', 'category': 'NarrativeText', 'element_id': '2e320daf7d90982518b638f2dd11b52a'}, page_content='Compliance: Adhering to industry regulations and standards, such as GDPR or HIPAA, is critical to ensure the legal and ethical use of data in machine learning deployments. This involves data anonymization, user consent, and regular compliance audits.'),\n",
       " Document(metadata={'source': './data/ml_course.pptx', 'category_depth': 0, 'file_directory': './data', 'filename': 'ml_course.pptx', 'last_modified': '2025-07-26T22:26:08', 'page_number': 9, 'languages': ['eng'], 'filetype': 'application/vnd.openxmlformats-officedocument.presentationml.presentation', 'parent_id': '5b03acaebcc20ce4ee193be559bb2948', 'category': 'NarrativeText', 'element_id': 'a329e769e4db1267bc11cb90d279edfd'}, page_content='Bias Detection: Identifying and mitigating bias in ML models is crucial to prevent unfair and discriminatory outcomes. This involves using diverse training datasets, applying fairness-aware algorithms, and conducting bias impact assessments'),\n",
       " Document(metadata={'source': './data/ml_course.pptx', 'category_depth': 0, 'file_directory': './data', 'filename': 'ml_course.pptx', 'last_modified': '2025-07-26T22:26:08', 'page_number': 9, 'languages': ['eng'], 'filetype': 'application/vnd.openxmlformats-officedocument.presentationml.presentation', 'parent_id': '5b03acaebcc20ce4ee193be559bb2948', 'category': 'NarrativeText', 'element_id': 'ae10d92978631de476e6e8a659def9f0'}, page_content='Continuous Monitoring: Regular monitoring and updating of deployed models are essential to maintain security, compliance, and fairness. This involves real-time performance tracking, automated alerts for anomalies, and periodic model retraining.')]"
      ]
     },
     "execution_count": 3,
     "metadata": {},
     "output_type": "execute_result"
    }
   ],
   "execution_count": 3
  },
  {
   "metadata": {},
   "cell_type": "markdown",
   "source": "### Read the data page-wise ",
   "id": "b26de25a88963cb4"
  },
  {
   "metadata": {
    "ExecuteTime": {
     "end_time": "2025-07-26T15:53:37.230918Z",
     "start_time": "2025-07-26T15:53:37.225222Z"
    }
   },
   "cell_type": "code",
   "source": [
    "ppt_data = {}\n",
    "\n",
    "for doc in docs:\n",
    "    page = doc.metadata[\"page_number\"]\n",
    "    ppt_data[page] = ppt_data.get(page, \"\") + \"\\n\\n\" +  doc.page_content"
   ],
   "id": "c3617104391e98af",
   "outputs": [],
   "execution_count": 4
  },
  {
   "metadata": {
    "ExecuteTime": {
     "end_time": "2025-07-26T15:53:39.043692Z",
     "start_time": "2025-07-26T15:53:39.039357Z"
    }
   },
   "cell_type": "code",
   "source": "ppt_data",
   "id": "6e3a660a01eb2a9",
   "outputs": [
    {
     "data": {
      "text/plain": [
       "{1: '\\n\\nMachine Learning Model Deployment\\n\\nIntroduction to ML Pipeline\\n\\nhttps://bit.ly/bert_nlp\\n\\n',\n",
       " 2: '\\n\\nWhat is Machine Learning Pipeline?\\n\\n',\n",
       " 3: '\\n\\nType of ML Deployment\\n\\nBatch: In batch deployment, ML models process large volumes of data at scheduled intervals, ideal for tasks like end-of-day reporting or monthly analytics.\\n\\nStream: Stream deployment enables ML models to process and analyze data in real-time as it flows in, suitable for applications like fraud detection or live social media analysis.\\n\\nRealtime: Realtime deployment allows ML models to provide instant predictions or decisions in response to incoming data, essential for use cases like recommendation systems or autonomous driving.\\n\\nEdge: Edge deployment involves running ML models on local devices close to the data source, reducing latency and bandwidth usage, which is crucial for IoT applications and smart devices.\\n\\n',\n",
       " 4: '\\n\\nInfrastructure and Integration\\n\\nHardware and Software: Setting up the right environment for model deployment.\\n\\nIntegration: Seamlessly integrating the model with existing systems and applications.\\n\\n',\n",
       " 5: '\\n\\nBenefits of Deploying ML Models\\n\\nFocus on new models, not maintaining existing models || Prevention of bugs || Creation of records for debugging and reproducing results || Standardization || Allows models to handle real-time data and large user bases.\\n\\n',\n",
       " 6: '\\n\\nChallenges in ML Deployment\\n\\nData Management: Making sure the model gets the right kind of data.\\n\\nModel Scalability and Performance: Ensuring that their model can effectively scale as it keeps adding more complex information.\\n\\nIntegration with Existing Systems: Fitting the model into current computers and software.\\n\\nMonitoring and Maintenance: Watching and fixing the model over time.\\n\\nSecurity and Privacy: Protecting data and keeping it private.\\n\\nResource Management: Using computer resources like memory and power wisely.\\n\\nVersioning and Model Management: Keeping track of different versions of the model.\\n\\nRegulatory Compliance: Making sure the model follows the laws, rules, and regulations.\\n\\nUser Acceptance and Trust: Getting people to trust and accept the model.\\n\\nExplainability and Transparency: Being able to explain how the model works.\\n\\nCost Management: Managing how much it costs to use the model.\\n\\nAs per research, only 13% of ML models ever make it to production. This is a huge gap, considering the possibilities that AI model deployment can bring to the organization.\\n\\n',\n",
       " 7: '\\n\\nData and Model Management\\n\\nData Pipelines: Building and maintaining data pipelines for continuous data flow.\\n\\nModel Versioning: Tracking and managing different versions of models.\\n\\n',\n",
       " 8: '\\n\\nA/B Testing\\n\\nObjective Comparison: A/B testing allows for an objective comparison of two model versions to determine which performs better based on specific metrics.\\n\\nReal-World Application: It is widely used to optimize user experiences, such as testing different recommendation systems or ad strategies to enhance engagement or conversion rates.\\n\\nStatistical Significance: The technique ensures that performance differences are statistically significant and not due to random chance by using control and treatment groups along with statistical tests.\\n\\n',\n",
       " 9: '\\n\\nSecurity, Compliance and Bias\\n\\nSecurity: Ensuring the security of machine learning models involves protecting sensitive data from unauthorized access and breaches through robust encryption, secure APIs, and access controls\\n\\nCompliance: Adhering to industry regulations and standards, such as GDPR or HIPAA, is critical to ensure the legal and ethical use of data in machine learning deployments. This involves data anonymization, user consent, and regular compliance audits.\\n\\nBias Detection: Identifying and mitigating bias in ML models is crucial to prevent unfair and discriminatory outcomes. This involves using diverse training datasets, applying fairness-aware algorithms, and conducting bias impact assessments\\n\\nContinuous Monitoring: Regular monitoring and updating of deployed models are essential to maintain security, compliance, and fairness. This involves real-time performance tracking, automated alerts for anomalies, and periodic model retraining.'}"
      ]
     },
     "execution_count": 5,
     "metadata": {},
     "output_type": "execute_result"
    }
   ],
   "execution_count": 5
  },
  {
   "metadata": {
    "ExecuteTime": {
     "end_time": "2025-07-26T15:56:21.439692Z",
     "start_time": "2025-07-26T15:56:21.433105Z"
    }
   },
   "cell_type": "code",
   "source": [
    "context = \"\"\n",
    "\n",
    "for page, content in ppt_data.items():\n",
    "    context += f\"### Slide {page}:\\n\\n{content.strip()}\\n\\n\\n\""
   ],
   "id": "244152058942fdcf",
   "outputs": [],
   "execution_count": 9
  },
  {
   "metadata": {
    "ExecuteTime": {
     "end_time": "2025-07-26T15:56:21.754937Z",
     "start_time": "2025-07-26T15:56:21.749494Z"
    }
   },
   "cell_type": "code",
   "source": "print(context)",
   "id": "ca2106d8f1708390",
   "outputs": [
    {
     "name": "stdout",
     "output_type": "stream",
     "text": [
      "### Slide 1:\n",
      "\n",
      "Machine Learning Model Deployment\n",
      "\n",
      "Introduction to ML Pipeline\n",
      "\n",
      "https://bit.ly/bert_nlp\n",
      "\n",
      "\n",
      "### Slide 2:\n",
      "\n",
      "What is Machine Learning Pipeline?\n",
      "\n",
      "\n",
      "### Slide 3:\n",
      "\n",
      "Type of ML Deployment\n",
      "\n",
      "Batch: In batch deployment, ML models process large volumes of data at scheduled intervals, ideal for tasks like end-of-day reporting or monthly analytics.\n",
      "\n",
      "Stream: Stream deployment enables ML models to process and analyze data in real-time as it flows in, suitable for applications like fraud detection or live social media analysis.\n",
      "\n",
      "Realtime: Realtime deployment allows ML models to provide instant predictions or decisions in response to incoming data, essential for use cases like recommendation systems or autonomous driving.\n",
      "\n",
      "Edge: Edge deployment involves running ML models on local devices close to the data source, reducing latency and bandwidth usage, which is crucial for IoT applications and smart devices.\n",
      "\n",
      "\n",
      "### Slide 4:\n",
      "\n",
      "Infrastructure and Integration\n",
      "\n",
      "Hardware and Software: Setting up the right environment for model deployment.\n",
      "\n",
      "Integration: Seamlessly integrating the model with existing systems and applications.\n",
      "\n",
      "\n",
      "### Slide 5:\n",
      "\n",
      "Benefits of Deploying ML Models\n",
      "\n",
      "Focus on new models, not maintaining existing models || Prevention of bugs || Creation of records for debugging and reproducing results || Standardization || Allows models to handle real-time data and large user bases.\n",
      "\n",
      "\n",
      "### Slide 6:\n",
      "\n",
      "Challenges in ML Deployment\n",
      "\n",
      "Data Management: Making sure the model gets the right kind of data.\n",
      "\n",
      "Model Scalability and Performance: Ensuring that their model can effectively scale as it keeps adding more complex information.\n",
      "\n",
      "Integration with Existing Systems: Fitting the model into current computers and software.\n",
      "\n",
      "Monitoring and Maintenance: Watching and fixing the model over time.\n",
      "\n",
      "Security and Privacy: Protecting data and keeping it private.\n",
      "\n",
      "Resource Management: Using computer resources like memory and power wisely.\n",
      "\n",
      "Versioning and Model Management: Keeping track of different versions of the model.\n",
      "\n",
      "Regulatory Compliance: Making sure the model follows the laws, rules, and regulations.\n",
      "\n",
      "User Acceptance and Trust: Getting people to trust and accept the model.\n",
      "\n",
      "Explainability and Transparency: Being able to explain how the model works.\n",
      "\n",
      "Cost Management: Managing how much it costs to use the model.\n",
      "\n",
      "As per research, only 13% of ML models ever make it to production. This is a huge gap, considering the possibilities that AI model deployment can bring to the organization.\n",
      "\n",
      "\n",
      "### Slide 7:\n",
      "\n",
      "Data and Model Management\n",
      "\n",
      "Data Pipelines: Building and maintaining data pipelines for continuous data flow.\n",
      "\n",
      "Model Versioning: Tracking and managing different versions of models.\n",
      "\n",
      "\n",
      "### Slide 8:\n",
      "\n",
      "A/B Testing\n",
      "\n",
      "Objective Comparison: A/B testing allows for an objective comparison of two model versions to determine which performs better based on specific metrics.\n",
      "\n",
      "Real-World Application: It is widely used to optimize user experiences, such as testing different recommendation systems or ad strategies to enhance engagement or conversion rates.\n",
      "\n",
      "Statistical Significance: The technique ensures that performance differences are statistically significant and not due to random chance by using control and treatment groups along with statistical tests.\n",
      "\n",
      "\n",
      "### Slide 9:\n",
      "\n",
      "Security, Compliance and Bias\n",
      "\n",
      "Security: Ensuring the security of machine learning models involves protecting sensitive data from unauthorized access and breaches through robust encryption, secure APIs, and access controls\n",
      "\n",
      "Compliance: Adhering to industry regulations and standards, such as GDPR or HIPAA, is critical to ensure the legal and ethical use of data in machine learning deployments. This involves data anonymization, user consent, and regular compliance audits.\n",
      "\n",
      "Bias Detection: Identifying and mitigating bias in ML models is crucial to prevent unfair and discriminatory outcomes. This involves using diverse training datasets, applying fairness-aware algorithms, and conducting bias impact assessments\n",
      "\n",
      "Continuous Monitoring: Regular monitoring and updating of deployed models are essential to maintain security, compliance, and fairness. This involves real-time performance tracking, automated alerts for anomalies, and periodic model retraining.\n",
      "\n",
      "\n",
      "\n"
     ]
    }
   ],
   "execution_count": 10
  },
  {
   "metadata": {
    "ExecuteTime": {
     "end_time": "2025-07-26T15:58:04.930485Z",
     "start_time": "2025-07-26T15:58:03.554029Z"
    }
   },
   "cell_type": "code",
   "source": "from scripts import llm",
   "id": "502b08a7f5c3f25f",
   "outputs": [],
   "execution_count": 11
  },
  {
   "metadata": {
    "ExecuteTime": {
     "end_time": "2025-07-26T16:00:41.972084Z",
     "start_time": "2025-07-26T15:59:54.383991Z"
    }
   },
   "cell_type": "code",
   "source": [
    "question = \"\"\"\n",
    "For each PowerPoint slide provided above, write a 2-minute script that effectively conveys the key points.\n",
    "Ensure a smooth flow between slides, maintaining a clear and engaging narrative.\n",
    "\"\"\"\n",
    "\n",
    "response = llm.ask_llm(context, question)"
   ],
   "id": "75f20db7aacb6be7",
   "outputs": [],
   "execution_count": 12
  },
  {
   "metadata": {
    "ExecuteTime": {
     "end_time": "2025-07-26T16:00:41.976528Z",
     "start_time": "2025-07-26T16:00:41.973081Z"
    }
   },
   "cell_type": "code",
   "source": "print(response)",
   "id": "eafa4a9afcb12608",
   "outputs": [
    {
     "name": "stdout",
     "output_type": "stream",
     "text": [
      "Here are the scripts for each PowerPoint slide:\n",
      "\n",
      "**Slide 1: Introduction to ML Pipeline**\n",
      "\n",
      "[Opening music plays]\n",
      "\n",
      "Speaker: \"Good morning everyone, welcome to our presentation on Machine Learning Model Deployment. In today's fast-paced world, machine learning models have become an essential tool for organizations to make data-driven decisions. But before we dive into the details of model deployment, let's take a step back and understand what a machine learning pipeline is.\"\n",
      "\n",
      "[Pause for a brief moment]\n",
      "\n",
      "Speaker: \"A machine learning pipeline refers to the entire process of building, training, testing, and deploying a machine learning model. It involves data preparation, feature engineering, model selection, training, evaluation, and deployment. In this presentation, we'll take a closer look at each stage of the pipeline and how to deploy machine learning models effectively.\"\n",
      "\n",
      "[Slide 2: What is Machine Learning Pipeline?]\n",
      "\n",
      "Speaker: \"So, what exactly is a machine learning pipeline? Simply put, it's the series of steps involved in creating and deploying a machine learning model. From data preparation to deployment, every step is crucial in ensuring that our model performs well and meets business requirements.\"\n",
      "\n",
      "[Pause for emphasis]\n",
      "\n",
      "Speaker: \"A well-designed machine learning pipeline helps organizations to streamline their workflow, reduce errors, and increase productivity. In the next slides, we'll explore different types of machine learning deployments, infrastructure and integration, benefits, challenges, data and model management, A/B testing, security, compliance, and bias.\"\n",
      "\n",
      "[Transition to Slide 2: Type of ML Deployment]\n",
      "\n",
      "**Slide 2: Type of ML Deployment**\n",
      "\n",
      "Speaker: \"Now that we've covered the basics of a machine learning pipeline, let's talk about different types of machine learning deployments. There are four main types: batch, stream, real-time, and edge.\"\n",
      "\n",
      "[Pause for emphasis]\n",
      "\n",
      "Speaker: \"Batch deployment is ideal for tasks like end-of-day reporting or monthly analytics. It involves processing large volumes of data at scheduled intervals. Stream deployment, on the other hand, enables models to process and analyze data in real-time as it flows in, making it suitable for applications like fraud detection or live social media analysis.\"\n",
      "\n",
      "[Slide 3: Edge Deployment]\n",
      "\n",
      "Speaker: \"Edge deployment involves running machine learning models on local devices close to the data source, reducing latency and bandwidth usage. This is crucial for IoT applications and smart devices.\"\n",
      "\n",
      "[Pause for emphasis]\n",
      "\n",
      "Speaker: \"In the next slide, we'll discuss infrastructure and integration, which is essential for deploying machine learning models effectively.\"\n",
      "\n",
      "**Slide 3: Infrastructure and Integration**\n",
      "\n",
      "Speaker: \"Now that we've covered different types of machine learning deployments, let's talk about infrastructure and integration. This stage involves setting up the right environment for model deployment and integrating the model with existing systems and applications.\"\n",
      "\n",
      "[Pause for emphasis]\n",
      "\n",
      "Speaker: \"A well-designed infrastructure provides a solid foundation for machine learning model deployment. Integration with existing systems is also critical to ensure that our model meets business requirements.\"\n",
      "\n",
      "**Slide 4: Benefits of Deploying ML Models**\n",
      "\n",
      "Speaker: \"So, what are the benefits of deploying machine learning models? Let's take a look at some of the advantages.\"\n",
      "\n",
      "[Pause for emphasis]\n",
      "\n",
      "Speaker: \"By deploying machine learning models, organizations can focus on new models rather than maintaining existing ones. This helps to prevent bugs and creates records for debugging and reproducing results.\"\n",
      "\n",
      "[Slide 5: Benefits of Deploying ML Models]\n",
      "\n",
      "Speaker: \"Additionally, deployment allows us to standardize our models, handle real-time data, and large user bases. These benefits are critical in today's fast-paced business environment.\"\n",
      "\n",
      "**Slide 5: Challenges in ML Deployment**\n",
      "\n",
      "Speaker: \"However, there are also challenges associated with deploying machine learning models. Let's take a look at some of the common obstacles.\"\n",
      "\n",
      "[Pause for emphasis]\n",
      "\n",
      "Speaker: \"Data management is one of the biggest challenges. Ensuring that our model gets the right kind of data is crucial to its success.\"\n",
      "\n",
      "[Slide 6: Challenges in ML Deployment]\n",
      "\n",
      "Speaker: \"Model scalability and performance are also critical considerations. We need to ensure that our model can effectively scale as it keeps adding more complex information.\"\n",
      "\n",
      "**Slide 6: Integration with Existing Systems**\n",
      "\n",
      "Speaker: \"Integration with existing systems is another challenge. Fitting the model into current computers and software requires careful planning and execution.\"\n",
      "\n",
      "[Pause for emphasis]\n",
      "\n",
      "Speaker: \"Monitoring and maintenance are also essential to ensure that our model continues to perform well over time.\"\n",
      "\n",
      "**Slide 7: Data and Model Management**\n",
      "\n",
      "Speaker: \"Now, let's talk about data and model management. This stage involves building and maintaining data pipelines for continuous data flow and tracking and managing different versions of models.\"\n",
      "\n",
      "[Pause for emphasis]\n",
      "\n",
      "Speaker: \"Data pipelines are critical in ensuring that our model gets the right kind of data at the right time. Model versioning helps us to track changes and updates to our model.\"\n",
      "\n",
      "**Slide 8: A/B Testing**\n",
      "\n",
      "Speaker: \"A/B testing is another important stage in machine learning deployment. It allows for an objective comparison of two model versions to determine which performs better based on specific metrics.\"\n",
      "\n",
      "[Pause for emphasis]\n",
      "\n",
      "Speaker: \"A/B testing helps us to optimize user experiences, such as recommending systems or ad strategies to enhance engagement or conversion rates.\"\n",
      "\n",
      "**Slide 9: Security, Compliance and Bias**\n",
      "\n",
      "Speaker: \"Finally, let's talk about security, compliance, and bias. These are critical considerations in machine learning deployment.\"\n",
      "\n",
      "[Pause for emphasis]\n",
      "\n",
      "Speaker: \"Security involves protecting sensitive data from unauthorized access and breaches through robust encryption, secure APIs, and access controls. Compliance involves adhering to industry regulations and standards, such as GDPR or HIPAA.\"\n",
      "\n",
      "[Slide 10: Bias Detection]\n",
      "\n",
      "Speaker: \"Bias detection is also essential to prevent unfair and discriminatory outcomes. We need to use diverse training datasets, apply fairness-aware algorithms, and conduct bias impact assessments.\"\n",
      "\n",
      "**Slide 10: Continuous Monitoring**\n",
      "\n",
      "Speaker: \"Continuous monitoring and updating of deployed models are critical to maintain security, compliance, and fairness. This involves real-time performance tracking, automated alerts for anomalies, and periodic model retraining.\"\n",
      "\n",
      "[Closing music plays]\n",
      "\n",
      "Speaker: \"Thank you for joining us on this journey through machine learning model deployment. We hope that you now have a better understanding of the challenges and benefits associated with deploying machine learning models effectively.\"\n"
     ]
    }
   ],
   "execution_count": 13
  },
  {
   "metadata": {
    "ExecuteTime": {
     "end_time": "2025-07-26T16:02:22.648277Z",
     "start_time": "2025-07-26T16:02:22.644041Z"
    }
   },
   "cell_type": "code",
   "source": [
    "with open(\"data/ppt_script.md\", \"w\") as f:\n",
    "    f.write(response)\n",
    "    print(\"OK\")"
   ],
   "id": "a426a90c3543f580",
   "outputs": [
    {
     "name": "stdout",
     "output_type": "stream",
     "text": [
      "OK\n"
     ]
    }
   ],
   "execution_count": 14
  },
  {
   "metadata": {},
   "cell_type": "markdown",
   "source": "## Section 2. Excel Data Analysis with LLM",
   "id": "ea6625cfc7cffcef"
  },
  {
   "metadata": {
    "ExecuteTime": {
     "end_time": "2025-07-26T16:06:36.637350Z",
     "start_time": "2025-07-26T16:06:35.173048Z"
    }
   },
   "cell_type": "code",
   "source": [
    "from langchain_community.document_loaders import UnstructuredExcelLoader\n",
    "\n",
    "loader = UnstructuredExcelLoader(\"./data/sample.xlsx\", mode='elements')\n",
    "docs = loader.load()"
   ],
   "id": "3dad92eec994faea",
   "outputs": [],
   "execution_count": 16
  },
  {
   "metadata": {
    "ExecuteTime": {
     "end_time": "2025-07-26T16:06:40.308212Z",
     "start_time": "2025-07-26T16:06:40.304073Z"
    }
   },
   "cell_type": "code",
   "source": "len(docs) # Number of Sheet",
   "id": "97997c0d887bd74b",
   "outputs": [
    {
     "data": {
      "text/plain": [
       "1"
      ]
     },
     "execution_count": 17,
     "metadata": {},
     "output_type": "execute_result"
    }
   ],
   "execution_count": 17
  },
  {
   "metadata": {
    "ExecuteTime": {
     "end_time": "2025-07-26T16:09:30.066200Z",
     "start_time": "2025-07-26T16:09:30.061719Z"
    }
   },
   "cell_type": "code",
   "source": [
    "doc = docs[0]\n",
    "doc.metadata"
   ],
   "id": "88ed96d0f6c56088",
   "outputs": [
    {
     "data": {
      "text/plain": [
       "{'source': './data/sample.xlsx',\n",
       " 'file_directory': './data',\n",
       " 'filename': 'sample.xlsx',\n",
       " 'last_modified': '2025-07-26T22:29:49',\n",
       " 'page_name': 'Data',\n",
       " 'page_number': 1,\n",
       " 'text_as_html': '<table><tr><td>First Name</td><td>Last Name</td><td>City</td><td>Gender</td></tr><tr><td>Brandon</td><td>James</td><td>Miami</td><td>M</td></tr><tr><td>Sean</td><td>Hawkins</td><td>Denver</td><td>M</td></tr><tr><td>Judy</td><td>Day</td><td>Los Angeles</td><td>F</td></tr><tr><td>Ashley</td><td>Ruiz</td><td>San Francisco</td><td>F</td></tr><tr><td>Stephanie</td><td>Gomez</td><td>Portland</td><td>F</td></tr></table>',\n",
       " 'languages': ['eng'],\n",
       " 'filetype': 'application/vnd.openxmlformats-officedocument.spreadsheetml.sheet',\n",
       " 'category': 'Table',\n",
       " 'element_id': 'c44665196e07c27314922db69accb8b6'}"
      ]
     },
     "execution_count": 23,
     "metadata": {},
     "output_type": "execute_result"
    }
   ],
   "execution_count": 23
  },
  {
   "metadata": {
    "ExecuteTime": {
     "end_time": "2025-07-26T16:09:44.540921Z",
     "start_time": "2025-07-26T16:09:44.537054Z"
    }
   },
   "cell_type": "code",
   "source": [
    "context = doc.metadata['text_as_html']\n",
    "context"
   ],
   "id": "a5441c6bdc238acd",
   "outputs": [
    {
     "data": {
      "text/plain": [
       "'<table><tr><td>First Name</td><td>Last Name</td><td>City</td><td>Gender</td></tr><tr><td>Brandon</td><td>James</td><td>Miami</td><td>M</td></tr><tr><td>Sean</td><td>Hawkins</td><td>Denver</td><td>M</td></tr><tr><td>Judy</td><td>Day</td><td>Los Angeles</td><td>F</td></tr><tr><td>Ashley</td><td>Ruiz</td><td>San Francisco</td><td>F</td></tr><tr><td>Stephanie</td><td>Gomez</td><td>Portland</td><td>F</td></tr></table>'"
      ]
     },
     "execution_count": 24,
     "metadata": {},
     "output_type": "execute_result"
    }
   ],
   "execution_count": 24
  },
  {
   "metadata": {
    "ExecuteTime": {
     "end_time": "2025-07-26T16:10:43.667631Z",
     "start_time": "2025-07-26T16:10:36.081758Z"
    }
   },
   "cell_type": "code",
   "source": [
    "question = \"\"\"\n",
    "Return this data in Markdown format.\n",
    "\"\"\"\n",
    "\n",
    "response = llm.ask_llm(context, question)\n",
    "print(response)"
   ],
   "id": "8ec1b17eb7e8b105",
   "outputs": [
    {
     "name": "stdout",
     "output_type": "stream",
     "text": [
      "| First Name | Last Name | City | Gender |\n",
      "|------------|-----------|------|--------|\n",
      "| Brandon    | James     | Miami | M      |\n",
      "| Sean       | Hawkins   | Denver | M      |\n",
      "| Judy       | Day       | Los Angeles | F    |\n",
      "| Ashley     | Ruiz      | San Francisco | F    |\n",
      "| Stephanie  | Gomez     | Portland | F    |\n"
     ]
    }
   ],
   "execution_count": 25
  },
  {
   "metadata": {
    "ExecuteTime": {
     "end_time": "2025-07-26T16:12:54.406136Z",
     "start_time": "2025-07-26T16:12:52.327Z"
    }
   },
   "cell_type": "code",
   "source": [
    "question = \"\"\"\n",
    "Return all entries in the table where Gender is 'F. Format the response in Markdown. Don't write preambles and explanation.'\n",
    "\"\"\"\n",
    "\n",
    "response = llm.ask_llm(context, question)\n",
    "print(response)"
   ],
   "id": "4380d523fcebcd0d",
   "outputs": [
    {
     "name": "stdout",
     "output_type": "stream",
     "text": [
      "| First Name | Last Name   | City         | Gender |\n",
      "|------------|-------------|--------------|--------|\n",
      "| Judy       | Day         | Los Angeles  | F      |\n",
      "| Ashley     | Ruiz        | San Francisco| F      |\n",
      "| Stephanie | Gomez       | Portland     | F      |\n"
     ]
    }
   ],
   "execution_count": 28
  },
  {
   "metadata": {
    "ExecuteTime": {
     "end_time": "2025-07-26T16:13:09.700803Z",
     "start_time": "2025-07-26T16:13:08.407504Z"
    }
   },
   "cell_type": "code",
   "source": [
    "question = \"\"\"\n",
    "Return all entries in the table where Gender is 'm'. Format the response in Markdown. Don't write preambles and explanation.'\n",
    "\"\"\"\n",
    "\n",
    "response = llm.ask_llm(context, question)\n",
    "print(response)"
   ],
   "id": "dfe8482af0ae8e47",
   "outputs": [
    {
     "name": "stdout",
     "output_type": "stream",
     "text": [
      "| First Name | Last Name | City | Gender |\n",
      "|:-----------|-----------|-------|--------|\n",
      "| Brandon    | James     | Miami | M       |\n",
      "| Sean       | Hawkins   | Denver | M       |\n"
     ]
    }
   ],
   "execution_count": 29
  },
  {
   "metadata": {},
   "cell_type": "markdown",
   "source": "## Section 3. Personalized Job Application Letter",
   "id": "2e08d20091f072c7"
  },
  {
   "metadata": {
    "ExecuteTime": {
     "end_time": "2025-07-26T16:16:31.336761Z",
     "start_time": "2025-07-26T16:16:31.325843Z"
    }
   },
   "cell_type": "code",
   "source": [
    "from langchain_community.document_loaders import Docx2txtLoader\n",
    "\n",
    "loader = Docx2txtLoader(\"./data/job_description.docx\")\n",
    "\n",
    "docs = loader.load()"
   ],
   "id": "7bed6089e27f98ea",
   "outputs": [],
   "execution_count": 33
  },
  {
   "metadata": {
    "ExecuteTime": {
     "end_time": "2025-07-26T16:17:48.543809Z",
     "start_time": "2025-07-26T16:17:48.540903Z"
    }
   },
   "cell_type": "code",
   "source": "context = docs[0].page_content",
   "id": "9efc4f3d1a24b442",
   "outputs": [],
   "execution_count": 35
  },
  {
   "metadata": {
    "ExecuteTime": {
     "end_time": "2025-07-26T16:17:56.507225Z",
     "start_time": "2025-07-26T16:17:56.503709Z"
    }
   },
   "cell_type": "code",
   "source": "print(context)",
   "id": "386283cd792cee5b",
   "outputs": [
    {
     "name": "stdout",
     "output_type": "stream",
     "text": [
      "Job Description - Data Scientist\n",
      "\n",
      "At SpiceJet, we rely on data to provide us valuable insights, and to automate our systems and solutions to help us increase revenues, reduce costs and provide improved customer experiences. We are seeking an experienced data scientist to deliver insights and automate our systems and processes. Ideal team member will have mathematical and statistical expertise, experience with modern data science programming languages and machine learning/AI platforms and techniques. You will mine, clean and interpret our data and then develop machine learning models to deliver business value across different parts of the business. \n",
      "\n",
      "Objectives of this Role\n",
      "\n",
      "Use Data Science and Machine Learning to increase revenue, reduce costs and increase customer satisfaction.\n",
      "\n",
      "Collaborate with product design and engineering to develop an understanding of needs\n",
      "\n",
      "Understand where the required data resides and work on ways to extract the relevant data.\n",
      "\n",
      "Research and devise statistical and machine learning models.\n",
      "\n",
      "Communicate insights to stakeholders in an automated fashion to enable them to take business decisions.\n",
      "\n",
      "Deploy models in production to automate various processes.\n",
      "\n",
      "\n",
      "\n",
      "Skills and Qualifications\n",
      "\n",
      "Bachelor’s degree in Data Science, Computer Science, Statistics, Applied mathematics, or related discipline\n",
      "\n",
      "3+ years experience in data science\n",
      "\n",
      "Proficiency with Machine Learning platforms and techniques, data mining, mathematics, and statistical analysis\n",
      "\n",
      "Predictive modelling experience\n",
      "\n",
      "Experience with Python, R, Excel, Tableau, SQL\n",
      "\n",
      "Comfortable working in a dynamic, research-oriented group with several ongoing concurrent projects\n",
      "\n",
      "\n",
      "\n",
      "Preferred Qualifications\n",
      "\n",
      "Master’s degree in Data Science, Computer Science, Stats, Applied math, or related discipline\n",
      "\n",
      "2+ years of project management experience\n",
      "\n",
      "\n",
      "\n",
      "Competencies:\n",
      "\n",
      "Defining: Can translate fuzzy problem in assigned area into formalized structure\n",
      "\n",
      "Troubleshooting: Can troubleshoot unseen problems in assigned area\n",
      "\n",
      "Solutioning:  Can independently implement the solution\n",
      "\n",
      "Coding Principles: Extensability, Abstraction, Separation of concerns, Chooses right Data Science/Machine learning techniques.\n",
      "\n",
      "Coding Quality: Performant, Integration tests coverage, implements security requirements.\n",
      "\n",
      "Programming Language Proficiency: Usage of design patterns and knowledge of functional aspects.\n",
      "\n",
      "Project Management: Can break down tasks, identify dependencies and provide accurate effort estimates that feed into the larger plan. Proactively resolve dependencies and communicate around progress and blockers.\n",
      "\n",
      "Execution: Responsible for timely completion of assigned components including integration and deployment to appropriate environments. Complete ownership of quality including iterations with stakeholders to meet the desired objectives.\n",
      "\n",
      "Responsiveness: Understands team priorities. Own, identify and quick turn around for production issues that address the root cause.\n",
      "\n",
      "Designing: Low level design, functional modeling, Adaptability, High level design with guidance\n",
      "\n",
      "Analysis: Understanding impact of design changes\n",
      "\n",
      "Non Functional Attributes: Understands the basic concepts around performance and can contribute to measuring and improving performance. Understands scalability\n",
      "\n",
      "Data Orientation: Apply algorithms to make smarter and intelligent data driven systems, Good understanding and know hows of various data tools/tech (e.g. Data Tools, IR and ML tools)\n"
     ]
    }
   ],
   "execution_count": 37
  },
  {
   "metadata": {
    "ExecuteTime": {
     "end_time": "2025-07-26T16:21:06.070647Z",
     "start_time": "2025-07-26T16:20:55.588239Z"
    }
   },
   "cell_type": "code",
   "source": [
    "question = \"\"\"\n",
    "My name is Nathan, and I am a recent graduate from University of Surabaya with a focus on Natural Language Processing and Machine Learning.\n",
    "I am applying for a Data Scientist position at SpiceJet.\n",
    "Please write a concise job application email for me in short, removing any placeholders, including references to job boards or sources.\n",
    "\"\"\"\n",
    "\n",
    "response = llm.ask_llm(context, question)\n",
    "print(response)"
   ],
   "id": "2d947ca18708928e",
   "outputs": [
    {
     "name": "stdout",
     "output_type": "stream",
     "text": [
      "Dear Hiring Manager,\n",
      "\n",
      "I am excited to apply for the Data Scientist position at SpiceJet. With a strong academic background in Natural Language Processing and Machine Learning from the University of Surabaya, I am confident that my skills and expertise can contribute significantly to your team.\n",
      "\n",
      "Throughout my studies, I have developed a solid foundation in mathematical and statistical expertise, modern data science programming languages, and machine learning/AI platforms and techniques. My experience with Python, R, Excel, Tableau, SQL, and familiarity with data mining, mathematics, and statistical analysis make me well-equipped to tackle complex data analysis tasks.\n",
      "\n",
      "As a detail-oriented and analytical thinker, I am passionate about using data science and machine learning to drive business value across different parts of the organization. I am excited about the opportunity to collaborate with product design and engineering, research and develop statistical and machine learning models, and communicate insights to stakeholders in an automated fashion.\n",
      "\n",
      "I have attached my resume for your review. Thank you for considering my application. I look forward to discussing how my skills and experience align with SpiceJet's goals and objectives.\n",
      "\n",
      "Sincerely,\n",
      "Nathan\n"
     ]
    }
   ],
   "execution_count": 38
  }
 ],
 "metadata": {
  "kernelspec": {
   "display_name": "Python 3",
   "language": "python",
   "name": "python3"
  },
  "language_info": {
   "codemirror_mode": {
    "name": "ipython",
    "version": 2
   },
   "file_extension": ".py",
   "mimetype": "text/x-python",
   "name": "python",
   "nbconvert_exporter": "python",
   "pygments_lexer": "ipython2",
   "version": "2.7.6"
  }
 },
 "nbformat": 4,
 "nbformat_minor": 5
}
