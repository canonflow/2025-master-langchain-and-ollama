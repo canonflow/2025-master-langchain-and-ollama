{
 "cells": [
  {
   "metadata": {},
   "cell_type": "markdown",
   "source": [
    "## Langchain Expression Language Basics\n",
    "- Langchain Expression Language is that **two runnable** can be **\"chained\" together** into sequences.\n",
    "- The **output of the previous runnable.invoke()** call is passed **as input to the next runnable**.\n",
    "- This can be done using the pipe operator **|**, or the more explicit **.pipe()** method, which does the same thing.\n",
    "\n",
    "### Type of LCEL Chains\n",
    "1. Sequential Chain\n",
    "2. Chain Runnables\n",
    "3. Parallel Chain\n",
    "4. Router Chain\n",
    "5. Custom Chain (Runnable Sequence)"
   ],
   "id": "cca7fb976a4ba8e"
  },
  {
   "cell_type": "code",
   "id": "initial_id",
   "metadata": {
    "collapsed": true,
    "ExecuteTime": {
     "end_time": "2025-07-22T16:17:17.453760Z",
     "start_time": "2025-07-22T16:17:17.447416Z"
    }
   },
   "source": [
    "from dotenv import load_dotenv\n",
    "\n",
    "load_dotenv(\"./../.env\")"
   ],
   "outputs": [
    {
     "data": {
      "text/plain": [
       "True"
      ]
     },
     "execution_count": 45,
     "metadata": {},
     "output_type": "execute_result"
    }
   ],
   "execution_count": 45
  },
  {
   "metadata": {
    "ExecuteTime": {
     "end_time": "2025-07-22T16:17:18.317650Z",
     "start_time": "2025-07-22T16:17:18.314601Z"
    }
   },
   "cell_type": "code",
   "source": [
    "import os\n",
    "from langchain_ollama import ChatOllama\n",
    "from langchain_core.prompts import (\n",
    "    SystemMessagePromptTemplate,\n",
    "    HumanMessagePromptTemplate,\n",
    "    PromptTemplate,\n",
    "    ChatPromptTemplate\n",
    ")"
   ],
   "id": "d30c43ef0a597961",
   "outputs": [],
   "execution_count": 46
  },
  {
   "metadata": {
    "ExecuteTime": {
     "end_time": "2025-07-22T16:17:19.387706Z",
     "start_time": "2025-07-22T16:17:18.870596Z"
    }
   },
   "cell_type": "code",
   "source": [
    "base_url = os.getenv(\"OLLAMA_BASE_URL\")\n",
    "model = \"llama3.2:latest\"\n",
    "\n",
    "llm = ChatOllama(\n",
    "    base_url=base_url,\n",
    "    model=model\n",
    ")\n",
    "llm"
   ],
   "id": "e07d049e882fbb79",
   "outputs": [
    {
     "data": {
      "text/plain": [
       "ChatOllama(model='llama3.2:latest', base_url='http://localhost:11434')"
      ]
     },
     "execution_count": 47,
     "metadata": {},
     "output_type": "execute_result"
    }
   ],
   "execution_count": 47
  },
  {
   "metadata": {},
   "cell_type": "markdown",
   "source": "## Without Chain",
   "id": "8e43ee3d7c4d5be6"
  },
  {
   "metadata": {
    "ExecuteTime": {
     "end_time": "2025-07-22T16:17:25.704562Z",
     "start_time": "2025-07-22T16:17:20.478321Z"
    }
   },
   "cell_type": "code",
   "source": [
    "system_template = SystemMessagePromptTemplate.from_template(\"You are {school} teacher. You answer in short sentences\")\n",
    "question_template = HumanMessagePromptTemplate.from_template(\"Tell me about {topics} in {points} points\")\n",
    "\n",
    "messages = [system_template, question_template]\n",
    "template = ChatPromptTemplate(messages=messages)\n",
    "\n",
    "question = template.invoke({\n",
    "    \"school\": \"primary\",\n",
    "    \"topics\": \"solar\",\n",
    "    \"points\": 5,\n",
    "})\n",
    "\n",
    "response = llm.invoke(question)\n",
    "print(response.content)"
   ],
   "id": "ae12fc095b93f0d5",
   "outputs": [
    {
     "name": "stdout",
     "output_type": "stream",
     "text": [
      "Here's information about solar in 5 points:\n",
      "\n",
      "1. Solar energy is a renewable source of power.\n",
      "2. It's generated from the sun's rays, converted into electricity.\n",
      "3. Solar panels convert sunlight into electrical energy.\n",
      "4. We can use solar energy to power homes, schools, and communities.\n",
      "5. It's a clean and sustainable way to reduce our reliance on fossil fuels.\n"
     ]
    }
   ],
   "execution_count": 48
  },
  {
   "metadata": {},
   "cell_type": "markdown",
   "source": "## Sequential Chain",
   "id": "d2ad77f32b1c9a9d"
  },
  {
   "metadata": {
    "ExecuteTime": {
     "end_time": "2025-07-22T16:17:28.630078Z",
     "start_time": "2025-07-22T16:17:25.705574Z"
    }
   },
   "cell_type": "code",
   "source": [
    "chain = template | llm\n",
    "\n",
    "response = chain.invoke({\n",
    "    \"school\": \"primary\",\n",
    "    \"topics\": \"solar\",\n",
    "    \"points\": 5,\n",
    "})\n",
    "\n",
    "print(response.content)"
   ],
   "id": "61f13dcf4bc7aae2",
   "outputs": [
    {
     "name": "stdout",
     "output_type": "stream",
     "text": [
      "Here are 5 key points about solar:\n",
      "\n",
      "1. Solar energy is power from the sun.\n",
      "2. We use solar panels to catch sunlight and turn it into electricity.\n",
      "3. Solar energy helps our planet by reducing greenhouse gases.\n",
      "4. It's a clean and renewable source of energy, never running out.\n",
      "5. We can use solar energy for homes, schools, and even our classrooms!\n"
     ]
    }
   ],
   "execution_count": 49
  },
  {
   "metadata": {
    "ExecuteTime": {
     "end_time": "2025-07-22T16:17:31.891728Z",
     "start_time": "2025-07-22T16:17:28.631085Z"
    }
   },
   "cell_type": "code",
   "source": [
    "response = chain.invoke({\n",
    "    \"school\": \"pdh\",\n",
    "    \"topics\": \"solar\",\n",
    "    \"points\": 5,\n",
    "})\n",
    "\n",
    "print(response.content)"
   ],
   "id": "545e768b66c470a2",
   "outputs": [
    {
     "name": "stdout",
     "output_type": "stream",
     "text": [
      "Here are 5 key points about solar:\n",
      "\n",
      "1. Solar energy is renewable and sustainable.\n",
      "2. It harnesses power from the sun's rays to generate electricity or heat.\n",
      "3. Solar panels convert sunlight into DC power, which can be used or stored.\n",
      "4. Solar energy is zero-emission, producing no greenhouse gas emissions or pollution.\n",
      "5. Global solar energy capacity has grown significantly in recent years, becoming a major source of clean energy worldwide.\n"
     ]
    }
   ],
   "execution_count": 50
  },
  {
   "metadata": {},
   "cell_type": "markdown",
   "source": [
    "### StrOutputParser\n",
    "- Using StrOutputParser will create a final output as the string, so that we can pass this string data to some other runnable if we want"
   ],
   "id": "ba92b5fa32080099"
  },
  {
   "metadata": {
    "ExecuteTime": {
     "end_time": "2025-07-22T16:17:34.373338Z",
     "start_time": "2025-07-22T16:17:31.892738Z"
    }
   },
   "cell_type": "code",
   "source": [
    "from langchain_core.output_parsers import StrOutputParser\n",
    "\n",
    "chain = template | llm | StrOutputParser()\n",
    "\n",
    "response = chain.invoke({\n",
    "    \"school\": \"pdh\",\n",
    "    \"topics\": \"solar\",\n",
    "    \"points\": 5,\n",
    "})\n",
    "\n",
    "print(response)\n"
   ],
   "id": "85c303a68348d976",
   "outputs": [
    {
     "name": "stdout",
     "output_type": "stream",
     "text": [
      "Here are 5 key points about solar:\n",
      "\n",
      "1. Solar energy is generated from sunlight.\n",
      "2. It's a renewable and sustainable source of energy.\n",
      "3. Solar panels convert sunlight to electricity using photovoltaic cells.\n",
      "4. The amount of sunlight varies by location, affecting efficiency.\n",
      "5. Solar power can be used for heating, cooling, and generating electricity.\n"
     ]
    }
   ],
   "execution_count": 51
  },
  {
   "metadata": {},
   "cell_type": "markdown",
   "source": [
    "## Chain Runnables (Chain Multiple Runnables)\n",
    "- We can even **combine this chain** with more runnables to create another chain.\n",
    "- Let's see how easy our generated output is?"
   ],
   "id": "cd151287c8876f23"
  },
  {
   "metadata": {
    "ExecuteTime": {
     "end_time": "2025-07-22T16:17:34.378145Z",
     "start_time": "2025-07-22T16:17:34.374345Z"
    }
   },
   "cell_type": "code",
   "source": "chain",
   "id": "39f939cfc3078926",
   "outputs": [
    {
     "data": {
      "text/plain": [
       "ChatPromptTemplate(input_variables=['points', 'school', 'topics'], input_types={}, partial_variables={}, messages=[SystemMessagePromptTemplate(prompt=PromptTemplate(input_variables=['school'], input_types={}, partial_variables={}, template='You are {school} teacher. You answer in short sentences'), additional_kwargs={}), HumanMessagePromptTemplate(prompt=PromptTemplate(input_variables=['points', 'topics'], input_types={}, partial_variables={}, template='Tell me about {topics} in {points} points'), additional_kwargs={})])\n",
       "| ChatOllama(model='llama3.2:latest', base_url='http://localhost:11434')\n",
       "| StrOutputParser()"
      ]
     },
     "execution_count": 52,
     "metadata": {},
     "output_type": "execute_result"
    }
   ],
   "execution_count": 52
  },
  {
   "metadata": {},
   "cell_type": "markdown",
   "source": "### Option 1: Using Existing Response",
   "id": "41be2876b4f076a6"
  },
  {
   "metadata": {
    "ExecuteTime": {
     "end_time": "2025-07-22T16:17:37.865083Z",
     "start_time": "2025-07-22T16:17:36.432888Z"
    }
   },
   "cell_type": "code",
   "source": [
    "analysis_prompt = ChatPromptTemplate.from_template(\n",
    "    \"\"\"\n",
    "    Analyze the following text: {text}\n",
    "    \n",
    "    You need tell me that how difficult it is to understand.\n",
    "    Answer in one sentence only.\n",
    "    \"\"\"\n",
    ")\n",
    "\n",
    "fact_check_chain = analysis_prompt | llm | StrOutputParser()\n",
    "output = fact_check_chain.invoke({\n",
    "    \"text\": response\n",
    "})\n",
    "print(output)"
   ],
   "id": "adb71fa6c7415e16",
   "outputs": [
    {
     "name": "stdout",
     "output_type": "stream",
     "text": [
      "The text is written in simple language, with concise sentences and basic vocabulary, making it easy to comprehend for readers with a basic understanding of science and technology.\n"
     ]
    }
   ],
   "execution_count": 53
  },
  {
   "metadata": {},
   "cell_type": "markdown",
   "source": "### Option 2: Using Composed Chain",
   "id": "94851f3e7bbc3159"
  },
  {
   "metadata": {
    "ExecuteTime": {
     "end_time": "2025-07-22T16:17:44.030820Z",
     "start_time": "2025-07-22T16:17:38.361409Z"
    }
   },
   "cell_type": "code",
   "source": [
    "composed_chain = {\"text\": chain} | analysis_prompt | llm | StrOutputParser()\n",
    "\n",
    "composed_output = composed_chain.invoke({\n",
    "    \"school\": \"phd\",\n",
    "    \"topics\": \"solar\",\n",
    "    \"points\": 5,\n",
    "})\n",
    "\n",
    "print(composed_output)"
   ],
   "id": "50d96e3a57be9f1b",
   "outputs": [
    {
     "name": "stdout",
     "output_type": "stream",
     "text": [
      "The text is written in simple and concise language, with short paragraphs and straightforward bullet points, making it easy to comprehend.\n"
     ]
    }
   ],
   "execution_count": 54
  },
  {
   "metadata": {},
   "cell_type": "markdown",
   "source": [
    "## Parallel Chain\n",
    "- Parallel chains are used to **run multiple runnables (assuming all runnables are independent) in parallel**.\n",
    "- The final return value is **a dictionary** with the result of each value under its appropriate key."
   ],
   "id": "80ed16976ac51dd1"
  },
  {
   "metadata": {
    "ExecuteTime": {
     "end_time": "2025-07-22T16:17:46.506954Z",
     "start_time": "2025-07-22T16:17:44.031831Z"
    }
   },
   "cell_type": "code",
   "source": [
    "system_template = SystemMessagePromptTemplate.from_template(\"You are {school} teacher. You answer in short sentences\")\n",
    "question_template = HumanMessagePromptTemplate.from_template(\"Tell me about {topics} in {points} points\")\n",
    "\n",
    "messages = [system_template, question_template]\n",
    "template = ChatPromptTemplate(messages=messages)\n",
    "\n",
    "fact_chain = template | llm | StrOutputParser()\n",
    "output_fact_chain = fact_chain.invoke({\n",
    "    \"school\": \"senior high school\",\n",
    "    \"topics\": \"solar system\",\n",
    "    \"points\": 3\n",
    "})\n",
    "print(output_fact_chain)"
   ],
   "id": "a2ae2e8550c5467c",
   "outputs": [
    {
     "name": "stdout",
     "output_type": "stream",
     "text": [
      "Here are three key points about the solar system:\n",
      "\n",
      "1. Our solar system consists of eight planets, including Earth.\n",
      "2. The sun is the center of our solar system and provides light and heat to the planets.\n",
      "3. Planets orbit around the sun due to its gravitational pull, which keeps them in their stable positions.\n"
     ]
    }
   ],
   "execution_count": 55
  },
  {
   "metadata": {
    "ExecuteTime": {
     "end_time": "2025-07-22T16:17:47.567955Z",
     "start_time": "2025-07-22T16:17:46.507964Z"
    }
   },
   "cell_type": "code",
   "source": [
    "question_template = HumanMessagePromptTemplate.from_template(\"Write a poem on {topics} in {sentences} sentences.\")\n",
    "\n",
    "messages = [system_template, question_template]\n",
    "template = ChatPromptTemplate(messages=messages)\n",
    "\n",
    "poem_chain = template | llm | StrOutputParser()\n",
    "output_poem_chain = poem_chain.invoke({\n",
    "    \"school\": \"senior high school\",\n",
    "    \"topics\": \"solar system\",\n",
    "    \"sentences\": 3\n",
    "})\n",
    "print(output_poem_chain)"
   ],
   "id": "e69844b1bea48237",
   "outputs": [
    {
     "name": "stdout",
     "output_type": "stream",
     "text": [
      "Eight planets dance around the sun,\n",
      "Mercury to Neptune, their journey's just begun.\n",
      "A celestial wonder, our universe has won.\n"
     ]
    }
   ],
   "execution_count": 56
  },
  {
   "metadata": {
    "ExecuteTime": {
     "end_time": "2025-07-22T16:17:47.572212Z",
     "start_time": "2025-07-22T16:17:47.568964Z"
    }
   },
   "cell_type": "code",
   "source": "from langchain_core.runnables import RunnableParallel",
   "id": "cfdb7ccef8d7777c",
   "outputs": [],
   "execution_count": 57
  },
  {
   "metadata": {
    "ExecuteTime": {
     "end_time": "2025-07-22T16:17:47.578228Z",
     "start_time": "2025-07-22T16:17:47.573220Z"
    }
   },
   "cell_type": "code",
   "source": [
    "parallel_chain = RunnableParallel(\n",
    "    fact=fact_chain, \n",
    "    poem=poem_chain\n",
    ")\n",
    "parallel_chain"
   ],
   "id": "f8b3807326d82b7f",
   "outputs": [
    {
     "data": {
      "text/plain": [
       "{\n",
       "  fact: ChatPromptTemplate(input_variables=['points', 'school', 'topics'], input_types={}, partial_variables={}, messages=[SystemMessagePromptTemplate(prompt=PromptTemplate(input_variables=['school'], input_types={}, partial_variables={}, template='You are {school} teacher. You answer in short sentences'), additional_kwargs={}), HumanMessagePromptTemplate(prompt=PromptTemplate(input_variables=['points', 'topics'], input_types={}, partial_variables={}, template='Tell me about {topics} in {points} points'), additional_kwargs={})])\n",
       "        | ChatOllama(model='llama3.2:latest', base_url='http://localhost:11434')\n",
       "        | StrOutputParser(),\n",
       "  poem: ChatPromptTemplate(input_variables=['school', 'sentences', 'topics'], input_types={}, partial_variables={}, messages=[SystemMessagePromptTemplate(prompt=PromptTemplate(input_variables=['school'], input_types={}, partial_variables={}, template='You are {school} teacher. You answer in short sentences'), additional_kwargs={}), HumanMessagePromptTemplate(prompt=PromptTemplate(input_variables=['sentences', 'topics'], input_types={}, partial_variables={}, template='Write a poem on {topics} in {sentences} sentences.'), additional_kwargs={})])\n",
       "        | ChatOllama(model='llama3.2:latest', base_url='http://localhost:11434')\n",
       "        | StrOutputParser()\n",
       "}"
      ]
     },
     "execution_count": 58,
     "metadata": {},
     "output_type": "execute_result"
    }
   ],
   "execution_count": 58
  },
  {
   "metadata": {
    "ExecuteTime": {
     "end_time": "2025-07-22T16:17:50.998692Z",
     "start_time": "2025-07-22T16:17:47.579240Z"
    }
   },
   "cell_type": "code",
   "source": [
    "parallel_chain_output = parallel_chain.invoke({\n",
    "    \"school\": \"senior high school\",\n",
    "    \"topics\": \"solar system\",\n",
    "    \"points\": 3,\n",
    "    \"sentences\": 3\n",
    "})\n",
    "\n",
    "print(parallel_chain_output[\"fact\"])\n",
    "print(\"\\n\\n\")\n",
    "print(parallel_chain_output[\"poem\"])"
   ],
   "id": "666d28b3653ca4c3",
   "outputs": [
    {
     "name": "stdout",
     "output_type": "stream",
     "text": [
      "Here are three key points about the solar system:\n",
      "\n",
      "1. The solar system consists of eight planets, including Earth.\n",
      "2. The sun is at the center and holds most of the mass in our solar system.\n",
      "3. Pluto was reclassified as a dwarf planet in 2006 by the International Astronomical Union (IAU).\n",
      "\n",
      "\n",
      "\n",
      "The sun shines bright at the center space,\n",
      "Eight planets orbit around with a steady pace,\n",
      "From Mercury to Neptune, each one has its own place.\n"
     ]
    }
   ],
   "execution_count": 59
  },
  {
   "metadata": {},
   "cell_type": "markdown",
   "source": [
    "## Router Chain\n",
    "- The router chain is used to **route the output of a previous runnable** to the next runnable based on the output of the previous runnable."
   ],
   "id": "bc501973d1c98f48"
  },
  {
   "metadata": {},
   "cell_type": "markdown",
   "source": "### General Chain to classify either being about positive or negative review",
   "id": "8aa33ff8556d2853"
  },
  {
   "metadata": {
    "ExecuteTime": {
     "end_time": "2025-07-22T16:17:56.352059Z",
     "start_time": "2025-07-22T16:17:55.933096Z"
    }
   },
   "cell_type": "code",
   "source": [
    "prompt = \"\"\"Given the user review below, classify it as either being about 'Positive' or 'Negative'.\n",
    "            Do not respond with more than one word.\n",
    "            \n",
    "            Review: {review}\n",
    "            Classification:\"\"\"\n",
    "\n",
    "general_template = ChatPromptTemplate.from_template(prompt)\n",
    "general_chain = general_template | llm | StrOutputParser()\n",
    "\n",
    "review = \"Thank you so much for providing such a great platform for learning. I am really happy with the service.\"\n",
    "general_chain.invoke({\n",
    "    \"review\": review\n",
    "})"
   ],
   "id": "22d96fd19843891e",
   "outputs": [
    {
     "data": {
      "text/plain": [
       "'Positive'"
      ]
     },
     "execution_count": 60,
     "metadata": {},
     "output_type": "execute_result"
    }
   ],
   "execution_count": 60
  },
  {
   "metadata": {},
   "cell_type": "markdown",
   "source": "### Positive Chain to handle positive review",
   "id": "fe6246a193abba42"
  },
  {
   "metadata": {
    "ExecuteTime": {
     "end_time": "2025-07-22T16:17:57.951842Z",
     "start_time": "2025-07-22T16:17:57.948224Z"
    }
   },
   "cell_type": "code",
   "source": [
    "positive_prompt = \"\"\"You are expert in writing reply for positive review.\n",
    "                     You need to encourage the user to share their experience on social media.\n",
    "                     \n",
    "                     Review: {review}\n",
    "                     Answer:\"\"\"\n",
    "\n",
    "positive_template = ChatPromptTemplate.from_template(positive_prompt)\n",
    "positive_chain = positive_template | llm | StrOutputParser()"
   ],
   "id": "96ae7da46643a061",
   "outputs": [],
   "execution_count": 61
  },
  {
   "metadata": {},
   "cell_type": "markdown",
   "source": "### Negative Chain to handle negative review",
   "id": "8884b38dbbead657"
  },
  {
   "metadata": {
    "ExecuteTime": {
     "end_time": "2025-07-22T16:17:59.437838Z",
     "start_time": "2025-07-22T16:17:59.434675Z"
    }
   },
   "cell_type": "code",
   "source": [
    "negative_prompt = \"\"\"You are expert in writing reply for negative review.\n",
    "                     You need first to apologize for the inconvenience caused to the user.\n",
    "                     You need to encourage the user to share their concern on following Email: 'cs@company.com'\n",
    "                     \n",
    "                     Review: {review}\n",
    "                     Answer:\"\"\"\n",
    "\n",
    "negative_template = ChatPromptTemplate.from_template(negative_prompt)\n",
    "negative_chain = negative_template | llm | StrOutputParser()"
   ],
   "id": "abf6fcb2695261b6",
   "outputs": [],
   "execution_count": 62
  },
  {
   "metadata": {},
   "cell_type": "markdown",
   "source": "### Route Function",
   "id": "c115b1a24147b10a"
  },
  {
   "metadata": {
    "ExecuteTime": {
     "end_time": "2025-07-22T16:18:00.135562Z",
     "start_time": "2025-07-22T16:18:00.132393Z"
    }
   },
   "cell_type": "code",
   "source": [
    "def route(info):\n",
    "    if \"positive\" in info['sentiment'].lower():\n",
    "        return positive_chain\n",
    "    else:\n",
    "        return negative_chain"
   ],
   "id": "bee94e00499a1a7c",
   "outputs": [],
   "execution_count": 63
  },
  {
   "metadata": {},
   "cell_type": "markdown",
   "source": "### Full Chain",
   "id": "c446e68eb530429a"
  },
  {
   "metadata": {
    "ExecuteTime": {
     "end_time": "2025-07-22T16:18:37.628637Z",
     "start_time": "2025-07-22T16:18:29.284773Z"
    }
   },
   "cell_type": "code",
   "source": [
    "from langchain_core.runnables import RunnableLambda\n",
    "\n",
    "review = \"Thank you so much for providing such a great platform for learning. I am really happy with the service.\"\n",
    "review = \"I am not happy with the service. It is not good.\"\n",
    "\n",
    "# RunnableLambda make our method as Langchain Runnable\n",
    "full_chain = { \"sentiment\": general_chain, 'review': lambda x: x['review'] } | RunnableLambda(route)\n",
    "full_chain_output = full_chain.invoke({\n",
    "    \"review\": review\n",
    "})\n",
    "\n",
    "print(full_chain_output)"
   ],
   "id": "84f3410a38988d97",
   "outputs": [
    {
     "name": "stdout",
     "output_type": "stream",
     "text": [
      "Here's a potential reply:\n",
      "\n",
      "\"Dear [Reviewer],\n",
      "\n",
      "I want to start by sincerely apologizing for the inconvenience you've experienced with our service. We're truly sorry that we haven't met your expectations, and for that, we're deeply regretful.\n",
      "\n",
      "At [Company Name], we take all feedback seriously and would like to understand more about your concerns. Could you please share some details about what led to your dissatisfaction? Your input will help us identify areas for improvement and work towards providing better services in the future.\n",
      "\n",
      "If you'd be willing, could you kindly reach out to us directly at cs@company.com so we can discuss this further? We value your feedback and would like to make things right.\n",
      "\n",
      "Thank you for taking the time to share your experience with us. We look forward to hearing from you soon.\n",
      "\n",
      "Best regards,\n",
      "[Your Name]\n",
      "Customer Support Team\"\n"
     ]
    }
   ],
   "execution_count": 65
  },
  {
   "metadata": {},
   "cell_type": "markdown",
   "source": [
    "## Custom Chain with RunnablePassThrough and RunnableLambda\n",
    "- This is useful for formatting or when you **need functionality not provided** by other Langchain components. and custom function used as Runnables are called RunnableLambdas. "
   ],
   "id": "f44b05cbcdcfe20c"
  },
  {
   "metadata": {
    "ExecuteTime": {
     "end_time": "2025-07-22T16:47:25.574567Z",
     "start_time": "2025-07-22T16:47:25.571613Z"
    }
   },
   "cell_type": "code",
   "source": "from langchain_core.runnables import RunnableLambda, RunnablePassthrough",
   "id": "5e1b1ef111645d7d",
   "outputs": [],
   "execution_count": 66
  },
  {
   "metadata": {
    "ExecuteTime": {
     "end_time": "2025-07-22T16:52:02.563262Z",
     "start_time": "2025-07-22T16:52:02.559266Z"
    }
   },
   "cell_type": "code",
   "source": [
    "def char_counts(text):\n",
    "    return len(text)\n",
    "\n",
    "def word_counts(text):\n",
    "    return len(text.split())\n",
    "\n",
    "prompt = ChatPromptTemplate.from_template(\"Explain these inputs in 5 sentences: {input1} and {input2}\")"
   ],
   "id": "63e57bffaee71486",
   "outputs": [],
   "execution_count": 70
  },
  {
   "metadata": {
    "ExecuteTime": {
     "end_time": "2025-07-22T16:52:10.084959Z",
     "start_time": "2025-07-22T16:52:03.271164Z"
    }
   },
   "cell_type": "code",
   "source": [
    "custom_chain = prompt | llm | StrOutputParser()\n",
    "custom_output = custom_chain.invoke({\n",
    "    \"input1\": \"Earth is planet\",\n",
    "    \"input2\": \"Sun is star\",\n",
    "})\n",
    "\n",
    "print(custom_output)"
   ],
   "id": "f3f236cbc677eec5",
   "outputs": [
    {
     "name": "stdout",
     "output_type": "stream",
     "text": [
      "The input states that the Earth is a planet, which means it is one of the celestial bodies that orbits around a larger body. The Sun, on the other hand, is identified as a star, indicating that it is a massive ball of hot, glowing gas that provides light and heat to our solar system. In this context, the distinction between a planet and a star highlights their unique characteristics. Planets are typically smaller and less luminous than stars, whereas planets like Earth are mostly composed of rock and metal, while stars like the Sun are primarily made up of hydrogen and helium. This input sets the stage for further discussion about the properties and behaviors of celestial bodies in our solar system.\n"
     ]
    }
   ],
   "execution_count": 71
  },
  {
   "metadata": {
    "ExecuteTime": {
     "end_time": "2025-07-22T16:53:29.940532Z",
     "start_time": "2025-07-22T16:53:22.479749Z"
    }
   },
   "cell_type": "code",
   "source": [
    "custom_chain = prompt | llm | StrOutputParser() | {\n",
    "    'char_counts': RunnableLambda(char_counts),\n",
    "    'word_counts': RunnableLambda(word_counts),\n",
    "}\n",
    "\n",
    "custom_output = custom_chain.invoke({\n",
    "    \"input1\": \"Earth is planet\",\n",
    "    \"input2\": \"Sun is star\",\n",
    "})\n",
    "\n",
    "print(custom_output)"
   ],
   "id": "cf6bf03c506734ac",
   "outputs": [
    {
     "name": "stdout",
     "output_type": "stream",
     "text": [
      "{'char_counts': 749, 'word_counts': 129}\n"
     ]
    }
   ],
   "execution_count": 72
  },
  {
   "metadata": {
    "ExecuteTime": {
     "end_time": "2025-07-22T16:54:28.886065Z",
     "start_time": "2025-07-22T16:54:17.287Z"
    }
   },
   "cell_type": "code",
   "source": [
    "custom_chain = prompt | llm | StrOutputParser() | {\n",
    "    'char_counts': RunnableLambda(char_counts),\n",
    "    'word_counts': RunnableLambda(word_counts),\n",
    "    'original_output': RunnablePassthrough() # Using this Runnable causes the original output to appear at the end of chain result\n",
    "}\n",
    "\n",
    "custom_output = custom_chain.invoke({\n",
    "    \"input1\": \"Earth is planet\",\n",
    "    \"input2\": \"Sun is star\",\n",
    "})\n",
    "\n",
    "print(custom_output)"
   ],
   "id": "df2b06959f38581e",
   "outputs": [
    {
     "name": "stdout",
     "output_type": "stream",
     "text": [
      "{'char_counts': 1433, 'word_counts': 232, 'original_output': \"Here are the explanations for each input in 5 sentences:\\n\\n**Earth:** The Earth is a celestial body that orbits around the Sun, making it one of the eight planets in our solar system. It's a rocky, terrestrial planet with a diverse range of landscapes and ecosystems, supporting a vast array of life forms. The Earth's atmosphere is composed of various gases, including oxygen, nitrogen, and carbon dioxide, which play crucial roles in regulating temperature and weather patterns. Our home planet has a solid surface, with mountains, oceans, continents, and forests, making it an incredible world to explore and study. From the majestic Himalayas to the vast Pacific Ocean, Earth is a remarkable and unique planet.\\n\\n**Sun:** The Sun is the star at the center of our solar system, a massive ball of hot, glowing gas that provides light, heat, and energy to our planet. Composed mostly of hydrogen and helium, the Sun's core is incredibly hot, with temperatures reaching over 15 million degrees Celsius. This intense heat energy is released in the form of electromagnetic radiation, including visible light and ultraviolet (UV) rays, which travel through space to reach Earth. The Sun's gravitational pull keeps our planet in orbit around it, maintaining a stable climate that allows life to thrive. Without the Sun's radiant energy, life on Earth would not be possible, making it an essential component of our solar system's ecosystem.\"}\n"
     ]
    }
   ],
   "execution_count": 73
  },
  {
   "metadata": {},
   "cell_type": "markdown",
   "source": "## Custom Chain using `@chain` Decorator",
   "id": "8fa7b1f312b978af"
  },
  {
   "metadata": {
    "ExecuteTime": {
     "end_time": "2025-07-22T16:57:06.991686Z",
     "start_time": "2025-07-22T16:57:06.988437Z"
    }
   },
   "cell_type": "code",
   "source": "from langchain_core.runnables import chain",
   "id": "4ff9d6e77849c451",
   "outputs": [],
   "execution_count": 74
  },
  {
   "metadata": {
    "ExecuteTime": {
     "end_time": "2025-07-22T17:00:56.330707Z",
     "start_time": "2025-07-22T17:00:49.548707Z"
    }
   },
   "cell_type": "code",
   "source": [
    "# The chain decorator will convert the method into a chain\n",
    "@chain\n",
    "def custom_chain(params):\n",
    "    # Parallel Runnable\n",
    "    return {\n",
    "        \"fact\": fact_chain.invoke(params),\n",
    "        \"poem\": poem_chain.invoke(params)\n",
    "    }\n",
    "\n",
    "params = {\n",
    "    \"school\": \"senior high school\",\n",
    "    \"topics\": \"big bang\",\n",
    "    \"points\": 2,\n",
    "    \"sentences\": 2\n",
    "}\n",
    "\n",
    "output = custom_chain.invoke(params)\n",
    "print(output['fact'])\n",
    "print(\"\\n\\n\")\n",
    "print(output['poem'])"
   ],
   "id": "3990e8b1ba98df2",
   "outputs": [
    {
     "name": "stdout",
     "output_type": "stream",
     "text": [
      "Here's the Big Bang in 2 points:\n",
      "\n",
      "1. The universe began with an extremely hot and dense point, approximately 13.8 billion years ago.\n",
      "2. This singularity rapidly expanded into space, cooling down and forming the stars, galaxies, and planets we see today.\n",
      "\n",
      "\n",
      "\n",
      "In the beginning, a single point exploded wide,\n",
      "Creating space and time, the universe did reside.\n"
     ]
    }
   ],
   "execution_count": 76
  },
  {
   "metadata": {},
   "cell_type": "code",
   "outputs": [],
   "execution_count": null,
   "source": "",
   "id": "569b29c7843eb655"
  }
 ],
 "metadata": {
  "kernelspec": {
   "display_name": "Python 3",
   "language": "python",
   "name": "python3"
  },
  "language_info": {
   "codemirror_mode": {
    "name": "ipython",
    "version": 2
   },
   "file_extension": ".py",
   "mimetype": "text/x-python",
   "name": "python",
   "nbconvert_exporter": "python",
   "pygments_lexer": "ipython2",
   "version": "2.7.6"
  }
 },
 "nbformat": 4,
 "nbformat_minor": 5
}
