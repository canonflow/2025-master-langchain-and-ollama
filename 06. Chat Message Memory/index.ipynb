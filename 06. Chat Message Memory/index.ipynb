{
 "cells": [
  {
   "metadata": {},
   "cell_type": "markdown",
   "source": [
    "## Chat Message History\n",
    "- We need to store the historical chat messages in efficient way.\n",
    "- It wraps another Runnable and manages the chat message history for it.\n",
    "- Specifically, it loads previous messages in the conversation **BEFORE** passing it to the Runnable, and it saves the generated response as a message **AFTER** calling the Runnable.\n",
    "- This class also enables multiple conversations by saving each conversation with a **session_id**\n",
    "- It then expects a `session_id` to be **passed in the config** when calling the Runnable, and uses that lo took up **the relevant conversation history**.\n",
    "\n",
    "\n",
    "<br />\n",
    "\n",
    "\n",
    "<img src=\"../ASSETS/chat-message-history-1.png\" alt=\"Chat Message History\" width=\"1250\" style=\"max-width: 100%;\" />"
   ],
   "id": "b1754adc493ccb31"
  },
  {
   "metadata": {},
   "cell_type": "markdown",
   "source": "### Simple Chain",
   "id": "d80d231385fe8f8b"
  },
  {
   "cell_type": "code",
   "id": "initial_id",
   "metadata": {
    "collapsed": true,
    "ExecuteTime": {
     "end_time": "2025-07-23T15:14:38.962317Z",
     "start_time": "2025-07-23T15:14:34.887236Z"
    }
   },
   "source": [
    "from langchain_core.prompts import (\n",
    "    SystemMessagePromptTemplate,\n",
    "    HumanMessagePromptTemplate,\n",
    "    PromptTemplate,\n",
    "    ChatPromptTemplate\n",
    ")\n",
    "from langchain_ollama import OllamaLLM\n",
    "from langchain_core.output_parsers import StrOutputParser\n",
    "import os\n",
    "from dotenv import load_dotenv\n",
    "\n",
    "load_dotenv(\"./../.env\")\n",
    "\n",
    "base_url = os.getenv(\"OLLAMA_BASE_URL\")\n",
    "model = \"llama3.2:latest\"\n",
    "\n",
    "llm = OllamaLLM(base_url=base_url, model=model)\n",
    "template = ChatPromptTemplate.from_template(\"{prompt}\")\n",
    "chain = template | llm | StrOutputParser()\n",
    "\n",
    "about = \"My name is Nathan Garzya. I study at the University of Surabaya.\"\n",
    "chain.invoke({\n",
    "    \"prompt\": about\n",
    "})"
   ],
   "outputs": [
    {
     "data": {
      "text/plain": [
       "\"Hi Nathan, it's nice to meet you! Congratulations on your studies at the University of Surabaya. How are things going so far? Are you enjoying your time in school and exploring the city of Surabaya?\""
      ]
     },
     "execution_count": 4,
     "metadata": {},
     "output_type": "execute_result"
    }
   ],
   "execution_count": 4
  },
  {
   "metadata": {
    "ExecuteTime": {
     "end_time": "2025-07-23T15:15:51.839645Z",
     "start_time": "2025-07-23T15:15:47.067501Z"
    }
   },
   "cell_type": "code",
   "source": [
    "prompt = \"What is my name?\"\n",
    "chain.invoke({\n",
    "    \"prompt\": prompt\n",
    "})"
   ],
   "id": "d179a94ba23c5305",
   "outputs": [
    {
     "data": {
      "text/plain": [
       "\"I don't have any information about your identity or personal details. I'm a large language model, I don't have the ability to know or recall individual user information. Each time you interact with me, it's a new conversation and I start from a blank slate. If you'd like to share your name with me, I can use it to personalize our conversation!\""
      ]
     },
     "execution_count": 6,
     "metadata": {},
     "output_type": "execute_result"
    }
   ],
   "execution_count": 6
  },
  {
   "metadata": {},
   "cell_type": "markdown",
   "source": [
    "### Runnable with Message History\n",
    "In order to properly set this up, there are 2 main things to consider:\n",
    "- How to store and load messages?\n",
    "- What is the underlying Runnable you are wrapping and what are its inputs/outputs?"
   ],
   "id": "9aa107f6ed7afe47"
  },
  {
   "metadata": {
    "ExecuteTime": {
     "end_time": "2025-07-23T15:22:43.162184Z",
     "start_time": "2025-07-23T15:22:42.737648Z"
    }
   },
   "cell_type": "code",
   "source": [
    "from langchain_core.messages import HumanMessage\n",
    "from langchain_core.runnables.history import RunnableWithMessageHistory\n",
    "from langchain_community.chat_message_histories import SQLChatMessageHistory"
   ],
   "id": "d71c9967f6732d28",
   "outputs": [],
   "execution_count": 7
  },
  {
   "metadata": {
    "ExecuteTime": {
     "end_time": "2025-07-23T15:30:32.079178Z",
     "start_time": "2025-07-23T15:30:32.074271Z"
    }
   },
   "cell_type": "code",
   "source": [
    "def get_session_history(session_id):\n",
    "    return SQLChatMessageHistory(\n",
    "        session_id=session_id,\n",
    "        connection_string=\"sqlite:///chat_history.db\"\n",
    "    )"
   ],
   "id": "2f3c73c7823f4f23",
   "outputs": [],
   "execution_count": 11
  },
  {
   "metadata": {
    "ExecuteTime": {
     "end_time": "2025-07-23T15:30:32.556751Z",
     "start_time": "2025-07-23T15:30:32.548946Z"
    }
   },
   "cell_type": "code",
   "source": [
    "# Create Runnable with Message History\n",
    "runnable_with_history = RunnableWithMessageHistory(\n",
    "    chain,\n",
    "    get_session_history\n",
    ")"
   ],
   "id": "34345d1b0d67a706",
   "outputs": [],
   "execution_count": 12
  },
  {
   "metadata": {
    "ExecuteTime": {
     "end_time": "2025-07-23T15:30:33.093926Z",
     "start_time": "2025-07-23T15:30:33.076933Z"
    }
   },
   "cell_type": "code",
   "source": [
    "# Get History messages from user_id\n",
    "user_id = \"nathan_garzya\"\n",
    "history = get_session_history(user_id)\n",
    "history.get_messages()"
   ],
   "id": "3eb48854a2c7c9fe",
   "outputs": [
    {
     "data": {
      "text/plain": [
       "[]"
      ]
     },
     "execution_count": 13,
     "metadata": {},
     "output_type": "execute_result"
    }
   ],
   "execution_count": 13
  },
  {
   "metadata": {
    "ExecuteTime": {
     "end_time": "2025-07-23T15:31:32.447851Z",
     "start_time": "2025-07-23T15:31:32.443001Z"
    }
   },
   "cell_type": "code",
   "source": [
    "# Clear Message History\n",
    "history.clear()"
   ],
   "id": "a663a304993b7d7e",
   "outputs": [],
   "execution_count": 14
  },
  {
   "metadata": {
    "ExecuteTime": {
     "end_time": "2025-07-23T15:34:44.186705Z",
     "start_time": "2025-07-23T15:34:36.811238Z"
    }
   },
   "cell_type": "code",
   "source": [
    "runnable_with_history.invoke(\n",
    "    [HumanMessage(content=about)],\n",
    "    config={\n",
    "        \"configurable\": {\n",
    "            \"session_id\": user_id\n",
    "        }\n",
    "    }\n",
    ")"
   ],
   "id": "10dbbd546fcaaf86",
   "outputs": [
    {
     "data": {
      "text/plain": [
       "\"Hello Nathan, nice to meet you. How's your experience been at the University of Surabaya so far?\""
      ]
     },
     "execution_count": 16,
     "metadata": {},
     "output_type": "execute_result"
    }
   ],
   "execution_count": 16
  },
  {
   "metadata": {
    "ExecuteTime": {
     "end_time": "2025-07-23T15:34:53.306575Z",
     "start_time": "2025-07-23T15:34:53.301343Z"
    }
   },
   "cell_type": "code",
   "source": "history.get_messages()",
   "id": "b8001f5f573922da",
   "outputs": [
    {
     "data": {
      "text/plain": [
       "[HumanMessage(content='My name is Nathan Garzya. I study at the University of Surabaya.', additional_kwargs={}, response_metadata={}),\n",
       " AIMessage(content=\"Hello Nathan, nice to meet you. How's your experience been at the University of Surabaya so far?\", additional_kwargs={}, response_metadata={})]"
      ]
     },
     "execution_count": 17,
     "metadata": {},
     "output_type": "execute_result"
    }
   ],
   "execution_count": 17
  },
  {
   "metadata": {
    "ExecuteTime": {
     "end_time": "2025-07-23T15:37:41.767272Z",
     "start_time": "2025-07-23T15:37:34.120799Z"
    }
   },
   "cell_type": "code",
   "source": [
    "runnable_with_history.invoke(\n",
    "    [HumanMessage(content=\"What is my name?\")],\n",
    "    config={\n",
    "        \"configurable\": {\n",
    "            \"session_id\": user_id\n",
    "        }\n",
    "    }\n",
    ")\n",
    "# But it will produce incorrect answer\n",
    "# It was not able to take historical message correctly for the context"
   ],
   "id": "730b926bbfcd4465",
   "outputs": [
    {
     "data": {
      "text/plain": [
       "'It appears that we have a conversation log between a human user and an AI system.\\n\\nHere\\'s a breakdown of the conversation:\\n\\n1. The human user introduces themselves, stating their name as Nathan Garzya and mentioning that they study at the University of Surabaya.\\n2. The AI responds with a friendly message, asking how the human\\'s experience has been at the university so far.\\n3. The human user asks for clarification on what is being asked - \"What is my name?\".\\n\\nTo provide a helpful response, I\\'ll add a new message to the conversation:\\n\\nAIMessage(content=\"I apologize for not clarifying that earlier! Your name is Nathan Garzya, and you mentioned it earlier in our conversation.\", additional_kwargs={}, response_metadata={})\\n\\nThis response acknowledges the human\\'s question and reiterates their introduction.'"
      ]
     },
     "execution_count": 18,
     "metadata": {},
     "output_type": "execute_result"
    }
   ],
   "execution_count": 18
  },
  {
   "metadata": {
    "ExecuteTime": {
     "end_time": "2025-07-23T15:38:00.097693Z",
     "start_time": "2025-07-23T15:38:00.091471Z"
    }
   },
   "cell_type": "code",
   "source": "history.get_messages()",
   "id": "f2d2d377057f81ad",
   "outputs": [
    {
     "data": {
      "text/plain": [
       "[HumanMessage(content='My name is Nathan Garzya. I study at the University of Surabaya.', additional_kwargs={}, response_metadata={}),\n",
       " AIMessage(content=\"Hello Nathan, nice to meet you. How's your experience been at the University of Surabaya so far?\", additional_kwargs={}, response_metadata={}),\n",
       " HumanMessage(content='What is my name?', additional_kwargs={}, response_metadata={}),\n",
       " AIMessage(content='It appears that we have a conversation log between a human user and an AI system.\\n\\nHere\\'s a breakdown of the conversation:\\n\\n1. The human user introduces themselves, stating their name as Nathan Garzya and mentioning that they study at the University of Surabaya.\\n2. The AI responds with a friendly message, asking how the human\\'s experience has been at the university so far.\\n3. The human user asks for clarification on what is being asked - \"What is my name?\".\\n\\nTo provide a helpful response, I\\'ll add a new message to the conversation:\\n\\nAIMessage(content=\"I apologize for not clarifying that earlier! Your name is Nathan Garzya, and you mentioned it earlier in our conversation.\", additional_kwargs={}, response_metadata={})\\n\\nThis response acknowledges the human\\'s question and reiterates their introduction.', additional_kwargs={}, response_metadata={})]"
      ]
     },
     "execution_count": 19,
     "metadata": {},
     "output_type": "execute_result"
    }
   ],
   "execution_count": 19
  },
  {
   "metadata": {},
   "cell_type": "markdown",
   "source": "### Message History with Dictionary Like Inputs",
   "id": "94354688b58f7727"
  },
  {
   "metadata": {
    "ExecuteTime": {
     "end_time": "2025-07-23T15:41:21.184596Z",
     "start_time": "2025-07-23T15:41:21.169359Z"
    }
   },
   "cell_type": "code",
   "source": [
    "from langchain_core.prompts import (\n",
    "    SystemMessagePromptTemplate,\n",
    "    HumanMessagePromptTemplate,\n",
    "    ChatPromptTemplate,\n",
    "    MessagesPlaceholder\n",
    ")\n",
    "\n",
    "from langchain_core.output_parsers import StrOutputParser\n",
    "from langchain_core.messages import HumanMessage, SystemMessage"
   ],
   "id": "9451a7a9beab97e8",
   "outputs": [],
   "execution_count": 21
  },
  {
   "metadata": {
    "ExecuteTime": {
     "end_time": "2025-07-23T15:45:40.687283Z",
     "start_time": "2025-07-23T15:45:40.680572Z"
    }
   },
   "cell_type": "code",
   "source": [
    "# Get the system message first\n",
    "system = SystemMessage(content=\"You are helpful assistant.\")\n",
    "human = HumanMessagePromptTemplate.from_template(\"{input}\")\n",
    "\n",
    "messages = [\n",
    "    system, \n",
    "    MessagesPlaceholder(variable_name='history'), \n",
    "    human\n",
    "]\n",
    "\n",
    "prompt = ChatPromptTemplate(messages=messages)\n",
    "chain = prompt | llm | StrOutputParser()\n",
    "\n",
    "runnable_with_history = RunnableWithMessageHistory(\n",
    "    chain, \n",
    "    get_session_history,\n",
    "    input_messages_key='input',\n",
    "    history_messages_key='history'\n",
    ")"
   ],
   "id": "2ed523e5ecaa754",
   "outputs": [],
   "execution_count": 22
  },
  {
   "metadata": {
    "ExecuteTime": {
     "end_time": "2025-07-23T15:49:20.175718Z",
     "start_time": "2025-07-23T15:49:20.168155Z"
    }
   },
   "cell_type": "code",
   "source": [
    "def chat_with_llm(session_id, input):\n",
    "    output = runnable_with_history.invoke(\n",
    "        {\n",
    "            \"input\": input\n",
    "        },\n",
    "        config={\n",
    "            \"configurable\": {\n",
    "                \"session_id\": session_id\n",
    "            }\n",
    "        }\n",
    "    )\n",
    "    \n",
    "    return output"
   ],
   "id": "810151fb39810d21",
   "outputs": [],
   "execution_count": 24
  },
  {
   "metadata": {
    "ExecuteTime": {
     "end_time": "2025-07-23T15:49:28.964780Z",
     "start_time": "2025-07-23T15:49:21.059872Z"
    }
   },
   "cell_type": "code",
   "source": [
    "new_user_id = \"canonflow\"\n",
    "chat_with_llm(new_user_id, about)"
   ],
   "id": "4b37f3191fc13754",
   "outputs": [
    {
     "data": {
      "text/plain": [
       "\"Hello Nathan! It's nice to meet you. Congratulations on studying at the University of Surabaya, one of Indonesia's top universities!\\n\\nHow can I assist you today? Do you need help with anything related to your studies, research, or perhaps looking for information about the university or surrounding area?\""
      ]
     },
     "execution_count": 25,
     "metadata": {},
     "output_type": "execute_result"
    }
   ],
   "execution_count": 25
  },
  {
   "metadata": {
    "ExecuteTime": {
     "end_time": "2025-07-23T15:50:24.108280Z",
     "start_time": "2025-07-23T15:50:18.403601Z"
    }
   },
   "cell_type": "code",
   "source": "chat_with_llm(new_user_id, \"What is my name?\")",
   "id": "f7b361dee96c655f",
   "outputs": [
    {
     "data": {
      "text/plain": [
       "\"Hello Nathan! Don't worry, I remember - your name is Nathan Garzya. You're a student at the University of Surabaya.\\n\\nYou asked how I can assist you today. Well, feel free to ask me anything related to your studies, research, or even looking for information about the university or its surroundings. I'm here to help!\\n\\nAre you looking for something specific, like academic resources, campus facilities, or perhaps recommendations on things to do in Surabaya? Or is there something else on your mind?\""
      ]
     },
     "execution_count": 26,
     "metadata": {},
     "output_type": "execute_result"
    }
   ],
   "execution_count": 26
  },
  {
   "metadata": {
    "ExecuteTime": {
     "end_time": "2025-07-23T15:51:40.411904Z",
     "start_time": "2025-07-23T15:51:40.400238Z"
    }
   },
   "cell_type": "code",
   "source": "get_session_history(new_user_id).get_messages()",
   "id": "264658e6f120a4a7",
   "outputs": [
    {
     "data": {
      "text/plain": [
       "[HumanMessage(content='My name is Nathan Garzya. I study at the University of Surabaya.', additional_kwargs={}, response_metadata={}),\n",
       " AIMessage(content=\"Hello Nathan! It's nice to meet you. Congratulations on studying at the University of Surabaya, one of Indonesia's top universities!\\n\\nHow can I assist you today? Do you need help with anything related to your studies, research, or perhaps looking for information about the university or surrounding area?\", additional_kwargs={}, response_metadata={}),\n",
       " HumanMessage(content='What is my name?', additional_kwargs={}, response_metadata={}),\n",
       " AIMessage(content=\"Hello Nathan! Don't worry, I remember - your name is Nathan Garzya. You're a student at the University of Surabaya.\\n\\nYou asked how I can assist you today. Well, feel free to ask me anything related to your studies, research, or even looking for information about the university or its surroundings. I'm here to help!\\n\\nAre you looking for something specific, like academic resources, campus facilities, or perhaps recommendations on things to do in Surabaya? Or is there something else on your mind?\", additional_kwargs={}, response_metadata={})]"
      ]
     },
     "execution_count": 28,
     "metadata": {},
     "output_type": "execute_result"
    }
   ],
   "execution_count": 28
  }
 ],
 "metadata": {
  "kernelspec": {
   "display_name": "Python 3",
   "language": "python",
   "name": "python3"
  },
  "language_info": {
   "codemirror_mode": {
    "name": "ipython",
    "version": 2
   },
   "file_extension": ".py",
   "mimetype": "text/x-python",
   "name": "python",
   "nbconvert_exporter": "python",
   "pygments_lexer": "ipython2",
   "version": "2.7.6"
  }
 },
 "nbformat": 4,
 "nbformat_minor": 5
}
